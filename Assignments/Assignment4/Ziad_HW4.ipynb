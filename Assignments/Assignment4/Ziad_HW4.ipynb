{
  "nbformat": 4,
  "nbformat_minor": 0,
  "metadata": {
    "colab": {
      "provenance": [],
      "gpuType": "T4"
    },
    "kernelspec": {
      "name": "python3",
      "display_name": "Python 3"
    },
    "language_info": {
      "name": "python"
    }
  },
  "cells": [
    {
      "cell_type": "code",
      "source": [
        "#@title Install Dependencies\n",
        "import sys, os\n",
        "if 'google.colab' in sys.modules and not os.path.exists('.setup_complete'):\n",
        "    !pip install -q gymnasium\n",
        "    !pip install moviepy\n",
        "    !apt install ffmpeg\n",
        "    !pip install imageio-ffmpeg\n",
        "    !touch .setup_complete\n",
        "\n",
        "# This code creates a virtual display to draw game images on.\n",
        "# It will have no effect if your machine has a monitor.\n",
        "if type(os.environ.get(\"DISPLAY\")) is not str or len(os.environ.get(\"DISPLAY\")) == 0:\n",
        "    !bash ../xvfb start\n",
        "    os.environ['DISPLAY'] = ':1'"
      ],
      "metadata": {
        "id": "ibj8UOThq7dU",
        "colab": {
          "base_uri": "https://localhost:8080/"
        },
        "outputId": "5db86e63-89b6-42ea-8f61-2c879edfca5f"
      },
      "execution_count": 1,
      "outputs": [
        {
          "output_type": "stream",
          "name": "stdout",
          "text": [
            "\u001b[?25l     \u001b[90m━━━━━━━━━━━━━━━━━━━━━━━━━━━━━━━━━━━━━━━━\u001b[0m \u001b[32m0.0/953.9 kB\u001b[0m \u001b[31m?\u001b[0m eta \u001b[36m-:--:--\u001b[0m\r\u001b[2K     \u001b[91m━━━━━━\u001b[0m\u001b[90m╺\u001b[0m\u001b[90m━━━━━━━━━━━━━━━━━━━━━━━━━━━━━━━━━\u001b[0m \u001b[32m143.4/953.9 kB\u001b[0m \u001b[31m4.0 MB/s\u001b[0m eta \u001b[36m0:00:01\u001b[0m\r\u001b[2K     \u001b[91m━━━━━━━━━━━━━━━━━━━━\u001b[0m\u001b[90m╺\u001b[0m\u001b[90m━━━━━━━━━━━━━━━━━━━\u001b[0m \u001b[32m481.3/953.9 kB\u001b[0m \u001b[31m6.7 MB/s\u001b[0m eta \u001b[36m0:00:01\u001b[0m\r\u001b[2K     \u001b[91m━━━━━━━━━━━━━━━━━━━━━━━━━━━━━━━━━━━━\u001b[0m\u001b[90m╺\u001b[0m\u001b[90m━━━\u001b[0m \u001b[32m870.4/953.9 kB\u001b[0m \u001b[31m8.1 MB/s\u001b[0m eta \u001b[36m0:00:01\u001b[0m\r\u001b[2K     \u001b[90m━━━━━━━━━━━━━━━━━━━━━━━━━━━━━━━━━━━━━━━━\u001b[0m \u001b[32m953.9/953.9 kB\u001b[0m \u001b[31m7.1 MB/s\u001b[0m eta \u001b[36m0:00:00\u001b[0m\n",
            "\u001b[?25hRequirement already satisfied: moviepy in /usr/local/lib/python3.10/dist-packages (1.0.3)\n",
            "Requirement already satisfied: decorator<5.0,>=4.0.2 in /usr/local/lib/python3.10/dist-packages (from moviepy) (4.4.2)\n",
            "Requirement already satisfied: tqdm<5.0,>=4.11.2 in /usr/local/lib/python3.10/dist-packages (from moviepy) (4.66.2)\n",
            "Requirement already satisfied: requests<3.0,>=2.8.1 in /usr/local/lib/python3.10/dist-packages (from moviepy) (2.31.0)\n",
            "Requirement already satisfied: proglog<=1.0.0 in /usr/local/lib/python3.10/dist-packages (from moviepy) (0.1.10)\n",
            "Requirement already satisfied: numpy>=1.17.3 in /usr/local/lib/python3.10/dist-packages (from moviepy) (1.25.2)\n",
            "Requirement already satisfied: imageio<3.0,>=2.5 in /usr/local/lib/python3.10/dist-packages (from moviepy) (2.31.6)\n",
            "Requirement already satisfied: imageio-ffmpeg>=0.2.0 in /usr/local/lib/python3.10/dist-packages (from moviepy) (0.4.9)\n",
            "Requirement already satisfied: pillow<10.1.0,>=8.3.2 in /usr/local/lib/python3.10/dist-packages (from imageio<3.0,>=2.5->moviepy) (9.4.0)\n",
            "Requirement already satisfied: setuptools in /usr/local/lib/python3.10/dist-packages (from imageio-ffmpeg>=0.2.0->moviepy) (67.7.2)\n",
            "Requirement already satisfied: charset-normalizer<4,>=2 in /usr/local/lib/python3.10/dist-packages (from requests<3.0,>=2.8.1->moviepy) (3.3.2)\n",
            "Requirement already satisfied: idna<4,>=2.5 in /usr/local/lib/python3.10/dist-packages (from requests<3.0,>=2.8.1->moviepy) (3.6)\n",
            "Requirement already satisfied: urllib3<3,>=1.21.1 in /usr/local/lib/python3.10/dist-packages (from requests<3.0,>=2.8.1->moviepy) (2.0.7)\n",
            "Requirement already satisfied: certifi>=2017.4.17 in /usr/local/lib/python3.10/dist-packages (from requests<3.0,>=2.8.1->moviepy) (2024.2.2)\n",
            "Reading package lists... Done\n",
            "Building dependency tree... Done\n",
            "Reading state information... Done\n",
            "ffmpeg is already the newest version (7:4.4.2-0ubuntu0.22.04.1).\n",
            "0 upgraded, 0 newly installed, 0 to remove and 38 not upgraded.\n",
            "Requirement already satisfied: imageio-ffmpeg in /usr/local/lib/python3.10/dist-packages (0.4.9)\n",
            "Requirement already satisfied: setuptools in /usr/local/lib/python3.10/dist-packages (from imageio-ffmpeg) (67.7.2)\n",
            "bash: ../xvfb: No such file or directory\n"
          ]
        }
      ]
    },
    {
      "cell_type": "markdown",
      "source": [
        "# OpenAI Gym"
      ],
      "metadata": {
        "id": "2QE1cUd0jjl4"
      }
    },
    {
      "cell_type": "markdown",
      "source": [
        "OpenAI Gym, often referred to as \"Gym\", is a toolkit for developing and comparing RL algorithms. Gym provides a collection of environments with a standardized interface, making it easy for researchers and developers to experiment with and evaluate different RL algorithms. These environments cover a wide range of tasks, from simple toy problems to complex simulations and they allow users to develop and test their RL agents without having to implement the environment themselves. The toolkit is widely used in the field of ML and RL for experimentation and benchmarking purposes."
      ],
      "metadata": {
        "id": "R0pvdQuikKaB"
      }
    },
    {
      "cell_type": "markdown",
      "source": [
        "# Classic Control Environments"
      ],
      "metadata": {
        "id": "vKumHRyHiDzT"
      }
    },
    {
      "cell_type": "markdown",
      "source": [
        "CartPole is part of [Classic Control Environments](https://www.gymlibrary.dev/environments/classic_control/), which include five classic control environments, i.e. Acrobot, CartPole, Mountain Car, Continuous Mountain Car, and Pendulum. You can access that first link for general information. Among Gym environments, this set of environments is among the easiest to be solved by a policy.  "
      ],
      "metadata": {
        "id": "_kOUjeGRiXVq"
      }
    },
    {
      "cell_type": "markdown",
      "source": [
        "# CartPole Environment"
      ],
      "metadata": {
        "id": "rZ1ag1Egmf8r"
      }
    },
    {
      "cell_type": "markdown",
      "source": [
        "This environment corresponds to the version of Michie and Chambers' pole balancing problem, e.g. [Barto, Sutton, and Anderson (1983)](https://ieeexplore.ieee.org/document/6313077)"
      ],
      "metadata": {
        "id": "CvXdPEAInnYr"
      }
    },
    {
      "cell_type": "code",
      "source": [
        "from IPython.display import HTML\n",
        "\n",
        "gif_url = 'https://www.gymlibrary.dev/_images/cart_pole.gif'\n",
        "\n",
        "html_code = f'<img src=\"{gif_url}\" alt=\"Your GIF\">'\n",
        "\n",
        "HTML(html_code)"
      ],
      "metadata": {
        "colab": {
          "base_uri": "https://localhost:8080/",
          "height": 421
        },
        "id": "b8hLIK7ynZxS",
        "outputId": "9e849822-65fd-4395-cb84-c9b716b9568d"
      },
      "execution_count": 2,
      "outputs": [
        {
          "output_type": "execute_result",
          "data": {
            "text/plain": [
              "<IPython.core.display.HTML object>"
            ],
            "text/html": [
              "<img src=\"https://www.gymlibrary.dev/_images/cart_pole.gif\" alt=\"Your GIF\">"
            ]
          },
          "metadata": {},
          "execution_count": 2
        }
      ]
    },
    {
      "cell_type": "markdown",
      "source": [
        "A pole is attached by an un-actuated joint to a cart, which moves along a frictionless track. The pendulum is placed upright in the track and the goal is to balance the pole by applying forces in the left and right directions on the cart. The action is an `ndarray` with shape `(1, )` which can take values `{0,1}` indicating the direction of the fixed force the cart is pushed, with `0` indicating a push to the left and `1` indicating a push to the right. The state space is an `ndarray` with shape `(4, )` with the values corresponding to the following positions and velocities:\n",
        "\n",
        "\n",
        "0.   Cart Position\n",
        "1.   Cart Velocity\n",
        "2.   Pole Angle\n",
        "3.   Pole Angular Velocity\n",
        "\n",
        "Since our goal is to keep the pole upright for as long as possible, a reward of `+1` is received for each step taken, including the termination step.\n",
        "\n",
        "Please refer to [official documention](https://www.gymlibrary.dev/environments/classic_control/cart_pole/) for the ranges that denote the possible values for the state space coordinates listed above. Despite those, an episode terminates if Cart Position (index 0) falls out of the `(-2.4, 2.4)` range. Also, an episode terminates if Pole Angular Velocity (index 4) is not in the range of $\\pm 12^{\\circ}$. The threshold for received rewards is `475`, which means that the environment CartPole-v1 considers an episode as \"solved\" if the total cumulative reward exceeds or equals `475`. Reaching an average reward per episode above this threshold indicates that the agent is performing well and has learned a suitable policy for pole-balancing. If the episode length is greater than `500`, an episode ends too."
      ],
      "metadata": {
        "id": "24lQPN4dqH_E"
      }
    },
    {
      "cell_type": "code",
      "source": [
        "import gymnasium as gym\n",
        "import numpy as np\n",
        "import matplotlib.pyplot as plt\n",
        "%matplotlib inline\n",
        "import torch\n",
        "import torch.nn.functional as F\n",
        "import torch.optim as optim"
      ],
      "metadata": {
        "id": "kbrol8R9iU3b"
      },
      "execution_count": 3,
      "outputs": []
    },
    {
      "cell_type": "code",
      "source": [
        "# also you need to install ffmpeg if not installed\n",
        "# for MacOS: ! brew install ffmpeg"
      ],
      "metadata": {
        "id": "Av5dom0rqzkB"
      },
      "execution_count": 4,
      "outputs": []
    },
    {
      "cell_type": "markdown",
      "source": [
        "By running the cell below we create a gym environment for the CartPole-v1 task, we initialize the environment and obtain an initial state. Moreover, we retrieve the number of available actions and the dimension of the state space. Finally, we display the initial rendering of the CartPole-v1 environment. After the `print()` statements are displayed, notice that the action space and state space dimensions are in accordance with those described above and in the official documentation. Also, observe that the initial state has coordinates that all lie between `(-0.05, 0.05)`, which is also in accordance with official documentation as all state space coordinates are assigned a uniformly chosen random value from the aforementioned interval."
      ],
      "metadata": {
        "id": "Qge_tcFfvCpB"
      }
    },
    {
      "cell_type": "code",
      "source": [
        "env = gym.make(\"CartPole-v1\", render_mode=\"rgb_array\")\n",
        "\n",
        "# gym compatibility: unwrap TimeLimit\n",
        "if hasattr(env, '_max_episode_steps'):\n",
        "    env = env.env\n",
        "\n",
        "# initialize the environment and obtain the initial state\n",
        "env.reset()\n",
        "print(\"Initial State:\", env.reset())\n",
        "\n",
        "n_actions = env.action_space.n\n",
        "print(\"Action Space Dimension:\", n_actions)\n",
        "\n",
        "state_dim = env.observation_space.shape\n",
        "print(\"State Space Dimension:\", state_dim)\n",
        "\n",
        "plt.imshow(env.render())"
      ],
      "metadata": {
        "colab": {
          "base_uri": "https://localhost:8080/",
          "height": 467
        },
        "id": "zHOpnGxSrdRQ",
        "outputId": "4eea88ee-4d74-4fc4-e436-0ae63f51980c"
      },
      "execution_count": 5,
      "outputs": [
        {
          "output_type": "stream",
          "name": "stdout",
          "text": [
            "Initial State: (array([ 0.04148834,  0.03339899, -0.00318526,  0.00517666], dtype=float32), {})\n",
            "Action Space Dimension: 2\n",
            "State Space Dimension: (4,)\n"
          ]
        },
        {
          "output_type": "execute_result",
          "data": {
            "text/plain": [
              "<matplotlib.image.AxesImage at 0x7a4b7d46a9e0>"
            ]
          },
          "metadata": {},
          "execution_count": 5
        },
        {
          "output_type": "display_data",
          "data": {
            "text/plain": [
              "<Figure size 640x480 with 1 Axes>"
            ],
            "image/png": "[encoded data removed]"
          },
          "metadata": {}
        }
      ]
    },
    {
      "cell_type": "markdown",
      "source": [
        "# Build the Policy Network for REINFORCE"
      ],
      "metadata": {
        "id": "0szsha6kI3B4"
      }
    },
    {
      "cell_type": "markdown",
      "source": [
        "In this section, your task is to build a neural network, the policy network, that will predict action probabilities given states. Fill the **< YOUR CODE HERE >** below with your preferred NN architecture. You can refrain from using a deep NN as CartPole-v1 is not worth of deep NN architectures. A shallow NN of one or two hidden layers will be just fine!\n",
        "> Write an `__init__(...)` function that initializes the network with the given state dimensions and desired output dimensions.\n",
        "\n",
        "> Write the `forward(...)` function that performs the forward pass of the network\n",
        "\n",
        "> Write a `get_action(...)` function that takes a batch of states as inputs and uses the policy network to predict action probabilities for each state. Follow those steps in order:\n",
        "  *   Convert states to PyTorch tensors.\n",
        "  *   Forward pass through the model to produce logits. Hint: Ensure that the calculation is done without gradient tracking, as it is typically done during inference rather than training. You can stop gradient storing with decorator `@torch.no_grad()`.\n",
        "  *   Apply softmax to get action probabilities.\n",
        "  *   Return the resulting action probabilities after converting them back to a NumPy array."
      ],
      "metadata": {
        "id": "uDPekVa2JNrf"
      }
    },
    {
      "cell_type": "code",
      "source": [
        "import torch.nn as nn\n",
        "# Define the neural network for policy\n",
        "class MLP(nn.Module):\n",
        "    def __init__(self, state_dim, n_actions, hidden_dim=128):\n",
        "        super(MLP, self).__init__()\n",
        "        # Define the architecture\n",
        "        self.fc1 = nn.Linear(state_dim, hidden_dim)  # First layer\n",
        "        self.fc2 = nn.Linear(hidden_dim, n_actions)  # Output layer\n",
        "\n",
        "    def forward(self, x):\n",
        "        x = F.relu(self.fc1(x))  # Apply ReLU non-linearity after first layer\n",
        "        x = self.fc2(x)  # Output logits\n",
        "        return x\n",
        "\n",
        "    @torch.no_grad()  # Decorator to disable gradient calculation\n",
        "    def get_action(self, state):\n",
        "        # Ensure state is a 2D array (batch of states)\n",
        "        state = np.atleast_2d(state)  # This will handle both single and multiple states correctly\n",
        "        state = torch.tensor(state, dtype=torch.float32)\n",
        "        logits = self.forward(state)  # Get logits\n",
        "        probabilities = F.softmax(logits, dim=-1)  # Convert logits to probabilities\n",
        "        return probabilities.numpy()  # Return as numpy array\n",
        "\n",
        "\n"
      ],
      "metadata": {
        "id": "KlNcY4hxGKxt"
      },
      "execution_count": 26,
      "outputs": []
    },
    {
      "cell_type": "markdown",
      "source": [
        "Next, instantiate the policy network model"
      ],
      "metadata": {
        "id": "mwaLe6EbL2WG"
      }
    },
    {
      "cell_type": "code",
      "source": [
        "# instantiate the policy network model\n",
        "model = MLP(state_dim=4, n_actions=2, hidden_dim=128)"
      ],
      "metadata": {
        "id": "sq5ZuSczJ02w"
      },
      "execution_count": 27,
      "outputs": []
    },
    {
      "cell_type": "markdown",
      "source": [
        "After writting your `get_action(...)` function run the cell below to test it."
      ],
      "metadata": {
        "id": "-rV2fpNOP1TJ"
      }
    },
    {
      "cell_type": "code",
      "source": [
        "test_states = np.array([env.reset()[0] for _ in range(5)])\n",
        "test_probas = model.get_action(test_states)\n",
        "assert isinstance(test_probas, np.ndarray), \\\n",
        "    \"you must return np array and not %s\" % type(test_probas)\n",
        "assert tuple(test_probas.shape) == (test_states.shape[0], env.action_space.n), \\\n",
        "    \"wrong output shape: %s\" % np.shape(test_probas)\n",
        "assert np.allclose(np.sum(test_probas, axis=1), 1), \"probabilities do not sum to 1\"\n",
        "print(\"all good!\")"
      ],
      "metadata": {
        "id": "p1w5dxFvP1e4",
        "colab": {
          "base_uri": "https://localhost:8080/"
        },
        "outputId": "bf720ddb-a2cf-4050-d26f-f7daa5d96997"
      },
      "execution_count": 28,
      "outputs": [
        {
          "output_type": "stream",
          "name": "stdout",
          "text": [
            "all good!\n"
          ]
        }
      ]
    },
    {
      "cell_type": "markdown",
      "source": [
        "# Use the policy network to obtain an episode"
      ],
      "metadata": {
        "id": "ZR40Dbx-TDBe"
      }
    },
    {
      "cell_type": "markdown",
      "source": [
        "Here is a summary of what your code should do:\n",
        "\n",
        "\n",
        "*   Initialize empty lists of states, actions and rewards to record the trajectory of the episode.\n",
        "*   Reset the environment and obtain an initial state.\n",
        "*   Loop over time steps to obtain the episode within a specified maximum number of steps.\n",
        "> *   Obtain the action probabilities given the current state and the policy network.\n",
        "> *   Sample an action **from the action probabilities** using `np.random.choice`.\n",
        "> *   Take a step in the environment with the chosen action and obtain the new state, immediate reward, termination status, truncation status, and additional information. For the meaning of the latter three, please refer to official [Gymnasium Documentation](https://gymnasium.farama.org/api/env/).\n",
        "> *   Record the current state, action, and reward in the corresponding lists.\n",
        "> *   Update the current state to the new state.\n",
        "> *   If the episode is terminated or truncated, exit the loop.\n",
        "> *   Return the recorded lists of states, actions and rewards for later use.\n",
        "\n",
        "\n",
        "\n"
      ],
      "metadata": {
        "id": "epigK-ebT8x_"
      }
    },
    {
      "cell_type": "code",
      "source": [
        "def rollout_fn(env, model, t_max=500, deterministic=False):\n",
        "    \"\"\"\n",
        "    Obtain an episode with REINFORCE agent.\n",
        "    Returns sequences of states, actions, and rewards.\n",
        "\n",
        "    If deterministic is True, the action with the highest probability is selected.\n",
        "    Otherwise, actions are sampled based on their probabilities.\n",
        "    \"\"\"\n",
        "    # Initialize empty lists for states, actions, and rewards\n",
        "    states, actions, rewards = [], [], []\n",
        "\n",
        "    # Reset the environment and obtain the initial state\n",
        "    state, _ = env.reset()\n",
        "\n",
        "    for _ in range(t_max):\n",
        "        # Obtain the action probabilities from the model\n",
        "        action_probs = model.get_action(state[np.newaxis, :])[0]\n",
        "\n",
        "        if deterministic:\n",
        "            # Select the action with the highest probability\n",
        "            action = np.argmax(action_probs)\n",
        "        else:\n",
        "            # Sample an action based on the probabilities\n",
        "            action = np.random.choice(len(action_probs), p=action_probs)\n",
        "\n",
        "        # Take the action in the environment\n",
        "        next_state, reward, done, trunc, _ = env.step(action)\n",
        "\n",
        "        # Record state, action, and reward\n",
        "        states.append(state)\n",
        "        actions.append(action)\n",
        "        rewards.append(reward)\n",
        "\n",
        "        # Update the state\n",
        "        state = next_state\n",
        "\n",
        "        # Check for episode termination or truncation\n",
        "        if done or trunc:\n",
        "            break\n",
        "\n",
        "    return states, actions, rewards\n"
      ],
      "metadata": {
        "id": "5ZLkUQEnTqyF"
      },
      "execution_count": 29,
      "outputs": []
    },
    {
      "cell_type": "markdown",
      "source": [
        "In the snippet below you can test your function. You can also include some print statements in order to realize the length of a full episode, as well as the specific trajectory of states, actions, and rewards that was played out."
      ],
      "metadata": {
        "id": "TD6XRJHwYHrL"
      }
    },
    {
      "cell_type": "code",
      "source": [
        "# test it\n",
        "states, actions, rewards = rollout_fn(env, model)"
      ],
      "metadata": {
        "id": "9FwFab_GYH2a"
      },
      "execution_count": 30,
      "outputs": []
    },
    {
      "cell_type": "markdown",
      "source": [
        "# Compute returns-to-go"
      ],
      "metadata": {
        "id": "FMQu0SG_Yn2q"
      }
    },
    {
      "cell_type": "markdown",
      "source": [
        "Now, you have to implement a function that returns a list of returns-to-go, where each entry of the list represents the total (discounted) reward you have accumulated up to that time-step in the episode. The prodecure is quite standard although we give some more details below."
      ],
      "metadata": {
        "id": "EYcu2XOnbFsE"
      }
    },
    {
      "cell_type": "code",
      "source": [
        "def get_returns_to_go(rewards,  # rewards at each step\n",
        "                      gamma=0.99, # discount for reward\n",
        "                      normalize=False):\n",
        "    \"\"\"\n",
        "    Take a list of immediate rewards for the whole episode\n",
        "    and compute returns-to-go\n",
        "\n",
        "    A simple way to compute returns-to-go is to iterate from the last to the first time-step and compute recurrently\n",
        "\n",
        "    In some applications returns are normalized by subtracting their mean and dividing by their standard deviation. For this purpose we included the boolean normalize as an arg\n",
        "\n",
        "    You must return an array/list of returns-to-go with as many elements as in the initial rewards.\n",
        "    \"\"\"\n",
        "    n = len(rewards)\n",
        "    returns = np.zeros(n)\n",
        "    for i in range(n):\n",
        "        for j in range(i, n):\n",
        "            returns[i] += rewards[j] * (gamma ** (j - i))\n",
        "    if normalize:\n",
        "        returns = (returns - returns.mean()) / returns.std()\n",
        "    return returns"
      ],
      "metadata": {
        "id": "S0q0ERlqYweZ"
      },
      "execution_count": 31,
      "outputs": []
    },
    {
      "cell_type": "markdown",
      "source": [
        "After your implementation execute the code in the following cell and make sure that the statement \"looks good\" is displayed."
      ],
      "metadata": {
        "id": "tjzagjjrbmJc"
      }
    },
    {
      "cell_type": "code",
      "source": [
        "get_returns_to_go(rewards)\n",
        "assert len(get_returns_to_go(list(range(100)))) == 100\n",
        "assert np.allclose(\n",
        "    get_returns_to_go([0, 0, 1, 0, 0, 1, 0], gamma=0.9),\n",
        "    [1.40049, 1.5561, 1.729, 0.81, 0.9, 1.0, 0.0])\n",
        "assert np.allclose(\n",
        "    get_returns_to_go([0, 0, 1, -2, 3, -4, 0], gamma=0.5),\n",
        "    [0.0625, 0.125, 0.25, -1.5, 1.0, -4.0, 0.0])\n",
        "assert np.allclose(\n",
        "    get_returns_to_go([0, 0, 1, 2, 3, 4, 0], gamma=0),\n",
        "    [0, 0, 1, 2, 3, 4, 0])\n",
        "print(\"looks good!\")"
      ],
      "metadata": {
        "id": "CHPIfkktbmQG",
        "colab": {
          "base_uri": "https://localhost:8080/"
        },
        "outputId": "5ba429ce-2f3e-4376-abf4-d356a39f6129"
      },
      "execution_count": 32,
      "outputs": [
        {
          "output_type": "stream",
          "name": "stdout",
          "text": [
            "looks good!\n"
          ]
        }
      ]
    },
    {
      "cell_type": "markdown",
      "source": [
        "# Objective function and updates over the policy gradient"
      ],
      "metadata": {
        "id": "zvekse7BbwKD"
      }
    },
    {
      "cell_type": "markdown",
      "source": [
        "The policy gradient theorem defines a way to compute the gradient of the objective function with respect to the parameters of the policy network as follows:\n",
        "$$\n",
        "\\nabla_{\\theta} J(\\theta)\\approx \\frac{1}{N} \\sum_{i=1}^{N} \\sum_{t=1}^T G_t^{(i)} \\nabla_{\\theta} \\log \\pi_{\\theta} (a_t^{(i)}|s_t^{(i)}).\n",
        "$$\n",
        "for $N$ episodic trajectories $(\\tau^{(i)})_{i=1}^{N}:=\\{(s_0^{(i)}, a_0^{(i)}, r_1^{(i)}, s_1^{(i)}, a_1^{(i)}, r_2^{(i)}, ..., s_{T-1}^{(i)}, a_{T-1}^{(i)}, r_{T}^{(i)})\\}_{i=1}^{N}$, and corresponding returns-to-go $G_t^{(i)}$.\n",
        "\n",
        "In the cell below your task is to define the training process of the policy gradient algorithm. Breaking the process down:\n",
        "\n",
        "*   Optimizer initialization: Initialize an Adam optimizer to update the parameters of the policy network (choose a learning of `1e-03`) and leave all the other Adam parameters as default.\n",
        "*   Cast states, actions into PyTorch tensors (states take float values, actions take integer values).\n",
        "*   Use the `get_returns_to_go(...)` function to compute returns-to-go and cast into PyTorch tensors.\n",
        "*   Use the policy network to predict logits, action probabilities and log-action probabilities. Compute those using operations with torch tensors and **DO NOT** use the `get_action(...)` function instead.\n",
        "*   Select log-action probabilities for chosen actions.\n",
        "*   Compute the loss.\n",
        "*   Perform gradient ascent to update the policy network's parameters.\n",
        "*   Return the sum of rewards obtained during the duration of an episode.\n",
        "\n"
      ],
      "metadata": {
        "id": "iHAlWTGWIGRF"
      }
    },
    {
      "cell_type": "code",
      "source": [
        "# define optimizer\n",
        "optimizer = optim.Adam(model.parameters(), lr=1e-3)\n",
        "\n",
        "def train_step(states, actions, rewards, gamma=0.99):\n",
        "    \"\"\"\n",
        "    Takes a sequence of states, actions and rewards produced by rollout_fn.\n",
        "    Updates agent's weights by following the policy gradient above.\n",
        "    \"\"\"\n",
        "    # Ensure inputs are PyTorch tensors\n",
        "    states = torch.tensor(states, dtype=torch.float32)\n",
        "    actions = torch.tensor(actions, dtype=torch.int64)  # Actions are integers\n",
        "    returns_to_go = torch.tensor(get_returns_to_go(rewards, gamma), dtype=torch.float32)\n",
        "\n",
        "    # Reset gradients\n",
        "    optimizer.zero_grad()\n",
        "\n",
        "    # Forward pass: get logits for all actions\n",
        "    logits = model(states)\n",
        "    log_probs = F.log_softmax(logits, dim=-1)\n",
        "\n",
        "    # Gather the log probabilities of the actions taken\n",
        "    actions_log_probs = log_probs[range(len(actions)), actions]\n",
        "\n",
        "    # Compute the policy gradient loss\n",
        "    loss = -(returns_to_go * actions_log_probs).mean()\n",
        "\n",
        "    # Backward pass and optimize\n",
        "    loss.backward()\n",
        "    optimizer.step()\n",
        "\n",
        "    return loss.item()"
      ],
      "metadata": {
        "id": "SXcfCtzlDbj0"
      },
      "execution_count": 33,
      "outputs": []
    },
    {
      "cell_type": "markdown",
      "source": [
        "# Training and recording the performance"
      ],
      "metadata": {
        "id": "kKdHVCARWoW8"
      }
    },
    {
      "cell_type": "markdown",
      "source": [
        "Plot the training curve averaged over three runs (3 seeds). Each run has a training and a testing phase as described in [5. TD_Methods.pdf](https://brightspace.nyu.edu/d2l/le/lessons/344232/topics/9949410). As a suggestion, for this lab, you might want to try the following:\n",
        "\n",
        "\n",
        "1.   **Training Phase**: set the model in training mode using `model.train()`.\n",
        "2.   The agent interacts with the environment for 1000 training episodes, collecting rewards during each episode. During each training episode the model is updated using the policy gradient algorithm implemented on the `train_step(...)` function. Training rewards are collected in a list.\n",
        "3.   **Testing Phase**: Every 100 episodes the model is switched to evaluation mode using `model.eval()`. At this stage, the agent interacts with the environment for 50 episodes, uses a deterministic strategy by selecting the action with the highest probability, and stores an average of the rewards collected over them.\n",
        "4.   After the testing phase finishes, the model is switched on to training mode again.\n",
        "\n"
      ],
      "metadata": {
        "id": "8U_eUmeFfN_L"
      }
    },
    {
      "cell_type": "code",
      "source": [
        "def train_iteration(env, model, n_episodes=1000, test_every=100, n_test_episodes=50, gamma=0.99):\n",
        "    train_rewards = []\n",
        "    test_rewards = []\n",
        "\n",
        "    for episode in range(n_episodes):\n",
        "        model.train()  # Set model to training mode\n",
        "        states, actions, rewards = rollout_fn(env, model)\n",
        "        episode_reward = train_step(states, actions, rewards, gamma)\n",
        "        train_rewards.append(episode_reward)\n",
        "\n",
        "        # Testing phase\n",
        "        if (episode + 1) % test_every == 0:\n",
        "            model.eval()  # Set model to evaluation mode\n",
        "            test_episode_rewards = []\n",
        "\n",
        "            for _ in range(n_test_episodes):\n",
        "                states, actions, rewards = rollout_fn(env, model, deterministic=True)\n",
        "                test_episode_rewards.append(sum(rewards))\n",
        "\n",
        "            average_test_reward = np.mean(test_episode_rewards)\n",
        "            test_rewards.append(average_test_reward)\n",
        "            print(f\"Episode {episode+1}: Average Test Reward = {average_test_reward}\")\n",
        "\n",
        "    return train_rewards, test_rewards"
      ],
      "metadata": {
        "id": "MfeEhzyxUL3f"
      },
      "execution_count": 34,
      "outputs": []
    },
    {
      "cell_type": "code",
      "source": [
        "def model_constructor():\n",
        "    return MLP(state_dim=4, n_actions=2, hidden_dim=128)\n",
        "\n",
        "def optimizer_constructor(params):\n",
        "    return torch.optim.Adam(params, lr=1e-3)\n",
        "\n",
        "# Seed list for running experiments\n",
        "seeds = [42, 123, 456]\n",
        "\n",
        "# Initialize lists to store results for averaging\n",
        "all_train_rewards = []\n",
        "all_test_rewards = []\n",
        "\n",
        "# Loop over seeds to perform three separate runs\n",
        "for seed in seeds:\n",
        "    np.random.seed(seed)\n",
        "    torch.manual_seed(seed)\n",
        "\n",
        "    # Create a new environment instance and model for each run\n",
        "    env = gym.make(\"CartPole-v1\", render_mode=\"rgb_array\")\n",
        "    model = model_constructor()\n",
        "    optimizer = optimizer_constructor(model.parameters())\n",
        "\n",
        "    # Perform training and testing\n",
        "    train_rewards, test_rewards = train_iteration(env, model, n_episodes=1000, test_every=100, n_test_episodes=50, gamma=0.99)\n",
        "\n",
        "    # Store the rewards for later averaging\n",
        "    all_train_rewards.append(train_rewards)\n",
        "    all_test_rewards.append(test_rewards)\n",
        "\n",
        "# Calculate the average rewards across all runs\n",
        "avg_train_rewards = np.mean(all_train_rewards, axis=0)\n",
        "avg_test_rewards = np.mean(all_test_rewards, axis=0)\n",
        "\n",
        "# Plotting the results\n",
        "plt.figure(figsize=(12, 6))\n",
        "plt.plot(avg_train_rewards, label='Average Training Rewards')\n",
        "test_indices = np.arange(100, 1001, 100)\n",
        "plt.plot(test_indices, avg_test_rewards, 'o-', label='Average Test Rewards')\n",
        "plt.title('Average Training and Testing Rewards over Three Runs')\n",
        "plt.xlabel('Episodes')\n",
        "plt.ylabel('Rewards')\n",
        "plt.legend()\n",
        "plt.show()\n"
      ],
      "metadata": {
        "colab": {
          "base_uri": "https://localhost:8080/",
          "height": 1000
        },
        "id": "iJj8P2RY1ze4",
        "outputId": "889ba464-b675-49f9-ec26-247506b12c54"
      },
      "execution_count": 36,
      "outputs": [
        {
          "output_type": "stream",
          "name": "stdout",
          "text": [
            "Episode 100: Average Test Reward = 126.34\n",
            "Episode 200: Average Test Reward = 282.74\n",
            "Episode 300: Average Test Reward = 390.52\n",
            "Episode 400: Average Test Reward = 147.46\n",
            "Episode 500: Average Test Reward = 333.48\n",
            "Episode 600: Average Test Reward = 500.0\n",
            "Episode 700: Average Test Reward = 372.06\n",
            "Episode 800: Average Test Reward = 485.34\n",
            "Episode 900: Average Test Reward = 491.9\n",
            "Episode 1000: Average Test Reward = 500.0\n",
            "Episode 100: Average Test Reward = 9.36\n",
            "Episode 200: Average Test Reward = 202.4\n",
            "Episode 300: Average Test Reward = 163.26\n",
            "Episode 400: Average Test Reward = 306.22\n",
            "Episode 500: Average Test Reward = 470.26\n",
            "Episode 600: Average Test Reward = 500.0\n",
            "Episode 700: Average Test Reward = 272.34\n",
            "Episode 800: Average Test Reward = 341.66\n",
            "Episode 900: Average Test Reward = 175.58\n",
            "Episode 1000: Average Test Reward = 188.92\n",
            "Episode 100: Average Test Reward = 80.32\n",
            "Episode 200: Average Test Reward = 69.32\n",
            "Episode 300: Average Test Reward = 90.42\n",
            "Episode 400: Average Test Reward = 413.1\n",
            "Episode 500: Average Test Reward = 490.12\n",
            "Episode 600: Average Test Reward = 192.94\n",
            "Episode 700: Average Test Reward = 500.0\n",
            "Episode 800: Average Test Reward = 252.42\n",
            "Episode 900: Average Test Reward = 145.22\n",
            "Episode 1000: Average Test Reward = 195.72\n"
          ]
        },
        {
          "output_type": "display_data",
          "data": {
            "text/plain": [
              "<Figure size 1200x600 with 1 Axes>"
            ],
            "image/png": "[encoded data removed]"
          },
          "metadata": {}
        }
      ]
    },
    {
      "cell_type": "markdown",
      "source": [
        "# PPO: Proximal Policy Optimization"
      ],
      "metadata": {
        "id": "Ffg-nAT1frmr"
      }
    },
    {
      "cell_type": "markdown",
      "source": [
        "PPO like advanced versions of vanilla Policy gradient, uses a Critic network with parameters $\\phi$ and advantage estimate $\\hat{A}_t$. You will use the current policy, say $\\pi_{\\theta_k}$, to generate an episode. When updating $\\theta=\\theta_k$, you will take several small gradient steps, always using data from $\\pi_{\\theta_k}$. Similar for the Critic. The gradient update of $\\theta$ will approximate the true gradient while maintaining control on the policy ratio $\\pi_{\\theta}/\\pi_{\\theta_k}$, i.e. if $\\pi_{\\theta}$ moves far from $\\pi_{\\theta_k}$, we clip the loss function so that the gradient is 0 and $\\theta$ ceases to change."
      ],
      "metadata": {
        "id": "aY5ZY3qGeQil"
      }
    },
    {
      "cell_type": "markdown",
      "source": [
        "## Building the Actor-Critic (A2C) Architecture"
      ],
      "metadata": {
        "id": "Mxcmegn9CS0d"
      }
    },
    {
      "cell_type": "markdown",
      "source": [
        "In this section, you are going to set up the NN architecture for the actor and critic components of the PPO algorithm. The Actor and the Critic play distinct roles in the learning process."
      ],
      "metadata": {
        "id": "U3OUKm0KC5MW"
      }
    },
    {
      "cell_type": "markdown",
      "source": [
        "\n",
        "\n",
        "*   The Actor is used to select actions based on the current policy. The output of the Actor is a probability distribution over all the possible actions in the environment.\n",
        "*   The Critic provides an estimate for the value function, which represents the expected cumulative reward from a given state, under the current policy. The output of the Critic is a scalar value representing the estimated state value.\n",
        "\n"
      ],
      "metadata": {
        "id": "FAUFue_XDsRz"
      }
    },
    {
      "cell_type": "markdown",
      "source": [
        "In the code cell below build a class that represents the combined architecture for both actor and critic networks in the PPO algorithm:\n",
        "\n",
        "\n",
        "*   It should take two NNs, `actor` and `critic` as parameters during initialization.\n",
        "*   `actor` should be in the same fashion as in policy gradient.\n",
        "*   `critic` should be taking a state as an input and return a scalar that represents the value of that state.\n",
        "*   It should contain a `forward` method that takes a state as an input and computes the action prediction as well as the value prediction using the actor and critic networks respectively.\n",
        "*   You should implement `get_action(...)` with `actor` in the same fashion as in policy gradient.\n",
        "\n",
        "**NOTE:** instantiate the actor and critic networks as two instances of the `MLP` class that you defined in our previous implementation of the policy gradient algorithm. Note that the output dimension of the actor network must be the dimension of the action space while the output dimension of the critic network must be 1.\n",
        "\n",
        "\n"
      ],
      "metadata": {
        "id": "KyNIXSkWE-SH"
      }
    },
    {
      "cell_type": "code",
      "source": [
        "class ActorCritic(nn.Module):\n",
        "    def __init__(self, state_dim, action_dim, hidden_dim=128):\n",
        "        super(ActorCritic, self).__init__()\n",
        "        # Actor network\n",
        "        self.actor = MLP(state_dim, action_dim, hidden_dim)\n",
        "        # Critic network\n",
        "        self.critic = MLP(state_dim, 1, hidden_dim)\n",
        "\n",
        "    def forward(self, state):\n",
        "        # Get action probabilities\n",
        "        action_probs = F.softmax(self.actor(state), dim=-1)\n",
        "        # Get state value\n",
        "        value = self.critic(state)\n",
        "        return action_probs, value.squeeze()\n",
        "\n",
        "    @torch.no_grad()  # Ensure no gradients are calculated for action selection\n",
        "    def get_action(self, state, action_space=None):\n",
        "        state = torch.FloatTensor(state).unsqueeze(0)\n",
        "        action_probs, _ = self.forward(state)\n",
        "        action = torch.distributions.Categorical(action_probs).sample()\n",
        "        return action.item()"
      ],
      "metadata": {
        "id": "7OX4V5n_fw9A"
      },
      "execution_count": 135,
      "outputs": []
    },
    {
      "cell_type": "code",
      "source": [
        "a2c_model = ActorCritic(state_dim=4, action_dim=1, hidden_dim=128)"
      ],
      "metadata": {
        "id": "itwjCtOgwx1u"
      },
      "execution_count": 136,
      "outputs": []
    },
    {
      "cell_type": "markdown",
      "source": [
        "## Compute advantages"
      ],
      "metadata": {
        "id": "vUdqtodRMhPb"
      }
    },
    {
      "cell_type": "markdown",
      "source": [
        "The advantage computed at a state-action pair $(S_t, A_t)$ is by definition:\n",
        "$$ A_{\\pi_{\\theta}}(S_t, A_t): = Q_{\\pi_{\\theta}}(S_t,A_t)-V_{\\pi_{\\theta}}(S_t)\\approx G_t-V_{\\phi}(S_t):=\\hat{A}_t,$$\n",
        "where as usual $G_t$ is the return-to-go, and $V_{\\pi_{\\theta}}(s)\\approx V_{\\phi}(s)$, where $V_{\\phi}$ is the output of the `critic` network for an input state $s$. Write a function `get_advantages()` with inputs containing the returns-to-go for each time step and the estimated state values for each time step, and a boolean flag indicating normalization or not, and outputs a tensor containing the advantages.  "
      ],
      "metadata": {
        "id": "xcvPBrOMOdp4"
      }
    },
    {
      "cell_type": "code",
      "source": [
        "def get_advantages(returns_to_go, values, normalize=False):\n",
        "    # Ensure returns_to_go is a tensor\n",
        "    if not isinstance(returns_to_go, torch.Tensor):\n",
        "        returns_to_go = torch.tensor(returns_to_go, dtype=torch.float32)\n",
        "\n",
        "    # Calculate the advantages\n",
        "    advantages = returns_to_go - values\n",
        "\n",
        "    if normalize:\n",
        "        # Normalize the advantages\n",
        "        advantages_mean = advantages.mean()\n",
        "        advantages_std = advantages.std() + 1e-8  # Adding a small value to avoid division by zero\n",
        "        advantages = (advantages - advantages_mean) / advantages_std\n",
        "\n",
        "    return advantages\n"
      ],
      "metadata": {
        "id": "f6n0d4-YI1XP"
      },
      "execution_count": 137,
      "outputs": []
    },
    {
      "cell_type": "markdown",
      "source": [
        "## Update step for PPO"
      ],
      "metadata": {
        "id": "bopNQh-CZxN1"
      }
    },
    {
      "cell_type": "markdown",
      "source": [
        "In the next cell, you will implement the PPO algorithm itself. The algorithm replaces the typical policy gradient loss with a surrogate objective that contains the ratio of the new and old policies. Namely, for a single trajectory of length $T$:\n",
        "$$\n",
        "J(\\theta, \\pi_{\\theta}, \\pi_{\\theta_{k}}, \\hat{A}_t) = \\sum_{t=1}^{T}\\frac{\\pi_{\\theta}(a_t|s_t)}{\\pi_{\\theta_{k}}(a_t|s_t)} \\cdot \\hat{A}_t\n",
        "$$\n",
        "PPO clipping relies on specialized clipping in the surrogate objective function to remove incentives for the new policy to get away from the old policy. The following equation is known as clipped surrogate objective:\n",
        "$$\n",
        "J(\\theta, \\pi_{\\theta}, \\pi_{\\theta_{k}}, \\hat{A}_t, \\varepsilon) = \\sum_{t=1}^{T} \\min\\left(\\frac{\\pi_{\\theta}(a_t|s_t)}{\\pi_{\\theta_{k}}(a_t|s_t)} \\cdot \\hat{A}_t, \\mathrm{clip}\\left(\n",
        "\\frac{\\pi_\\theta(a_t|s_t)}{\\pi_{\\theta_k}(a_t|s_t)},\n",
        "1 - \\text{ε}, 1 + \\text{ε}\\right)\\cdot \\hat{A}_t\\right),\\\\\n",
        "$$\n",
        "where $ε$ is a value which defines the clipping neighborhood $\\left|\\pi_\\theta(a_t|s_t)/\\pi_{\\theta_k}(a_t|s_t)-1\\right|<ε$. The first term in the minimum comes directly from the surrogate. The second term bounds the first term between $(1-ε) \\hat{A}_t$ and $(1+ε) \\hat{A}_t$. When the ratio of the new and the old policy is within the interval $[1-ε,1+ε]$, both terms inside the minimum are equal. This new objective prevents parameter updates which will cause large changes to the old policy. The value loss is computed using the smooth $L_1-$loss between predicted state values and returns-to-go, e.g. [Smooth L1-Loss](https://pytorch.org/docs/stable/generated/torch.nn.SmoothL1Loss.html#torch.nn.SmoothL1Loss)."
      ],
      "metadata": {
        "id": "MXZ_Lqa-aFi-"
      }
    },
    {
      "cell_type": "markdown",
      "source": [
        "Fill the < YOUR CODE HERE > below. For a specified number of `ppo_steps`:\n",
        "\n",
        "\n",
        "*   Given states, use the Actor and Critic to generate predictions for actions and state values.\n",
        "*   Compute the action probabilities by applying softmax.\n",
        "*   Compute the new log-probabilities for the taken actions under the updated policy.\n",
        "*   Compute the PPO clipped surrogate objective and the value loss.\n",
        "*   Backpropagate separately for the two losses.\n",
        "*   Accumulate total losses over `ppo_steps`.\n",
        "*   Return average policy and value losses.\n"
      ],
      "metadata": {
        "id": "PkwZVql8sPJq"
      }
    },
    {
      "cell_type": "code",
      "source": [
        "from torch.distributions import Categorical\n",
        "import torch.distributions as distributions\n",
        "\n",
        "def train_step_ppo(a2c_model, states, actions, log_prob_actions, advantages, returns_to_go, optimizer, ppo_steps, ppo_clip):\n",
        "  total_policy_loss = 0\n",
        "  total_value_loss = 0\n",
        "\n",
        "  # detach advantages, actions, log_prob_actions\n",
        "  advantages = advantages.detach()\n",
        "  actions = actions.detach()\n",
        "  log_prob_actions = log_prob_actions.detach()\n",
        "\n",
        "  for _ in range(ppo_steps): # Loop over several small gradient steps, always using the data from the current policy\n",
        "     action_pred, value_pred = a2c_model(states) # pass the input states through the A2C model\n",
        "     value_pred = value_pred.squeeze(-1)\n",
        "     action_prob = F.softmax(action_pred, dim=-1) # pass action_pred through softmax to compute action probabilities\n",
        "     dist = distributions.Categorical(action_prob)\n",
        "\n",
        "     new_log_prob_actions = dist.log_prob(actions) # new log-probs using old actions\n",
        "\n",
        "     policy_ratio = (new_log_prob_actions - log_prob_actions).exp()\n",
        "\n",
        "     policy_loss_1 = policy_ratio * advantages # left-hand side in the min of the clipped objective\n",
        "     policy_loss_2 = torch.clamp(policy_ratio, min = 1.0 - ppo_clip, max = 1.0 + ppo_clip) * advantages # right-hand side in the min of the clipped objective\n",
        "\n",
        "     policy_loss = - torch.min(policy_loss_1, policy_loss_2).sum() # clipped objective\n",
        "\n",
        "     value_loss = F.smooth_l1_loss(returns_to_go, value_pred).sum() # fit value function by minimizing smooth L1-loss\n",
        "\n",
        "     optimizer.zero_grad() # zero out gradients\n",
        "\n",
        "     policy_loss.backward() # back-propagate on the policy_loss\n",
        "     value_loss.backward() # back-propagate on the value_loss\n",
        "\n",
        "     optimizer.step() # take a gradient step\n",
        "\n",
        "     total_policy_loss += policy_loss.item()\n",
        "     total_value_loss += value_loss.item()\n",
        "\n",
        "  return total_policy_loss/ppo_steps, total_value_loss/ppo_steps"
      ],
      "metadata": {
        "id": "EFb2lp6wimbR"
      },
      "execution_count": 138,
      "outputs": []
    },
    {
      "cell_type": "markdown",
      "source": [
        "## Training"
      ],
      "metadata": {
        "id": "BmAgTduivuql"
      }
    },
    {
      "cell_type": "markdown",
      "source": [
        "Time to train!\n",
        "\n",
        "\n",
        "*   Initialize your model to training mode. You will store states, actions, action log-probabilities, state values, immediate rewards, and accumulated episodic reward.\n",
        "*   Enter a loop that interacts with the environment until the episode is done.\n",
        "\n",
        "> * Use the A2C model to get action predictions and state value predictions for the current state.\n",
        "\n",
        "> *   Sample an action from the predicted action probabilities and record the log-probability of the sampled action. Take a step in the environment to generate a new state, immediate reward and done flag, see [official documentation](https://gymnasium.farama.org/api/env/) on how to do this.\n",
        "\n",
        "> *  Append action, log-probability of the action, state value prediction, and reward to the respective lists. Accumulate episodic reward.\n",
        "\n",
        "*  After exiting the loop, calculate returns-to-go, advantages, and use the `train_step(...)` to calculate policy and value losses.\n",
        "\n",
        "*  Return policy loss, value loss and accumulated episodic reward.\n",
        "\n"
      ],
      "metadata": {
        "id": "OI09ugksx86s"
      }
    },
    {
      "cell_type": "code",
      "source": [
        "def train_iteration_ppo(env, a2c_model, optimizer, discount_factor, ppo_steps, ppo_clip):\n",
        "    # Set model to training mode\n",
        "    a2c_model.train()\n",
        "\n",
        "    # Initialize lists to store states, actions, log_probs, values, rewards\n",
        "    states, actions, log_probs, values, rewards = [], [], [], [], []\n",
        "    state = env.reset()  # Reset environment and get initial state\n",
        "    done = False\n",
        "    accumulated_reward = 0\n",
        "\n",
        "    # Collect data from one episode\n",
        "    while not done:\n",
        "        # Convert state into a tensor and get action and value predictions\n",
        "        state_tensor = torch.FloatTensor(state).unsqueeze(0)\n",
        "        action_probs, value_pred = a2c_model(state_tensor)\n",
        "\n",
        "        # Sample action from the action probabilities\n",
        "        dist = Categorical(action_probs)\n",
        "        action = dist.sample()\n",
        "\n",
        "        # Take action in the environment\n",
        "        next_state, reward, done, truncated = env.step(action.item())\n",
        "\n",
        "        # Store data\n",
        "        states.append(state_tensor)\n",
        "        actions.append(action)\n",
        "        log_probs.append(dist.log_prob(action))\n",
        "        values.append(value_pred)\n",
        "        rewards.append(reward)\n",
        "\n",
        "        # Update state and accumulated reward\n",
        "        state = next_state\n",
        "        accumulated_reward += reward\n",
        "\n",
        "    # Convert lists to tensors\n",
        "    states = torch.cat(states)\n",
        "    actions = torch.cat(actions)\n",
        "    log_probs = torch.cat(log_probs).detach()\n",
        "    returns_to_go = torch.tensor(get_returns_to_go(rewards, discount_factor), dtype=torch.float32)\n",
        "\n",
        "    # Ensure values are at least 1-dimensional before concatenation\n",
        "    values_tensors = [v.unsqueeze(0) for v in values]  # Unsqueezes each tensor\n",
        "    concatenated_values = torch.cat(values_tensors)\n",
        "\n",
        "    # Calculate advantages\n",
        "    advantages = get_advantages(returns_to_go, concatenated_values.squeeze(-1), normalize=True)\n",
        "\n",
        "    # Perform PPO update\n",
        "    total_policy_loss, total_value_loss = train_step_ppo(a2c_model, states, actions, log_probs, advantages, returns_to_go, optimizer, ppo_steps, ppo_clip)\n",
        "\n",
        "    return total_policy_loss, total_value_loss, accumulated_reward"
      ],
      "metadata": {
        "id": "n0b4VUwHvv1Z"
      },
      "execution_count": 139,
      "outputs": []
    },
    {
      "cell_type": "markdown",
      "source": [
        "## Inference/Evaluation"
      ],
      "metadata": {
        "id": "DoveSyw93JNc"
      }
    },
    {
      "cell_type": "markdown",
      "source": [
        "To evaluate the model in the given environment, we need to introduce a function to assess the performance of the trained model in a given environment without updating the model's parameters. In summary, this function evaluates the model in the given environment using a deterministic strategy (selecting the action with the highest probability) and returns the total reward obtained during the evaluation episode.\n",
        "Hint: you will only be needing the `actor` network in `a2c_model` in this case. Make sure to utilize the `get_action(...)` function."
      ],
      "metadata": {
        "id": "pb-rABt53QSC"
      }
    },
    {
      "cell_type": "code",
      "source": [
        "def evaluate(env, a2c_model):\n",
        "    # Set model to evaluation mode\n",
        "    a2c_model.eval()\n",
        "\n",
        "    state = env.reset()  # Reset environment and get initial state\n",
        "    done = False\n",
        "    total_reward = 0\n",
        "\n",
        "    # Interact with the environment until the episode is done\n",
        "    while not done:\n",
        "        with torch.no_grad():  # No need to track gradients during evaluation\n",
        "            # Convert state into a tensor\n",
        "            state_tensor = torch.FloatTensor(state).unsqueeze(0)\n",
        "\n",
        "            # Use the actor network to get action predictions\n",
        "            # Since we are evaluating, we choose the action with the highest probability (deterministic policy)\n",
        "            action_probs, _ = a2c_model(state_tensor)\n",
        "            action = torch.argmax(action_probs).item()\n",
        "\n",
        "            # Take action in the environment\n",
        "            next_state, reward, done, truncated = env.step(action)\n",
        "\n",
        "            # Update state and total reward\n",
        "            state = next_state\n",
        "            total_reward += reward\n",
        "\n",
        "    return total_reward"
      ],
      "metadata": {
        "id": "ldidQ0t23K6-"
      },
      "execution_count": 140,
      "outputs": []
    },
    {
      "cell_type": "markdown",
      "source": [
        "## Training and recording the performance of PPO"
      ],
      "metadata": {
        "id": "OPrbDPrt8go1"
      }
    },
    {
      "cell_type": "markdown",
      "source": [
        "Train and record performance in a similar fashion with vanilla policy gradient. Here, you can try at most 500 interactions with the environment. For every episode have a training phase followed by a testing phase."
      ],
      "metadata": {
        "id": "bRL-Hkye8lOe"
      }
    },
    {
      "cell_type": "code",
      "source": [
        "def train_and_test_ppo(n_episodes=500, test_every=100, n_test_episodes=50, gamma=0.99, seeds=[42, 123, 456]):\n",
        "    all_train_rewards = []\n",
        "    all_test_rewards = []\n",
        "\n",
        "    for seed in seeds:\n",
        "        np.random.seed(seed)\n",
        "        torch.manual_seed(seed)\n",
        "\n",
        "        env = gym.make('CartPole-v1')\n",
        "\n",
        "        model = ActorCritic(state_dim=env.observation_space.shape[0], action_dim=env.action_space.n)\n",
        "        optimizer = torch.optim.Adam(model.parameters(), lr=1e-3)\n",
        "\n",
        "        train_rewards = []\n",
        "        test_rewards = []\n",
        "\n",
        "        for episode in range(n_episodes):\n",
        "            # Training Phase\n",
        "            model.train()\n",
        "            policy_loss, value_loss, episode_reward = train_iteration_ppo(env, model, optimizer, discount_factor=gamma, ppo_steps=10, ppo_clip=0.3)\n",
        "            train_rewards.append(episode_reward)\n",
        "\n",
        "            # Testing Phase\n",
        "            if (episode + 1) % test_every == 0:\n",
        "                model.eval()\n",
        "                test_episode_rewards = [evaluate(env, model) for _ in range(n_test_episodes)]\n",
        "                average_test_reward = np.mean(test_episode_rewards)\n",
        "                test_rewards.append(average_test_reward)\n",
        "                print(f\"Seed {seed}, Episode {episode+1}: Average Test Reward = {average_test_reward}\")\n",
        "\n",
        "        all_train_rewards.append(train_rewards)\n",
        "        all_test_rewards.append(test_rewards)\n",
        "\n",
        "    # Averaging the rewards across all runs\n",
        "    avg_train_rewards = np.mean(all_train_rewards, axis=0)\n",
        "    avg_test_rewards = np.mean(all_test_rewards, axis=0)\n",
        "\n",
        "    # Plotting the results\n",
        "    plt.figure(figsize=(12, 6))\n",
        "    plt.plot(avg_train_rewards, label='Average Training Rewards')\n",
        "    test_indices = np.arange(test_every, n_episodes+1, test_every)\n",
        "    plt.plot(test_indices, avg_test_rewards, 'o-', label='Average Test Rewards')\n",
        "    plt.title('PPO Training and Testing Rewards')\n",
        "    plt.xlabel('Episodes')\n",
        "    plt.ylabel('Rewards')\n",
        "    plt.legend()\n",
        "    plt.show()\n"
      ],
      "metadata": {
        "id": "-J7AupxWJOqn"
      },
      "execution_count": 141,
      "outputs": []
    },
    {
      "cell_type": "code",
      "source": [
        "train_and_test_ppo()"
      ],
      "metadata": {
        "colab": {
          "base_uri": "https://localhost:8080/",
          "height": 832
        },
        "id": "aQZPojxJMqQx",
        "outputId": "ac97730c-865e-4340-c9a0-d4151d35b713"
      },
      "execution_count": 144,
      "outputs": [
        {
          "output_type": "stream",
          "name": "stdout",
          "text": [
            "Seed 42, Episode 100: Average Test Reward = 170.02\n",
            "Seed 42, Episode 200: Average Test Reward = 264.74\n",
            "Seed 42, Episode 300: Average Test Reward = 500.0\n",
            "Seed 42, Episode 400: Average Test Reward = 456.4\n",
            "Seed 42, Episode 500: Average Test Reward = 500.0\n",
            "Seed 123, Episode 100: Average Test Reward = 9.4\n",
            "Seed 123, Episode 200: Average Test Reward = 171.46\n",
            "Seed 123, Episode 300: Average Test Reward = 308.46\n",
            "Seed 123, Episode 400: Average Test Reward = 436.98\n",
            "Seed 123, Episode 500: Average Test Reward = 500.0\n",
            "Seed 456, Episode 100: Average Test Reward = 34.98\n",
            "Seed 456, Episode 200: Average Test Reward = 50.64\n",
            "Seed 456, Episode 300: Average Test Reward = 76.16\n",
            "Seed 456, Episode 400: Average Test Reward = 63.98\n",
            "Seed 456, Episode 500: Average Test Reward = 71.48\n"
          ]
        },
        {
          "output_type": "display_data",
          "data": {
            "text/plain": [
              "<Figure size 1200x600 with 1 Axes>"
            ],
            "image/png": "[encoded data removed]"
          },
          "metadata": {}
        }
      ]
    },
    {
      "cell_type": "markdown",
      "source": [
        "# BONUS"
      ],
      "metadata": {
        "id": "A7UhjCXJ8T_m"
      }
    },
    {
      "cell_type": "markdown",
      "source": [
        "Modify policy gradient in creative ways to improve its performance. Some things you can try are adding entropy bonus, modifying hyper parameters, normalizing returns-to-go and advantages, etc."
      ],
      "metadata": {
        "id": "rHiN6gYL8X8V"
      }
    },
    {
      "cell_type": "code",
      "source": [
        "def entropy_reg(probs, log_probs, entropy_coef=1e-02):\n",
        "  \"\"\"\n",
        "  Takes tensors of probabilities and corresponding log-probabilities and returns the entropy multiplied by entropy_coef\n",
        "  \"\"\"\n",
        "  return -entropy_coef * torch.sum(probs * log_probs)"
      ],
      "metadata": {
        "id": "7tLAOXzl8fto"
      },
      "execution_count": null,
      "outputs": []
    },
    {
      "cell_type": "code",
      "source": [],
      "metadata": {
        "id": "wnCroGTDcov_"
      },
      "execution_count": null,
      "outputs": []
    }
  ]
}