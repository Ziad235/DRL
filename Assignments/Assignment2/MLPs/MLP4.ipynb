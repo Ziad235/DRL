{
 "cells": [
  {
   "cell_type": "code",
   "execution_count": 38,
   "metadata": {},
   "outputs": [],
   "source": [
    "import torch\n",
    "import torch.nn as nn\n",
    "import torch.optim as optim\n",
    "import random\n",
    "import numpy as np\n",
    "from collections import deque"
   ]
  },
  {
   "cell_type": "code",
   "execution_count": 39,
   "metadata": {},
   "outputs": [],
   "source": [
    "# Parameters\n",
    "n = 30 # dimension of actions and/or cost matrix\n",
    "d = 500 # number of initial sample pairs\n",
    "total_samples = 10000 # number of total samples that can be used\n",
    "buff_size = 500 # buffer size of D to make use of newer experiences and limiting the effect of old ones by popping them\n",
    "alpha = 0.01 # learning rate for when performing gradient descent on b"
   ]
  },
  {
   "cell_type": "code",
   "execution_count": 40,
   "metadata": {},
   "outputs": [],
   "source": [
    "# Define what you want R to be\n",
    "R = np.identity(n) # identity matrix\n",
    "# R = generate_diagonally_dominant_positive_definite_matrix(n)\n",
    "R = torch.tensor(R, dtype=torch.float32)"
   ]
  },
  {
   "cell_type": "code",
   "execution_count": 41,
   "metadata": {},
   "outputs": [],
   "source": [
    "# Initialize b to all 2.0s\n",
    "b = torch.tensor([2.0]*n, requires_grad=True)"
   ]
  },
  {
   "cell_type": "code",
   "execution_count": 42,
   "metadata": {},
   "outputs": [],
   "source": [
    "# Initialize D to be empty deque\n",
    "D = deque(maxlen=buff_size)"
   ]
  },
  {
   "cell_type": "code",
   "execution_count": 43,
   "metadata": {},
   "outputs": [],
   "source": [
    "def generate_diagonally_dominant_positive_definite_matrix(size):\n",
    "    # add a seed to make the random matrix reproducible\n",
    "    np.random.seed(42)\n",
    "    A = np.random.rand(size, size)\n",
    "    A = A + np.diag(np.sum(np.abs(A), axis=1) + 1)\n",
    "    A = (A + A.T)/2\n",
    "    return A"
   ]
  },
  {
   "cell_type": "code",
   "execution_count": 44,
   "metadata": {},
   "outputs": [],
   "source": [
    "# Cost (reward) function a transpose R a\n",
    "def reward(a, R):\n",
    "    return torch.matmul(torch.matmul(a.T,R), a)"
   ]
  },
  {
   "cell_type": "code",
   "execution_count": 45,
   "metadata": {},
   "outputs": [],
   "source": [
    "# generate a random action given the target parameter b s.t. a = b + N(0,1) (make sure a has entries only [-2,2])\n",
    "def generate_action(b):\n",
    "    a = b + torch.normal(0,1,(n,))\n",
    "    return torch.clamp(a, -2, 2)"
   ]
  },
  {
   "cell_type": "code",
   "execution_count": 46,
   "metadata": {},
   "outputs": [],
   "source": [
    "# Function for gradient clipping\n",
    "def clip_gradients(theta, max_norm):\n",
    "    torch.nn.utils.clip_grad_norm_(theta, max_norm)"
   ]
  },
  {
   "cell_type": "code",
   "execution_count": 47,
   "metadata": {},
   "outputs": [],
   "source": [
    "# Defining simple MLP for Q where we can change the number of layers and the number of neurons in each layer\n",
    "class Q_theta(nn.Module):\n",
    "    def __init__(self, input_dim, output_dim, hidden_dim):\n",
    "        super(Q_theta, self).__init__()\n",
    "        self.network = nn.Sequential(\n",
    "            nn.Linear(input_dim, hidden_dim),\n",
    "            nn.ReLU(),\n",
    "            nn.Linear(hidden_dim, hidden_dim),\n",
    "            nn.ReLU(),\n",
    "            nn.Linear(hidden_dim, output_dim)\n",
    "        )\n",
    "\n",
    "    def forward(self, x):\n",
    "        return self.network(x)\n",
    "\n",
    "    def loss(self, minibatch):\n",
    "        loss = 0.0\n",
    "        for a,r in minibatch:\n",
    "            loss += (self.forward(a) - r)**2\n",
    "        loss = loss/len(minibatch)\n",
    "        return loss"
   ]
  },
  {
   "cell_type": "code",
   "execution_count": 48,
   "metadata": {},
   "outputs": [],
   "source": [
    "# Function to update the parameters of Q with one step of gradient descent\n",
    "def update_Q(minibatch, learning_rate, q_model, max_norm=None):\n",
    "    q_optimizer= optim.Adam(q_model.parameters(), lr=0.001)\n",
    "    q_optimizer.zero_grad()\n",
    "    loss = Q.loss(minibatch)\n",
    "    loss.backward(retain_graph=True)\n",
    "    if max_norm:\n",
    "        clip_gradients(Q.parameters(), max_norm)\n",
    "    q_optimizer.step()"
   ]
  },
  {
   "cell_type": "code",
   "execution_count": 49,
   "metadata": {},
   "outputs": [],
   "source": [
    "b_optimizer = optim.Adam([b], lr=0.001)"
   ]
  },
  {
   "cell_type": "code",
   "execution_count": 50,
   "metadata": {},
   "outputs": [],
   "source": [
    "# Define the optimizer for b outside the update_b function, just after b is initialized\n",
    "b_optimizer = optim.Adam([b], lr=0.000001)\n",
    "\n",
    "# Modify the update_b function to use the optimizer\n",
    "def update_b(minibatch, Q, b, b_optimizer):\n",
    "    b_output = Q.forward(b)\n",
    "    b_grad = torch.autograd.grad(b_output, b, retain_graph=True)[0]\n",
    "\n",
    "    b_optimizer.zero_grad()\n",
    "    b_output.backward()\n",
    "    b_optimizer.step()\n",
    "\n",
    "    # gradient clipping\n",
    "    clip_gradients(b, 1)\n",
    "\n",
    "    # update b\n",
    "    with torch.no_grad():\n",
    "        b -= alpha * b_grad\n",
    "\n",
    "    return b\n"
   ]
  },
  {
   "cell_type": "code",
   "execution_count": 51,
   "metadata": {},
   "outputs": [],
   "source": [
    "# Variant 1: BaseMLP with dynamic buffer \n",
    "def MLP2():\n",
    "    global D, b, R\n",
    "\n",
    "    # list to store the costs to graph them\n",
    "    zoomcosts = {}\n",
    "    # Generate initial sample pairs\n",
    "    for i in range(d):\n",
    "        a = generate_action(b)\n",
    "        r = reward(a, R)\n",
    "        D.append((a,r))\n",
    "\n",
    "    for i in range(total_samples - d):\n",
    "\n",
    "        # generate a random action\n",
    "        a = generate_action(b)\n",
    "\n",
    "        # get the reward\n",
    "        r = reward(a, R)\n",
    "\n",
    "        # add the new sample pair to D\n",
    "        D.append((a,r))\n",
    "\n",
    "    # This is the variant area\n",
    "    #***************************************************************************************************\n",
    "        # Deque is full, so remove the oldest sample pair\n",
    "        if len(D) == buff_size:\n",
    "            D.popleft()\n",
    "    #***************************************************************************************************\n",
    "\n",
    "        # sample a minibatch from D\n",
    "        minibatch = random.sample(D, 32)\n",
    "\n",
    "        # update Q with one step of gradient descent\n",
    "        update_Q(minibatch, alpha, Q, 1.0)\n",
    "\n",
    "        # update b with one step of gradient descent\n",
    "        b=update_b(minibatch, Q, b, b_optimizer)\n",
    "\n",
    "        # print thr reward every 1000 iterations\n",
    "        if i % 500 == 0:\n",
    "            print(\"Cost at iteration \", i, \" is \", reward(b, R))\n",
    "            zoomcosts[i] = reward(b, R)\n",
    "\n",
    "    # return the costs and the final b\n",
    "    return reward(b, R), zoomcosts"
   ]
  },
  {
   "cell_type": "code",
   "execution_count": 52,
   "metadata": {},
   "outputs": [
    {
     "name": "stdout",
     "output_type": "stream",
     "text": [
      "Cost at iteration  0  is  tensor(119.9964, grad_fn=<DotBackward0>)\n"
     ]
    },
    {
     "name": "stdout",
     "output_type": "stream",
     "text": [
      "Cost at iteration  500  is  tensor(5.2204, grad_fn=<DotBackward0>)\n",
      "Cost at iteration  1000  is  tensor(1.2817, grad_fn=<DotBackward0>)\n",
      "Cost at iteration  1500  is  tensor(1.0010, grad_fn=<DotBackward0>)\n",
      "Cost at iteration  2000  is  tensor(0.3884, grad_fn=<DotBackward0>)\n",
      "Cost at iteration  2500  is  tensor(0.3768, grad_fn=<DotBackward0>)\n",
      "Cost at iteration  3000  is  tensor(0.3752, grad_fn=<DotBackward0>)\n",
      "Cost at iteration  3500  is  tensor(0.3738, grad_fn=<DotBackward0>)\n",
      "Cost at iteration  4000  is  tensor(0.4746, grad_fn=<DotBackward0>)\n",
      "Cost at iteration  4500  is  tensor(0.6974, grad_fn=<DotBackward0>)\n",
      "Cost at iteration  5000  is  tensor(0.8932, grad_fn=<DotBackward0>)\n",
      "Cost at iteration  5500  is  tensor(0.7827, grad_fn=<DotBackward0>)\n",
      "Cost at iteration  6000  is  tensor(0.8207, grad_fn=<DotBackward0>)\n",
      "Cost at iteration  6500  is  tensor(0.9081, grad_fn=<DotBackward0>)\n",
      "Cost at iteration  7000  is  tensor(0.8461, grad_fn=<DotBackward0>)\n",
      "Cost at iteration  7500  is  tensor(0.9979, grad_fn=<DotBackward0>)\n",
      "Cost at iteration  8000  is  tensor(1.0213, grad_fn=<DotBackward0>)\n",
      "Cost at iteration  8500  is  tensor(0.8374, grad_fn=<DotBackward0>)\n",
      "Cost at iteration  9000  is  tensor(0.8140, grad_fn=<DotBackward0>)\n",
      "Cost at iteration  0  is  tensor(120.0010, grad_fn=<DotBackward0>)\n",
      "Cost at iteration  500  is  tensor(5.8358, grad_fn=<DotBackward0>)\n",
      "Cost at iteration  1000  is  tensor(1.7517, grad_fn=<DotBackward0>)\n",
      "Cost at iteration  1500  is  tensor(0.4559, grad_fn=<DotBackward0>)\n",
      "Cost at iteration  2000  is  tensor(0.2691, grad_fn=<DotBackward0>)\n",
      "Cost at iteration  2500  is  tensor(0.3536, grad_fn=<DotBackward0>)\n",
      "Cost at iteration  3000  is  tensor(0.3480, grad_fn=<DotBackward0>)\n",
      "Cost at iteration  3500  is  tensor(0.3461, grad_fn=<DotBackward0>)\n",
      "Cost at iteration  4000  is  tensor(0.3461, grad_fn=<DotBackward0>)\n",
      "Cost at iteration  4500  is  tensor(0.3461, grad_fn=<DotBackward0>)\n",
      "Cost at iteration  5000  is  tensor(0.3461, grad_fn=<DotBackward0>)\n",
      "Cost at iteration  5500  is  tensor(0.5371, grad_fn=<DotBackward0>)\n",
      "Cost at iteration  6000  is  tensor(0.8654, grad_fn=<DotBackward0>)\n",
      "Cost at iteration  6500  is  tensor(1.0500, grad_fn=<DotBackward0>)\n",
      "Cost at iteration  7000  is  tensor(0.9914, grad_fn=<DotBackward0>)\n",
      "Cost at iteration  7500  is  tensor(0.9885, grad_fn=<DotBackward0>)\n",
      "Cost at iteration  8000  is  tensor(1.2988, grad_fn=<DotBackward0>)\n",
      "Cost at iteration  8500  is  tensor(1.3349, grad_fn=<DotBackward0>)\n",
      "Cost at iteration  9000  is  tensor(1.5066, grad_fn=<DotBackward0>)\n",
      "Cost at iteration  0  is  tensor(119.9963, grad_fn=<DotBackward0>)\n",
      "Cost at iteration  500  is  tensor(4.7759, grad_fn=<DotBackward0>)\n",
      "Cost at iteration  1000  is  tensor(1.7447, grad_fn=<DotBackward0>)\n",
      "Cost at iteration  1500  is  tensor(0.3461, grad_fn=<DotBackward0>)\n",
      "Cost at iteration  2000  is  tensor(0.5409, grad_fn=<DotBackward0>)\n",
      "Cost at iteration  2500  is  tensor(0.5489, grad_fn=<DotBackward0>)\n",
      "Cost at iteration  3000  is  tensor(0.8811, grad_fn=<DotBackward0>)\n",
      "Cost at iteration  3500  is  tensor(1.4692, grad_fn=<DotBackward0>)\n",
      "Cost at iteration  4000  is  tensor(2.2139, grad_fn=<DotBackward0>)\n",
      "Cost at iteration  4500  is  tensor(2.7831, grad_fn=<DotBackward0>)\n",
      "Cost at iteration  5000  is  tensor(2.8000, grad_fn=<DotBackward0>)\n",
      "Cost at iteration  5500  is  tensor(2.9742, grad_fn=<DotBackward0>)\n",
      "Cost at iteration  6000  is  tensor(3.4972, grad_fn=<DotBackward0>)\n",
      "Cost at iteration  6500  is  tensor(3.3934, grad_fn=<DotBackward0>)\n",
      "Cost at iteration  7000  is  tensor(3.1915, grad_fn=<DotBackward0>)\n",
      "Cost at iteration  7500  is  tensor(3.1990, grad_fn=<DotBackward0>)\n",
      "Cost at iteration  8000  is  tensor(3.1488, grad_fn=<DotBackward0>)\n",
      "Cost at iteration  8500  is  tensor(3.1801, grad_fn=<DotBackward0>)\n",
      "Cost at iteration  9000  is  tensor(3.6921, grad_fn=<DotBackward0>)\n",
      "Cost at iteration  0  is  tensor(119.9983, grad_fn=<DotBackward0>)\n",
      "Cost at iteration  500  is  tensor(8.1358, grad_fn=<DotBackward0>)\n",
      "Cost at iteration  1000  is  tensor(2.0658, grad_fn=<DotBackward0>)\n",
      "Cost at iteration  1500  is  tensor(0.9032, grad_fn=<DotBackward0>)\n",
      "Cost at iteration  2000  is  tensor(0.5190, grad_fn=<DotBackward0>)\n",
      "Cost at iteration  2500  is  tensor(0.3313, grad_fn=<DotBackward0>)\n",
      "Cost at iteration  3000  is  tensor(0.3646, grad_fn=<DotBackward0>)\n",
      "Cost at iteration  3500  is  tensor(0.7150, grad_fn=<DotBackward0>)\n",
      "Cost at iteration  4000  is  tensor(0.8752, grad_fn=<DotBackward0>)\n",
      "Cost at iteration  4500  is  tensor(0.9028, grad_fn=<DotBackward0>)\n",
      "Cost at iteration  5000  is  tensor(0.9579, grad_fn=<DotBackward0>)\n",
      "Cost at iteration  5500  is  tensor(1.2869, grad_fn=<DotBackward0>)\n",
      "Cost at iteration  6000  is  tensor(1.3441, grad_fn=<DotBackward0>)\n",
      "Cost at iteration  6500  is  tensor(1.5114, grad_fn=<DotBackward0>)\n",
      "Cost at iteration  7000  is  tensor(1.5044, grad_fn=<DotBackward0>)\n",
      "Cost at iteration  7500  is  tensor(1.4543, grad_fn=<DotBackward0>)\n",
      "Cost at iteration  8000  is  tensor(1.1776, grad_fn=<DotBackward0>)\n",
      "Cost at iteration  8500  is  tensor(1.2324, grad_fn=<DotBackward0>)\n",
      "Cost at iteration  9000  is  tensor(1.2126, grad_fn=<DotBackward0>)\n",
      "Cost at iteration  0  is  tensor(119.9943, grad_fn=<DotBackward0>)\n",
      "Cost at iteration  500  is  tensor(6.6252, grad_fn=<DotBackward0>)\n",
      "Cost at iteration  1000  is  tensor(1.5339, grad_fn=<DotBackward0>)\n",
      "Cost at iteration  1500  is  tensor(0.5182, grad_fn=<DotBackward0>)\n",
      "Cost at iteration  2000  is  tensor(0.3737, grad_fn=<DotBackward0>)\n",
      "Cost at iteration  2500  is  tensor(0.3731, grad_fn=<DotBackward0>)\n",
      "Cost at iteration  3000  is  tensor(0.3690, grad_fn=<DotBackward0>)\n",
      "Cost at iteration  3500  is  tensor(0.3706, grad_fn=<DotBackward0>)\n",
      "Cost at iteration  4000  is  tensor(0.6373, grad_fn=<DotBackward0>)\n",
      "Cost at iteration  4500  is  tensor(0.8626, grad_fn=<DotBackward0>)\n",
      "Cost at iteration  5000  is  tensor(1.1141, grad_fn=<DotBackward0>)\n",
      "Cost at iteration  5500  is  tensor(1.2039, grad_fn=<DotBackward0>)\n",
      "Cost at iteration  6000  is  tensor(1.3175, grad_fn=<DotBackward0>)\n",
      "Cost at iteration  6500  is  tensor(1.4573, grad_fn=<DotBackward0>)\n",
      "Cost at iteration  7000  is  tensor(1.4962, grad_fn=<DotBackward0>)\n",
      "Cost at iteration  7500  is  tensor(1.5130, grad_fn=<DotBackward0>)\n",
      "Cost at iteration  8000  is  tensor(1.8945, grad_fn=<DotBackward0>)\n",
      "Cost at iteration  8500  is  tensor(2.0715, grad_fn=<DotBackward0>)\n",
      "Cost at iteration  9000  is  tensor(2.0454, grad_fn=<DotBackward0>)\n",
      "Cost at iteration  0  is  tensor(119.9993, grad_fn=<DotBackward0>)\n",
      "Cost at iteration  500  is  tensor(2.2506, grad_fn=<DotBackward0>)\n",
      "Cost at iteration  1000  is  tensor(1.0444, grad_fn=<DotBackward0>)\n",
      "Cost at iteration  1500  is  tensor(0.3007, grad_fn=<DotBackward0>)\n",
      "Cost at iteration  2000  is  tensor(0.4231, grad_fn=<DotBackward0>)\n",
      "Cost at iteration  2500  is  tensor(0.4144, grad_fn=<DotBackward0>)\n",
      "Cost at iteration  3000  is  tensor(0.6572, grad_fn=<DotBackward0>)\n",
      "Cost at iteration  3500  is  tensor(1.1885, grad_fn=<DotBackward0>)\n",
      "Cost at iteration  4000  is  tensor(1.6217, grad_fn=<DotBackward0>)\n",
      "Cost at iteration  4500  is  tensor(1.6880, grad_fn=<DotBackward0>)\n",
      "Cost at iteration  5000  is  tensor(1.8385, grad_fn=<DotBackward0>)\n",
      "Cost at iteration  5500  is  tensor(2.2163, grad_fn=<DotBackward0>)\n",
      "Cost at iteration  6000  is  tensor(2.0920, grad_fn=<DotBackward0>)\n",
      "Cost at iteration  6500  is  tensor(2.3445, grad_fn=<DotBackward0>)\n",
      "Cost at iteration  7000  is  tensor(2.6263, grad_fn=<DotBackward0>)\n",
      "Cost at iteration  7500  is  tensor(2.5548, grad_fn=<DotBackward0>)\n",
      "Cost at iteration  8000  is  tensor(2.7865, grad_fn=<DotBackward0>)\n",
      "Cost at iteration  8500  is  tensor(2.8524, grad_fn=<DotBackward0>)\n",
      "Cost at iteration  9000  is  tensor(2.8684, grad_fn=<DotBackward0>)\n",
      "Cost at iteration  0  is  tensor(119.9990, grad_fn=<DotBackward0>)\n",
      "Cost at iteration  500  is  tensor(7.6286, grad_fn=<DotBackward0>)\n",
      "Cost at iteration  1000  is  tensor(1.5958, grad_fn=<DotBackward0>)\n",
      "Cost at iteration  1500  is  tensor(0.6080, grad_fn=<DotBackward0>)\n",
      "Cost at iteration  2000  is  tensor(0.4070, grad_fn=<DotBackward0>)\n",
      "Cost at iteration  2500  is  tensor(0.5334, grad_fn=<DotBackward0>)\n",
      "Cost at iteration  3000  is  tensor(0.4980, grad_fn=<DotBackward0>)\n",
      "Cost at iteration  3500  is  tensor(0.4901, grad_fn=<DotBackward0>)\n",
      "Cost at iteration  4000  is  tensor(0.6055, grad_fn=<DotBackward0>)\n",
      "Cost at iteration  4500  is  tensor(0.7809, grad_fn=<DotBackward0>)\n",
      "Cost at iteration  5000  is  tensor(1.1122, grad_fn=<DotBackward0>)\n",
      "Cost at iteration  5500  is  tensor(1.3226, grad_fn=<DotBackward0>)\n",
      "Cost at iteration  6000  is  tensor(1.5057, grad_fn=<DotBackward0>)\n",
      "Cost at iteration  6500  is  tensor(1.9060, grad_fn=<DotBackward0>)\n",
      "Cost at iteration  7000  is  tensor(2.0985, grad_fn=<DotBackward0>)\n",
      "Cost at iteration  7500  is  tensor(2.0745, grad_fn=<DotBackward0>)\n",
      "Cost at iteration  8000  is  tensor(2.2065, grad_fn=<DotBackward0>)\n",
      "Cost at iteration  8500  is  tensor(2.2653, grad_fn=<DotBackward0>)\n",
      "Cost at iteration  9000  is  tensor(2.6354, grad_fn=<DotBackward0>)\n",
      "Cost at iteration  0  is  tensor(119.9974, grad_fn=<DotBackward0>)\n",
      "Cost at iteration  500  is  tensor(5.3239, grad_fn=<DotBackward0>)\n",
      "Cost at iteration  1000  is  tensor(1.9166, grad_fn=<DotBackward0>)\n",
      "Cost at iteration  1500  is  tensor(0.3557, grad_fn=<DotBackward0>)\n",
      "Cost at iteration  2000  is  tensor(0.4161, grad_fn=<DotBackward0>)\n",
      "Cost at iteration  2500  is  tensor(0.3321, grad_fn=<DotBackward0>)\n",
      "Cost at iteration  3000  is  tensor(0.3738, grad_fn=<DotBackward0>)\n",
      "Cost at iteration  3500  is  tensor(0.5523, grad_fn=<DotBackward0>)\n",
      "Cost at iteration  4000  is  tensor(0.7989, grad_fn=<DotBackward0>)\n",
      "Cost at iteration  4500  is  tensor(1.0183, grad_fn=<DotBackward0>)\n",
      "Cost at iteration  5000  is  tensor(1.0708, grad_fn=<DotBackward0>)\n",
      "Cost at iteration  5500  is  tensor(0.9549, grad_fn=<DotBackward0>)\n",
      "Cost at iteration  6000  is  tensor(1.0573, grad_fn=<DotBackward0>)\n",
      "Cost at iteration  6500  is  tensor(1.1074, grad_fn=<DotBackward0>)\n",
      "Cost at iteration  7000  is  tensor(1.0803, grad_fn=<DotBackward0>)\n",
      "Cost at iteration  7500  is  tensor(1.0393, grad_fn=<DotBackward0>)\n",
      "Cost at iteration  8000  is  tensor(1.2477, grad_fn=<DotBackward0>)\n",
      "Cost at iteration  8500  is  tensor(1.1351, grad_fn=<DotBackward0>)\n",
      "Cost at iteration  9000  is  tensor(1.3875, grad_fn=<DotBackward0>)\n",
      "Cost at iteration  0  is  tensor(119.9966, grad_fn=<DotBackward0>)\n",
      "Cost at iteration  500  is  tensor(6.0616, grad_fn=<DotBackward0>)\n",
      "Cost at iteration  1000  is  tensor(1.8967, grad_fn=<DotBackward0>)\n",
      "Cost at iteration  1500  is  tensor(0.6940, grad_fn=<DotBackward0>)\n",
      "Cost at iteration  2000  is  tensor(0.4132, grad_fn=<DotBackward0>)\n",
      "Cost at iteration  2500  is  tensor(0.4362, grad_fn=<DotBackward0>)\n",
      "Cost at iteration  3000  is  tensor(0.4084, grad_fn=<DotBackward0>)\n",
      "Cost at iteration  3500  is  tensor(0.6245, grad_fn=<DotBackward0>)\n",
      "Cost at iteration  4000  is  tensor(0.9294, grad_fn=<DotBackward0>)\n",
      "Cost at iteration  4500  is  tensor(1.6074, grad_fn=<DotBackward0>)\n",
      "Cost at iteration  5000  is  tensor(2.0398, grad_fn=<DotBackward0>)\n",
      "Cost at iteration  5500  is  tensor(2.1827, grad_fn=<DotBackward0>)\n",
      "Cost at iteration  6000  is  tensor(1.9786, grad_fn=<DotBackward0>)\n",
      "Cost at iteration  6500  is  tensor(1.7256, grad_fn=<DotBackward0>)\n",
      "Cost at iteration  7000  is  tensor(1.8696, grad_fn=<DotBackward0>)\n",
      "Cost at iteration  7500  is  tensor(1.7921, grad_fn=<DotBackward0>)\n",
      "Cost at iteration  8000  is  tensor(1.7248, grad_fn=<DotBackward0>)\n",
      "Cost at iteration  8500  is  tensor(1.4255, grad_fn=<DotBackward0>)\n",
      "Cost at iteration  9000  is  tensor(1.5448, grad_fn=<DotBackward0>)\n",
      "Cost at iteration  0  is  tensor(120.0000, grad_fn=<DotBackward0>)\n",
      "Cost at iteration  500  is  tensor(5.5314, grad_fn=<DotBackward0>)\n",
      "Cost at iteration  1000  is  tensor(1.9936, grad_fn=<DotBackward0>)\n",
      "Cost at iteration  1500  is  tensor(0.5669, grad_fn=<DotBackward0>)\n",
      "Cost at iteration  2000  is  tensor(0.5163, grad_fn=<DotBackward0>)\n",
      "Cost at iteration  2500  is  tensor(0.5425, grad_fn=<DotBackward0>)\n",
      "Cost at iteration  3000  is  tensor(0.9587, grad_fn=<DotBackward0>)\n",
      "Cost at iteration  3500  is  tensor(1.1807, grad_fn=<DotBackward0>)\n",
      "Cost at iteration  4000  is  tensor(1.2228, grad_fn=<DotBackward0>)\n",
      "Cost at iteration  4500  is  tensor(1.8062, grad_fn=<DotBackward0>)\n",
      "Cost at iteration  5000  is  tensor(2.1405, grad_fn=<DotBackward0>)\n",
      "Cost at iteration  5500  is  tensor(2.3773, grad_fn=<DotBackward0>)\n",
      "Cost at iteration  6000  is  tensor(2.5997, grad_fn=<DotBackward0>)\n",
      "Cost at iteration  6500  is  tensor(2.5944, grad_fn=<DotBackward0>)\n",
      "Cost at iteration  7000  is  tensor(3.2371, grad_fn=<DotBackward0>)\n",
      "Cost at iteration  7500  is  tensor(3.5593, grad_fn=<DotBackward0>)\n",
      "Cost at iteration  8000  is  tensor(3.8602, grad_fn=<DotBackward0>)\n",
      "Cost at iteration  8500  is  tensor(3.7892, grad_fn=<DotBackward0>)\n",
      "Cost at iteration  9000  is  tensor(3.7911, grad_fn=<DotBackward0>)\n"
     ]
    }
   ],
   "source": [
    "# this variant adds optimization to the b parameter\n",
    "costs = []\n",
    "for iter in range(10):\n",
    "    global b, D, Q\n",
    "    # set the seed\n",
    "    torch.manual_seed(iter)\n",
    "    np.random.seed(iter)\n",
    "\n",
    "    # reset the parameters\n",
    "    b = torch.tensor([2.0]*n, requires_grad=True)\n",
    "    D = deque(maxlen=buff_size)\n",
    "    Q = Q_theta(n, 1, 64)\n",
    "\n",
    "    # run the algorithm\n",
    "    final_cost, zoomcost = MLP2()\n",
    "    costs.append(final_cost)"
   ]
  },
  {
   "cell_type": "code",
   "execution_count": 56,
   "metadata": {},
   "outputs": [
    {
     "name": "stdout",
     "output_type": "stream",
     "text": [
      "[0.9718625 1.6999421 3.6124587 1.4158846 1.9251542 2.9814591 2.2638705\n",
      " 1.6029232 1.3957804 3.6879451]\n",
      "tensor(2.1557)\n"
     ]
    }
   ],
   "source": [
    "print(costs)\n",
    "# print the mean cost (they are tensor objects)\n",
    "print(torch.mean(torch.tensor(costs)))"
   ]
  },
  {
   "cell_type": "code",
   "execution_count": 58,
   "metadata": {},
   "outputs": [
    {
     "name": "stdout",
     "output_type": "stream",
     "text": [
      "[0.9718625 1.6999421 3.6124587 1.4158846 1.9251542 2.9814591 2.2638705\n",
      " 1.6029232 1.3957804 3.6879451]\n",
      "tensor(2.1557)\n"
     ]
    },
    {
     "data": {
      "image/png": "[encoded data removed]",
      "text/plain": [
       "<Figure size 640x480 with 1 Axes>"
      ]
     },
     "metadata": {},
     "output_type": "display_data"
    }
   ],
   "source": [
    "print(costs)\n",
    "# print the mean cost (they are tensor objects)\n",
    "print(torch.mean(torch.tensor(costs)))\n",
    "# convert the costs to a numpy array using detach\n",
    "costs = torch.tensor(costs).detach().numpy()\n",
    "# graph the costs\n",
    "import matplotlib.pyplot as plt\n",
    "plt.plot(costs)\n",
    "plt.xlabel('Iteration')\n",
    "plt.ylabel('Cost')\n",
    "plt.title('ML4: Cost vs. Iteration')\n",
    "mean = costs.mean()\n",
    "plt.axhline(y=mean, color='r', linestyle='-', label='Mean Cost')\n",
    "# plt.show()\n",
    "# save the figure\n",
    "plt.savefig('MLP4.png')"
   ]
  },
  {
   "cell_type": "code",
   "execution_count": 55,
   "metadata": {},
   "outputs": [
    {
     "name": "stdout",
     "output_type": "stream",
     "text": [
      "{0: tensor(120.0000, grad_fn=<DotBackward0>), 500: tensor(5.5314, grad_fn=<DotBackward0>), 1000: tensor(1.9936, grad_fn=<DotBackward0>), 1500: tensor(0.5669, grad_fn=<DotBackward0>), 2000: tensor(0.5163, grad_fn=<DotBackward0>), 2500: tensor(0.5425, grad_fn=<DotBackward0>), 3000: tensor(0.9587, grad_fn=<DotBackward0>), 3500: tensor(1.1807, grad_fn=<DotBackward0>), 4000: tensor(1.2228, grad_fn=<DotBackward0>), 4500: tensor(1.8062, grad_fn=<DotBackward0>), 5000: tensor(2.1405, grad_fn=<DotBackward0>), 5500: tensor(2.3773, grad_fn=<DotBackward0>), 6000: tensor(2.5997, grad_fn=<DotBackward0>), 6500: tensor(2.5944, grad_fn=<DotBackward0>), 7000: tensor(3.2371, grad_fn=<DotBackward0>), 7500: tensor(3.5593, grad_fn=<DotBackward0>), 8000: tensor(3.8602, grad_fn=<DotBackward0>), 8500: tensor(3.7892, grad_fn=<DotBackward0>), 9000: tensor(3.7911, grad_fn=<DotBackward0>)}\n"
     ]
    }
   ],
   "source": [
    "zoomcost = dict(zoomcost)\n",
    "\n",
    "# convert the zoomcosts to a python dictionary\n",
    "\n",
    "def tensors_to_numpy(tensor_dict):\n",
    "    numpy_dict = {}\n",
    "    for key, tensor in tensor_dict.items():\n",
    "        # Ensure tensor is on CPU before converting\n",
    "        numpy_dict[key] = tensor.cpu().numpy()\n",
    "    return numpy_dict\n",
    "\n",
    "# convert the zoomcosts to a regular dictionary\n",
    "# zoomcost = tensors_to_numpy(zoomcost)\n",
    "print(zoomcost)"
   ]
  }
 ],
 "metadata": {
  "kernelspec": {
   "display_name": "Python 3",
   "language": "python",
   "name": "python3"
  },
  "language_info": {
   "codemirror_mode": {
    "name": "ipython",
    "version": 3
   },
   "file_extension": ".py",
   "mimetype": "text/x-python",
   "name": "python",
   "nbconvert_exporter": "python",
   "pygments_lexer": "ipython3",
   "version": "3.10.8"
  }
 },
 "nbformat": 4,
 "nbformat_minor": 2
}
