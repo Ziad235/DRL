{
 "cells": [
  {
   "cell_type": "code",
   "execution_count": 8,
   "metadata": {},
   "outputs": [],
   "source": [
    "import torch\n",
    "import torch.nn as nn\n",
    "import torch.optim as optim\n",
    "import random\n",
    "import numpy as np\n",
    "from collections import deque"
   ]
  },
  {
   "cell_type": "code",
   "execution_count": 9,
   "metadata": {},
   "outputs": [],
   "source": [
    "# Parameters\n",
    "n = 30 # dimension of actions and/or cost matrix\n",
    "d = 500 # number of initial sample pairs\n",
    "total_samples = 10000 # number of total samples that can be used\n",
    "buff_size = 500 # buffer size of D to make use of newer experiences and limiting the effect of old ones by popping them\n",
    "alpha = 0.1 # learning rate for when performing gradient descent on b"
   ]
  },
  {
   "cell_type": "code",
   "execution_count": 10,
   "metadata": {},
   "outputs": [],
   "source": [
    "# Define what you want R to be\n",
    "# R = np.identity(n) # identity matrix\n",
    "R = generate_diagonally_dominant_positive_definite_matrix(n)\n",
    "R = torch.tensor(R, dtype=torch.float32)"
   ]
  },
  {
   "cell_type": "code",
   "execution_count": 11,
   "metadata": {},
   "outputs": [],
   "source": [
    "# Initialize b to all 2.0s\n",
    "b = torch.tensor([2.0]*n, requires_grad=True)"
   ]
  },
  {
   "cell_type": "code",
   "execution_count": 12,
   "metadata": {},
   "outputs": [],
   "source": [
    "# Initialize D to be empty deque\n",
    "D = deque(maxlen=buff_size)"
   ]
  },
  {
   "cell_type": "code",
   "execution_count": 13,
   "metadata": {},
   "outputs": [],
   "source": [
    "def generate_diagonally_dominant_positive_definite_matrix(size):\n",
    "    # add a seed to make the random matrix reproducible\n",
    "    np.random.seed(42)\n",
    "    A = np.random.rand(size, size)\n",
    "    A = A + np.diag(np.sum(np.abs(A), axis=1) + 1)\n",
    "    A = (A + A.T)/2\n",
    "    return A"
   ]
  },
  {
   "cell_type": "code",
   "execution_count": 14,
   "metadata": {},
   "outputs": [],
   "source": [
    "# Cost (reward) function a transpose R a\n",
    "def reward(a, R):\n",
    "    return torch.matmul(torch.matmul(a.T,R), a)"
   ]
  },
  {
   "cell_type": "code",
   "execution_count": 15,
   "metadata": {},
   "outputs": [],
   "source": [
    "# generate a random action given the target parameter b s.t. a = b + N(0,1) (make sure a has entries only [-2,2])\n",
    "def generate_action(b):\n",
    "    a = b + torch.normal(0,1,(n,))\n",
    "    return torch.clamp(a, -2, 2)"
   ]
  },
  {
   "cell_type": "code",
   "execution_count": 16,
   "metadata": {},
   "outputs": [],
   "source": [
    "# Function for gradient clipping\n",
    "def clip_gradients(theta, max_norm):\n",
    "    torch.nn.utils.clip_grad_norm_(theta, max_norm)"
   ]
  },
  {
   "cell_type": "code",
   "execution_count": 17,
   "metadata": {},
   "outputs": [],
   "source": [
    "# Defining simple MLP for Q where we can change the number of layers and the number of neurons in each layer\n",
    "class Q_theta(nn.Module):\n",
    "    def __init__(self, input_dim, output_dim, hidden_dim):\n",
    "        super(Q_theta, self).__init__()\n",
    "        self.network = nn.Sequential(\n",
    "            nn.Linear(input_dim, hidden_dim),\n",
    "            nn.ReLU(),\n",
    "            nn.Linear(hidden_dim, hidden_dim),\n",
    "            nn.ReLU(),\n",
    "            nn.Linear(hidden_dim, output_dim)\n",
    "        )\n",
    "\n",
    "    def forward(self, x):\n",
    "        return self.network(x)\n",
    "\n",
    "    def loss(self, minibatch):\n",
    "        loss = 0.0\n",
    "        for a,r in minibatch:\n",
    "            loss += (self.forward(a) - r)**2\n",
    "        loss = loss/len(minibatch)\n",
    "        return loss\n",
    "\n",
    "# Initialize Q_theta\n",
    "Q = Q_theta(n, 1, 64)"
   ]
  },
  {
   "cell_type": "code",
   "execution_count": 18,
   "metadata": {},
   "outputs": [],
   "source": [
    "optimizer = optim.Adam(Q.parameters(), lr=0.01)"
   ]
  },
  {
   "cell_type": "code",
   "execution_count": 19,
   "metadata": {},
   "outputs": [],
   "source": [
    "# Function to update the parameters of Q with one step of gradient descent\n",
    "def update_Q(minibatch, learning_rate, max_norm=None):\n",
    "    optimizer.zero_grad()  # Reset gradients to zero before backward pass\n",
    "    loss = Q.loss(minibatch)\n",
    "    loss.backward(retain_graph=True)  # Perform backpropagation\n",
    "    if max_norm is not None:\n",
    "        clip_gradients(Q.parameters(), max_norm=max_norm)  # Gradient clipping\n",
    "\n",
    "    # Manually update the parameters\n",
    "    with torch.no_grad():  # Disable gradient tracking to perform manual updates\n",
    "        for param in Q.parameters():\n",
    "            param -= learning_rate * param.grad  # Update parameters using gradient descent"
   ]
  },
  {
   "cell_type": "code",
   "execution_count": 20,
   "metadata": {},
   "outputs": [],
   "source": [
    "# Function to update the parameters of b with one step of gradient descent\n",
    "def update_b(Q, b):\n",
    "    # To update b, we need to calculate the gradient w.r.t. to it from the Q network's output (use gradient clipping)\n",
    "    b_grad = torch.autograd.grad(Q(b.unsqueeze(0)), b, create_graph=True)[0]\n",
    "    with torch.no_grad():  # Update b without tracking gradients\n",
    "        b.sub_(alpha * b_grad)\n",
    "        # Clip gradients using gradient clipping\n",
    "        clip_gradients(b, max_norm=1.0)\n",
    "\n",
    "    return b"
   ]
  },
  {
   "cell_type": "code",
   "execution_count": 21,
   "metadata": {},
   "outputs": [],
   "source": [
    "# Variant 1: BaseMLP with dynamic buffer \n",
    "def MLP1():\n",
    "    global D, b, R\n",
    "\n",
    "    # list to store the costs to graph them\n",
    "    zoomcosts = {}\n",
    "\n",
    "    # Generate initial sample pairs\n",
    "    for i in range(d):\n",
    "        a = generate_action(b)\n",
    "        r = reward(a, R)\n",
    "        D.append((a,r))\n",
    "\n",
    "    for i in range(total_samples - d):\n",
    "\n",
    "        # generate a random action\n",
    "        a = generate_action(b)\n",
    "\n",
    "        # get the reward\n",
    "        r = reward(a, R)\n",
    "\n",
    "        # add the new sample pair to D\n",
    "        D.append((a,r))\n",
    "\n",
    "    # This is the variant area\n",
    "    #***************************************************************************************************\n",
    "        # Deque is full, so remove the oldest sample pair\n",
    "        if len(D) == buff_size:\n",
    "            D.popleft()\n",
    "    #***************************************************************************************************\n",
    "\n",
    "        # sample a minibatch from D\n",
    "        minibatch = random.sample(D, 32)\n",
    "\n",
    "        # update Q with one step of gradient descent\n",
    "        update_Q(minibatch, 0.1, 1.0)\n",
    "\n",
    "        # update b with one step of gradient descent\n",
    "        b=update_b(Q,b)\n",
    "\n",
    "        # print thr reward every 1000 iterations\n",
    "        if i % 500 == 0:\n",
    "            print(\"Cost at iteration \", i, \" is \", reward(b, R))\n",
    "            zoomcosts[i] = reward(b, R)\n",
    "\n",
    "\n",
    "    # return the costs and the final b\n",
    "    return reward(b, R), zoomcosts"
   ]
  },
  {
   "cell_type": "code",
   "execution_count": 22,
   "metadata": {},
   "outputs": [
    {
     "name": "stderr",
     "output_type": "stream",
     "text": [
      "/var/folders/22/nrb4t9gx0n9bfqq_y59_73p80000gn/T/ipykernel_30206/2388056880.py:3: UserWarning: The use of `x.T` on tensors of dimension other than 2 to reverse their shape is deprecated and it will throw an error in a future release. Consider `x.mT` to transpose batches of matrices or `x.permute(*torch.arange(x.ndim - 1, -1, -1))` to reverse the dimensions of a tensor. (Triggered internally at /Users/runner/work/pytorch/pytorch/pytorch/aten/src/ATen/native/TensorShape.cpp:3618.)\n",
      "  return torch.matmul(torch.matmul(a.T,R), a)\n"
     ]
    },
    {
     "name": "stdout",
     "output_type": "stream",
     "text": [
      "Cost at iteration  0  is  tensor(3662.6172, grad_fn=<DotBackward0>)\n",
      "Cost at iteration  500  is  tensor(46550.8633, grad_fn=<DotBackward0>)\n",
      "Cost at iteration  1000  is  tensor(33808.6328, grad_fn=<DotBackward0>)\n",
      "Cost at iteration  1500  is  tensor(9076.2285, grad_fn=<DotBackward0>)\n",
      "Cost at iteration  2000  is  tensor(21349.5156, grad_fn=<DotBackward0>)\n",
      "Cost at iteration  2500  is  tensor(16753.9180, grad_fn=<DotBackward0>)\n",
      "Cost at iteration  3000  is  tensor(21667.6953, grad_fn=<DotBackward0>)\n",
      "Cost at iteration  3500  is  tensor(15234.3184, grad_fn=<DotBackward0>)\n",
      "Cost at iteration  4000  is  tensor(22672.8633, grad_fn=<DotBackward0>)\n",
      "Cost at iteration  4500  is  tensor(25108.2910, grad_fn=<DotBackward0>)\n",
      "Cost at iteration  5000  is  tensor(10853.1152, grad_fn=<DotBackward0>)\n",
      "Cost at iteration  5500  is  tensor(10988.1426, grad_fn=<DotBackward0>)\n",
      "Cost at iteration  6000  is  tensor(10801.1797, grad_fn=<DotBackward0>)\n",
      "Cost at iteration  6500  is  tensor(8333.1787, grad_fn=<DotBackward0>)\n",
      "Cost at iteration  7000  is  tensor(12046.2471, grad_fn=<DotBackward0>)\n",
      "Cost at iteration  7500  is  tensor(13508.6484, grad_fn=<DotBackward0>)\n",
      "Cost at iteration  8000  is  tensor(37509.2734, grad_fn=<DotBackward0>)\n",
      "Cost at iteration  8500  is  tensor(15013.8594, grad_fn=<DotBackward0>)\n",
      "Cost at iteration  9000  is  tensor(7117.8066, grad_fn=<DotBackward0>)\n",
      "Cost at iteration  0  is  tensor(3663.7637, grad_fn=<DotBackward0>)\n",
      "Cost at iteration  500  is  tensor(45413.9609, grad_fn=<DotBackward0>)\n",
      "Cost at iteration  1000  is  tensor(32954.4688, grad_fn=<DotBackward0>)\n",
      "Cost at iteration  1500  is  tensor(8520.7051, grad_fn=<DotBackward0>)\n",
      "Cost at iteration  2000  is  tensor(4663.7139, grad_fn=<DotBackward0>)\n",
      "Cost at iteration  2500  is  tensor(5268.8579, grad_fn=<DotBackward0>)\n",
      "Cost at iteration  3000  is  tensor(15125.6016, grad_fn=<DotBackward0>)\n",
      "Cost at iteration  3500  is  tensor(9665.5547, grad_fn=<DotBackward0>)\n",
      "Cost at iteration  4000  is  tensor(7898.4082, grad_fn=<DotBackward0>)\n",
      "Cost at iteration  4500  is  tensor(37875.0430, grad_fn=<DotBackward0>)\n",
      "Cost at iteration  5000  is  tensor(55697.1406, grad_fn=<DotBackward0>)\n",
      "Cost at iteration  5500  is  tensor(17348.0684, grad_fn=<DotBackward0>)\n",
      "Cost at iteration  6000  is  tensor(79465.6641, grad_fn=<DotBackward0>)\n",
      "Cost at iteration  6500  is  tensor(12189.5938, grad_fn=<DotBackward0>)\n",
      "Cost at iteration  7000  is  tensor(21481.8672, grad_fn=<DotBackward0>)\n",
      "Cost at iteration  7500  is  tensor(33168.9570, grad_fn=<DotBackward0>)\n",
      "Cost at iteration  8000  is  tensor(20421.8691, grad_fn=<DotBackward0>)\n",
      "Cost at iteration  8500  is  tensor(22333.5000, grad_fn=<DotBackward0>)\n",
      "Cost at iteration  9000  is  tensor(41367.7500, grad_fn=<DotBackward0>)\n",
      "Cost at iteration  0  is  tensor(3662.6050, grad_fn=<DotBackward0>)\n",
      "Cost at iteration  500  is  tensor(37937.0312, grad_fn=<DotBackward0>)\n",
      "Cost at iteration  1000  is  tensor(17408.7422, grad_fn=<DotBackward0>)\n",
      "Cost at iteration  1500  is  tensor(12797.6318, grad_fn=<DotBackward0>)\n",
      "Cost at iteration  2000  is  tensor(7057.9888, grad_fn=<DotBackward0>)\n",
      "Cost at iteration  2500  is  tensor(6679.4814, grad_fn=<DotBackward0>)\n",
      "Cost at iteration  3000  is  tensor(13869.8516, grad_fn=<DotBackward0>)\n",
      "Cost at iteration  3500  is  tensor(32671.0996, grad_fn=<DotBackward0>)\n",
      "Cost at iteration  4000  is  tensor(22220.2773, grad_fn=<DotBackward0>)\n",
      "Cost at iteration  4500  is  tensor(16958.3359, grad_fn=<DotBackward0>)\n",
      "Cost at iteration  5000  is  tensor(22016.6797, grad_fn=<DotBackward0>)\n",
      "Cost at iteration  5500  is  tensor(20836.2168, grad_fn=<DotBackward0>)\n",
      "Cost at iteration  6000  is  tensor(18045.9082, grad_fn=<DotBackward0>)\n",
      "Cost at iteration  6500  is  tensor(31079.5781, grad_fn=<DotBackward0>)\n",
      "Cost at iteration  7000  is  tensor(19875.7930, grad_fn=<DotBackward0>)\n",
      "Cost at iteration  7500  is  tensor(25987.6250, grad_fn=<DotBackward0>)\n",
      "Cost at iteration  8000  is  tensor(18392.1250, grad_fn=<DotBackward0>)\n",
      "Cost at iteration  8500  is  tensor(19911.4883, grad_fn=<DotBackward0>)\n",
      "Cost at iteration  9000  is  tensor(19386.9648, grad_fn=<DotBackward0>)\n",
      "Cost at iteration  0  is  tensor(3663.5264, grad_fn=<DotBackward0>)\n",
      "Cost at iteration  500  is  tensor(31771.3008, grad_fn=<DotBackward0>)\n",
      "Cost at iteration  1000  is  tensor(24382.9922, grad_fn=<DotBackward0>)\n",
      "Cost at iteration  1500  is  tensor(8377.5723, grad_fn=<DotBackward0>)\n",
      "Cost at iteration  2000  is  tensor(9567.5137, grad_fn=<DotBackward0>)\n",
      "Cost at iteration  2500  is  tensor(16449.4883, grad_fn=<DotBackward0>)\n",
      "Cost at iteration  3000  is  tensor(16668.9980, grad_fn=<DotBackward0>)\n",
      "Cost at iteration  3500  is  tensor(12524.7090, grad_fn=<DotBackward0>)\n",
      "Cost at iteration  4000  is  tensor(12542.9131, grad_fn=<DotBackward0>)\n",
      "Cost at iteration  4500  is  tensor(13951.1211, grad_fn=<DotBackward0>)\n",
      "Cost at iteration  5000  is  tensor(54572.8203, grad_fn=<DotBackward0>)\n",
      "Cost at iteration  5500  is  tensor(183344.1562, grad_fn=<DotBackward0>)\n",
      "Cost at iteration  6000  is  tensor(259382.5938, grad_fn=<DotBackward0>)\n",
      "Cost at iteration  6500  is  tensor(15878.3389, grad_fn=<DotBackward0>)\n",
      "Cost at iteration  7000  is  tensor(13535.6055, grad_fn=<DotBackward0>)\n",
      "Cost at iteration  7500  is  tensor(10587.7129, grad_fn=<DotBackward0>)\n",
      "Cost at iteration  8000  is  tensor(15705.0430, grad_fn=<DotBackward0>)\n",
      "Cost at iteration  8500  is  tensor(12962.9795, grad_fn=<DotBackward0>)\n",
      "Cost at iteration  9000  is  tensor(12971.8691, grad_fn=<DotBackward0>)\n",
      "Cost at iteration  0  is  tensor(3661.7183, grad_fn=<DotBackward0>)\n",
      "Cost at iteration  500  is  tensor(38803.8047, grad_fn=<DotBackward0>)\n",
      "Cost at iteration  1000  is  tensor(29773.5664, grad_fn=<DotBackward0>)\n",
      "Cost at iteration  1500  is  tensor(8517.5781, grad_fn=<DotBackward0>)\n",
      "Cost at iteration  2000  is  tensor(12146.9961, grad_fn=<DotBackward0>)\n",
      "Cost at iteration  2500  is  tensor(14616.1719, grad_fn=<DotBackward0>)\n",
      "Cost at iteration  3000  is  tensor(31336.5078, grad_fn=<DotBackward0>)\n",
      "Cost at iteration  3500  is  tensor(35775.8672, grad_fn=<DotBackward0>)\n",
      "Cost at iteration  4000  is  tensor(29936.3984, grad_fn=<DotBackward0>)\n",
      "Cost at iteration  4500  is  tensor(23939.4531, grad_fn=<DotBackward0>)\n",
      "Cost at iteration  5000  is  tensor(15421.5117, grad_fn=<DotBackward0>)\n",
      "Cost at iteration  5500  is  tensor(16431.2598, grad_fn=<DotBackward0>)\n",
      "Cost at iteration  6000  is  tensor(17544.1504, grad_fn=<DotBackward0>)\n",
      "Cost at iteration  6500  is  tensor(23616.9727, grad_fn=<DotBackward0>)\n",
      "Cost at iteration  7000  is  tensor(17589.1680, grad_fn=<DotBackward0>)\n",
      "Cost at iteration  7500  is  tensor(17079.9336, grad_fn=<DotBackward0>)\n",
      "Cost at iteration  8000  is  tensor(27983.8008, grad_fn=<DotBackward0>)\n",
      "Cost at iteration  8500  is  tensor(76065.2969, grad_fn=<DotBackward0>)\n",
      "Cost at iteration  9000  is  tensor(36756.4766, grad_fn=<DotBackward0>)\n",
      "Cost at iteration  0  is  tensor(3663.5911, grad_fn=<DotBackward0>)\n",
      "Cost at iteration  500  is  tensor(36797.2734, grad_fn=<DotBackward0>)\n",
      "Cost at iteration  1000  is  tensor(40088.9492, grad_fn=<DotBackward0>)\n",
      "Cost at iteration  1500  is  tensor(4449.9648, grad_fn=<DotBackward0>)\n",
      "Cost at iteration  2000  is  tensor(10896.5410, grad_fn=<DotBackward0>)\n",
      "Cost at iteration  2500  is  tensor(12871.7588, grad_fn=<DotBackward0>)\n",
      "Cost at iteration  3000  is  tensor(11493.4590, grad_fn=<DotBackward0>)\n",
      "Cost at iteration  3500  is  tensor(31361.8496, grad_fn=<DotBackward0>)\n",
      "Cost at iteration  4000  is  tensor(32356.2402, grad_fn=<DotBackward0>)\n",
      "Cost at iteration  4500  is  tensor(26401.4102, grad_fn=<DotBackward0>)\n",
      "Cost at iteration  5000  is  tensor(30469.0098, grad_fn=<DotBackward0>)\n",
      "Cost at iteration  5500  is  tensor(37662.3125, grad_fn=<DotBackward0>)\n",
      "Cost at iteration  6000  is  tensor(30412.8926, grad_fn=<DotBackward0>)\n",
      "Cost at iteration  6500  is  tensor(29786.1289, grad_fn=<DotBackward0>)\n",
      "Cost at iteration  7000  is  tensor(24081.3477, grad_fn=<DotBackward0>)\n",
      "Cost at iteration  7500  is  tensor(47068.5156, grad_fn=<DotBackward0>)\n",
      "Cost at iteration  8000  is  tensor(45011.8320, grad_fn=<DotBackward0>)\n",
      "Cost at iteration  8500  is  tensor(33468.7422, grad_fn=<DotBackward0>)\n",
      "Cost at iteration  9000  is  tensor(45248.3750, grad_fn=<DotBackward0>)\n",
      "Cost at iteration  0  is  tensor(3662.9309, grad_fn=<DotBackward0>)\n",
      "Cost at iteration  500  is  tensor(58103.8125, grad_fn=<DotBackward0>)\n",
      "Cost at iteration  1000  is  tensor(17726.7246, grad_fn=<DotBackward0>)\n",
      "Cost at iteration  1500  is  tensor(8054.1963, grad_fn=<DotBackward0>)\n",
      "Cost at iteration  2000  is  tensor(5865.2036, grad_fn=<DotBackward0>)\n",
      "Cost at iteration  2500  is  tensor(9048.6641, grad_fn=<DotBackward0>)\n",
      "Cost at iteration  3000  is  tensor(17097.4102, grad_fn=<DotBackward0>)\n",
      "Cost at iteration  3500  is  tensor(23991.3945, grad_fn=<DotBackward0>)\n",
      "Cost at iteration  4000  is  tensor(53824.5430, grad_fn=<DotBackward0>)\n",
      "Cost at iteration  4500  is  tensor(145755.9219, grad_fn=<DotBackward0>)\n",
      "Cost at iteration  5000  is  tensor(264667.5000, grad_fn=<DotBackward0>)\n",
      "Cost at iteration  5500  is  tensor(176416.0625, grad_fn=<DotBackward0>)\n",
      "Cost at iteration  6000  is  tensor(19829.7070, grad_fn=<DotBackward0>)\n",
      "Cost at iteration  6500  is  tensor(52547.5039, grad_fn=<DotBackward0>)\n",
      "Cost at iteration  7000  is  tensor(81476.6953, grad_fn=<DotBackward0>)\n",
      "Cost at iteration  7500  is  tensor(34740.0039, grad_fn=<DotBackward0>)\n",
      "Cost at iteration  8000  is  tensor(27016.1484, grad_fn=<DotBackward0>)\n",
      "Cost at iteration  8500  is  tensor(91782.0938, grad_fn=<DotBackward0>)\n",
      "Cost at iteration  9000  is  tensor(121375.6172, grad_fn=<DotBackward0>)\n",
      "Cost at iteration  0  is  tensor(3661.8616, grad_fn=<DotBackward0>)\n",
      "Cost at iteration  500  is  tensor(37986.4883, grad_fn=<DotBackward0>)\n",
      "Cost at iteration  1000  is  tensor(4029.4524, grad_fn=<DotBackward0>)\n",
      "Cost at iteration  1500  is  tensor(6882.8311, grad_fn=<DotBackward0>)\n",
      "Cost at iteration  2000  is  tensor(13648.9287, grad_fn=<DotBackward0>)\n",
      "Cost at iteration  2500  is  tensor(16012.1611, grad_fn=<DotBackward0>)\n",
      "Cost at iteration  3000  is  tensor(20506.3828, grad_fn=<DotBackward0>)\n",
      "Cost at iteration  3500  is  tensor(24485.5645, grad_fn=<DotBackward0>)\n",
      "Cost at iteration  4000  is  tensor(20498.1953, grad_fn=<DotBackward0>)\n",
      "Cost at iteration  4500  is  tensor(26078.9902, grad_fn=<DotBackward0>)\n",
      "Cost at iteration  5000  is  tensor(18190.8535, grad_fn=<DotBackward0>)\n",
      "Cost at iteration  5500  is  tensor(16316.8457, grad_fn=<DotBackward0>)\n",
      "Cost at iteration  6000  is  tensor(16245.5801, grad_fn=<DotBackward0>)\n",
      "Cost at iteration  6500  is  tensor(18337.1309, grad_fn=<DotBackward0>)\n",
      "Cost at iteration  7000  is  tensor(26140.5391, grad_fn=<DotBackward0>)\n",
      "Cost at iteration  7500  is  tensor(21001.3516, grad_fn=<DotBackward0>)\n",
      "Cost at iteration  8000  is  tensor(17824.0938, grad_fn=<DotBackward0>)\n",
      "Cost at iteration  8500  is  tensor(11468.3848, grad_fn=<DotBackward0>)\n",
      "Cost at iteration  9000  is  tensor(15501.6660, grad_fn=<DotBackward0>)\n",
      "Cost at iteration  0  is  tensor(3662.3232, grad_fn=<DotBackward0>)\n",
      "Cost at iteration  500  is  tensor(43131.2344, grad_fn=<DotBackward0>)\n",
      "Cost at iteration  1000  is  tensor(13693.9531, grad_fn=<DotBackward0>)\n",
      "Cost at iteration  1500  is  tensor(10175.8047, grad_fn=<DotBackward0>)\n",
      "Cost at iteration  2000  is  tensor(19080.5078, grad_fn=<DotBackward0>)\n",
      "Cost at iteration  2500  is  tensor(13897.4980, grad_fn=<DotBackward0>)\n",
      "Cost at iteration  3000  is  tensor(10535.2461, grad_fn=<DotBackward0>)\n",
      "Cost at iteration  3500  is  tensor(16139.2324, grad_fn=<DotBackward0>)\n",
      "Cost at iteration  4000  is  tensor(17971.4102, grad_fn=<DotBackward0>)\n",
      "Cost at iteration  4500  is  tensor(14806.6006, grad_fn=<DotBackward0>)\n",
      "Cost at iteration  5000  is  tensor(182752.6875, grad_fn=<DotBackward0>)\n",
      "Cost at iteration  5500  is  tensor(355344.3125, grad_fn=<DotBackward0>)\n",
      "Cost at iteration  6000  is  tensor(357591.1250, grad_fn=<DotBackward0>)\n",
      "Cost at iteration  6500  is  tensor(384908.1250, grad_fn=<DotBackward0>)\n",
      "Cost at iteration  7000  is  tensor(591030.9375, grad_fn=<DotBackward0>)\n",
      "Cost at iteration  7500  is  tensor(193571.1250, grad_fn=<DotBackward0>)\n",
      "Cost at iteration  8000  is  tensor(16175.1826, grad_fn=<DotBackward0>)\n",
      "Cost at iteration  8500  is  tensor(142715.6250, grad_fn=<DotBackward0>)\n",
      "Cost at iteration  9000  is  tensor(447414.0938, grad_fn=<DotBackward0>)\n",
      "Cost at iteration  0  is  tensor(3663.4385, grad_fn=<DotBackward0>)\n",
      "Cost at iteration  500  is  tensor(35396.0625, grad_fn=<DotBackward0>)\n",
      "Cost at iteration  1000  is  tensor(23485.6035, grad_fn=<DotBackward0>)\n",
      "Cost at iteration  1500  is  tensor(9360.9160, grad_fn=<DotBackward0>)\n",
      "Cost at iteration  2000  is  tensor(17959.7520, grad_fn=<DotBackward0>)\n",
      "Cost at iteration  2500  is  tensor(20493.7988, grad_fn=<DotBackward0>)\n",
      "Cost at iteration  3000  is  tensor(14270.7725, grad_fn=<DotBackward0>)\n",
      "Cost at iteration  3500  is  tensor(15092.5312, grad_fn=<DotBackward0>)\n",
      "Cost at iteration  4000  is  tensor(19380.4707, grad_fn=<DotBackward0>)\n",
      "Cost at iteration  4500  is  tensor(13368.3691, grad_fn=<DotBackward0>)\n",
      "Cost at iteration  5000  is  tensor(33860.6016, grad_fn=<DotBackward0>)\n",
      "Cost at iteration  5500  is  tensor(62950.2500, grad_fn=<DotBackward0>)\n",
      "Cost at iteration  6000  is  tensor(12869.3535, grad_fn=<DotBackward0>)\n",
      "Cost at iteration  6500  is  tensor(24398.8672, grad_fn=<DotBackward0>)\n",
      "Cost at iteration  7000  is  tensor(12896.5332, grad_fn=<DotBackward0>)\n",
      "Cost at iteration  7500  is  tensor(46748.6289, grad_fn=<DotBackward0>)\n",
      "Cost at iteration  8000  is  tensor(15550.7822, grad_fn=<DotBackward0>)\n",
      "Cost at iteration  8500  is  tensor(23833.4688, grad_fn=<DotBackward0>)\n",
      "Cost at iteration  9000  is  tensor(14479.3594, grad_fn=<DotBackward0>)\n"
     ]
    }
   ],
   "source": [
    "# variant is clipping the gradients of b as well, using larger learning rate for Q and b, and transforming the buffer to a deque\n",
    "costs = []\n",
    "for iter in range(10):\n",
    "    global b, D, Q\n",
    "    # set the seed\n",
    "    torch.manual_seed(iter)\n",
    "    np.random.seed(iter)\n",
    "\n",
    "    # reset the parameters\n",
    "    b = torch.tensor([2.0]*n, requires_grad=True)\n",
    "    D = deque(maxlen=buff_size)\n",
    "    Q = Q_theta(n, 1, 64)\n",
    "\n",
    "    # run the algorithm\n",
    "    final_cost, zoomcost = MLP1()\n",
    "    costs.append(final_cost)"
   ]
  },
  {
   "cell_type": "code",
   "execution_count": 25,
   "metadata": {},
   "outputs": [
    {
     "name": "stdout",
     "output_type": "stream",
     "text": [
      "[tensor(19239.3652, grad_fn=<DotBackward0>), tensor(12916.3789, grad_fn=<DotBackward0>), tensor(15972.0469, grad_fn=<DotBackward0>), tensor(8504.5605, grad_fn=<DotBackward0>), tensor(25890.3613, grad_fn=<DotBackward0>), tensor(85982.0312, grad_fn=<DotBackward0>), tensor(41012.6328, grad_fn=<DotBackward0>), tensor(9877.0332, grad_fn=<DotBackward0>), tensor(697954.3750, grad_fn=<DotBackward0>), tensor(30777.4199, grad_fn=<DotBackward0>)]\n",
      "tensor(94812.6328)\n"
     ]
    }
   ],
   "source": [
    "print(costs)\n",
    "# print the mean cost (they are tensor objects)\n",
    "print(torch.mean(torch.tensor(costs)))"
   ]
  },
  {
   "cell_type": "code",
   "execution_count": 26,
   "metadata": {},
   "outputs": [],
   "source": [
    "# convert the costs to a numpy array using detach\n",
    "costs = torch.tensor(costs).detach().numpy()"
   ]
  },
  {
   "cell_type": "code",
   "execution_count": 29,
   "metadata": {},
   "outputs": [
    {
     "data": {
      "image/png": "[encoded data removed]",
      "text/plain": [
       "<Figure size 640x480 with 1 Axes>"
      ]
     },
     "metadata": {},
     "output_type": "display_data"
    }
   ],
   "source": [
    "# graph the costs\n",
    "import matplotlib.pyplot as plt\n",
    "plt.plot(costs)\n",
    "plt.xlabel('Iteration')\n",
    "plt.ylabel('Cost')\n",
    "plt.title('MLP1: Cost vs. Iteration')\n",
    "mean = costs.mean()\n",
    "plt.axhline(y=mean, color='r', linestyle='-', label='Mean Cost')\n",
    "# plt.show()\n",
    "# save the figure\n",
    "plt.savefig('MLP1.png')"
   ]
  },
  {
   "cell_type": "code",
   "execution_count": 30,
   "metadata": {},
   "outputs": [
    {
     "name": "stdout",
     "output_type": "stream",
     "text": [
      "{0: tensor(3663.4385, grad_fn=<DotBackward0>), 500: tensor(35396.0625, grad_fn=<DotBackward0>), 1000: tensor(23485.6035, grad_fn=<DotBackward0>), 1500: tensor(9360.9160, grad_fn=<DotBackward0>), 2000: tensor(17959.7520, grad_fn=<DotBackward0>), 2500: tensor(20493.7988, grad_fn=<DotBackward0>), 3000: tensor(14270.7725, grad_fn=<DotBackward0>), 3500: tensor(15092.5312, grad_fn=<DotBackward0>), 4000: tensor(19380.4707, grad_fn=<DotBackward0>), 4500: tensor(13368.3691, grad_fn=<DotBackward0>), 5000: tensor(33860.6016, grad_fn=<DotBackward0>), 5500: tensor(62950.2500, grad_fn=<DotBackward0>), 6000: tensor(12869.3535, grad_fn=<DotBackward0>), 6500: tensor(24398.8672, grad_fn=<DotBackward0>), 7000: tensor(12896.5332, grad_fn=<DotBackward0>), 7500: tensor(46748.6289, grad_fn=<DotBackward0>), 8000: tensor(15550.7822, grad_fn=<DotBackward0>), 8500: tensor(23833.4688, grad_fn=<DotBackward0>), 9000: tensor(14479.3594, grad_fn=<DotBackward0>)}\n"
     ]
    }
   ],
   "source": [
    "zoomcost = dict(zoomcost)\n",
    "\n",
    "# convert the zoomcosts to a python dictionary\n",
    "\n",
    "def tensors_to_numpy(tensor_dict):\n",
    "    numpy_dict = {}\n",
    "    for key, tensor in tensor_dict.items():\n",
    "        # Ensure tensor is on CPU before converting\n",
    "        numpy_dict[key] = tensor.cpu().numpy()\n",
    "    return numpy_dict\n",
    "\n",
    "# convert the zoomcosts to a regular dictionary\n",
    "# zoomcost = tensors_to_numpy(zoomcost)\n",
    "print(zoomcost)"
   ]
  }
 ],
 "metadata": {
  "kernelspec": {
   "display_name": "Python 3",
   "language": "python",
   "name": "python3"
  },
  "language_info": {
   "codemirror_mode": {
    "name": "ipython",
    "version": 3
   },
   "file_extension": ".py",
   "mimetype": "text/x-python",
   "name": "python",
   "nbconvert_exporter": "python",
   "pygments_lexer": "ipython3",
   "version": "3.10.8"
  }
 },
 "nbformat": 4,
 "nbformat_minor": 2
}
