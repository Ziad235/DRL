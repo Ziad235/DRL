{
 "cells": [
  {
   "cell_type": "code",
   "execution_count": 25,
   "metadata": {},
   "outputs": [],
   "source": [
    "import torch\n",
    "import torch.nn as nn\n",
    "import torch.optim as optim\n",
    "import random\n",
    "import numpy as np\n",
    "from collections import deque"
   ]
  },
  {
   "cell_type": "code",
   "execution_count": 26,
   "metadata": {},
   "outputs": [],
   "source": [
    "# Parameters\n",
    "n = 30 # dimension of actions and/or cost matrix\n",
    "d = 500 # number of initial sample pairs\n",
    "total_samples = 10000 # number of total samples that can be used\n",
    "buff_size = 500 # buffer size of D to make use of newer experiences and limiting the effect of old ones by popping them\n",
    "alpha = 0.01 # learning rate for when performing gradient descent on b"
   ]
  },
  {
   "cell_type": "code",
   "execution_count": 27,
   "metadata": {},
   "outputs": [],
   "source": [
    "# Define what you want R to be\n",
    "R = np.identity(n) # identity matrix\n",
    "# R = generate_diagonally_dominant_positive_definite_matrix(n)\n",
    "R = torch.tensor(R, dtype=torch.float32)"
   ]
  },
  {
   "cell_type": "code",
   "execution_count": 28,
   "metadata": {},
   "outputs": [],
   "source": [
    "# Initialize b to all 2.0s\n",
    "b = torch.tensor([2.0]*n, requires_grad=True)"
   ]
  },
  {
   "cell_type": "code",
   "execution_count": 29,
   "metadata": {},
   "outputs": [],
   "source": [
    "# Initialize D to be empty deque\n",
    "D = deque(maxlen=buff_size)"
   ]
  },
  {
   "cell_type": "code",
   "execution_count": 30,
   "metadata": {},
   "outputs": [],
   "source": [
    "def generate_diagonally_dominant_positive_definite_matrix(size):\n",
    "    # add a seed to make the random matrix reproducible\n",
    "    np.random.seed(42)\n",
    "    A = np.random.rand(size, size)\n",
    "    A = A + np.diag(np.sum(np.abs(A), axis=1) + 1)\n",
    "    A = (A + A.T)/2\n",
    "    return A"
   ]
  },
  {
   "cell_type": "code",
   "execution_count": 31,
   "metadata": {},
   "outputs": [],
   "source": [
    "# Cost (reward) function a transpose R a\n",
    "def reward(a, R):\n",
    "    return torch.matmul(torch.matmul(a.T,R), a)"
   ]
  },
  {
   "cell_type": "code",
   "execution_count": 32,
   "metadata": {},
   "outputs": [],
   "source": [
    "# generate a random action given the target parameter b s.t. a = b + N(0,1) (make sure a has entries only [-2,2])\n",
    "def generate_action(b):\n",
    "    a = b + torch.normal(0,1,(n,))\n",
    "    return torch.clamp(a, -2, 2)"
   ]
  },
  {
   "cell_type": "code",
   "execution_count": 33,
   "metadata": {},
   "outputs": [],
   "source": [
    "# Function for gradient clipping\n",
    "def clip_gradients(theta, max_norm):\n",
    "    torch.nn.utils.clip_grad_norm_(theta, max_norm)"
   ]
  },
  {
   "cell_type": "code",
   "execution_count": 34,
   "metadata": {},
   "outputs": [],
   "source": [
    "# Defining simple MLP for Q where we can change the number of layers and the number of neurons in each layer\n",
    "class Q_theta(nn.Module):\n",
    "    def __init__(self, input_dim, output_dim, hidden_dim):\n",
    "        super(Q_theta, self).__init__()\n",
    "        self.network = nn.Sequential(\n",
    "            nn.Linear(input_dim, hidden_dim),\n",
    "            nn.ReLU(),\n",
    "            nn.Linear(hidden_dim, hidden_dim),\n",
    "            nn.ReLU(),\n",
    "            nn.Linear(hidden_dim, output_dim)\n",
    "        )\n",
    "\n",
    "    def forward(self, x):\n",
    "        return self.network(x)\n",
    "\n",
    "    def loss(self, minibatch):\n",
    "        loss = 0.0\n",
    "        for a,r in minibatch:\n",
    "            loss += (self.forward(a) - r)**2\n",
    "        loss = loss/len(minibatch)\n",
    "        return loss"
   ]
  },
  {
   "cell_type": "code",
   "execution_count": 35,
   "metadata": {},
   "outputs": [],
   "source": [
    "# Function to update the parameters of Q with one step of gradient descent\n",
    "def update_Q(minibatch, learning_rate, q_model, max_norm=None):\n",
    "    q_optimizer= optim.Adam(q_model.parameters(), lr=0.001)\n",
    "    q_optimizer.zero_grad()\n",
    "    loss = Q.loss(minibatch)\n",
    "    loss.backward(retain_graph=True)\n",
    "    if max_norm:\n",
    "        clip_gradients(Q.parameters(), max_norm)\n",
    "    q_optimizer.step()"
   ]
  },
  {
   "cell_type": "code",
   "execution_count": 36,
   "metadata": {},
   "outputs": [],
   "source": [
    "b_optimizer = optim.Adam([b], lr=0.001)"
   ]
  },
  {
   "cell_type": "code",
   "execution_count": 37,
   "metadata": {},
   "outputs": [],
   "source": [
    "# Define the optimizer for b outside the update_b function, just after b is initialized\n",
    "b_optimizer = optim.Adam([b], lr=0.000001)\n",
    "\n",
    "# Modify the update_b function to use the optimizer\n",
    "def update_b(minibatch, Q, b, b_optimizer):\n",
    "    b_output = Q.forward(b)\n",
    "    b_grad = torch.autograd.grad(b_output, b, retain_graph=True)[0]\n",
    "\n",
    "    b_optimizer.zero_grad()\n",
    "    b_output.backward()\n",
    "    b_optimizer.step()\n",
    "\n",
    "    # gradient clipping\n",
    "    clip_gradients(b, 1)\n",
    "\n",
    "    # update b\n",
    "    with torch.no_grad():\n",
    "        b -= alpha * b_grad\n",
    "\n",
    "    return b\n"
   ]
  },
  {
   "cell_type": "code",
   "execution_count": 38,
   "metadata": {},
   "outputs": [],
   "source": [
    "# Variant 1: BaseMLP with dynamic buffer \n",
    "def MLP2():\n",
    "    global D, b, R\n",
    "\n",
    "    # list to store the costs to graph them\n",
    "    zoomcosts = {}\n",
    "    # Generate initial sample pairs\n",
    "    for i in range(d):\n",
    "        a = generate_action(b)\n",
    "        r = reward(a, R)\n",
    "        D.append((a,r))\n",
    "\n",
    "    for i in range(total_samples - d):\n",
    "\n",
    "        # generate a random action\n",
    "        a = generate_action(b)\n",
    "\n",
    "        # get the reward\n",
    "        r = reward(a, R)\n",
    "\n",
    "        # add the new sample pair to D\n",
    "        D.append((a,r))\n",
    "\n",
    "    # This is the variant area\n",
    "    #***************************************************************************************************\n",
    "        # Deque is full, so remove the oldest sample pair\n",
    "        if len(D) == buff_size:\n",
    "            D.popleft()\n",
    "    #***************************************************************************************************\n",
    "\n",
    "        # sample a minibatch from D\n",
    "        minibatch = random.sample(D, 32)\n",
    "\n",
    "        # update Q with one step of gradient descent\n",
    "        update_Q(minibatch, alpha, Q, 1.0)\n",
    "\n",
    "        # update b with one step of gradient descent\n",
    "        b=update_b(minibatch, Q, b, b_optimizer)\n",
    "\n",
    "        # print thr reward every 1000 iterations\n",
    "        if i % 500 == 0:\n",
    "            print(\"Cost at iteration \", i, \" is \", reward(b, R))\n",
    "            zoomcosts[i] = reward(b, R)\n",
    "\n",
    "    # return the costs and the final b\n",
    "    return reward(b, R), zoomcosts"
   ]
  },
  {
   "cell_type": "code",
   "execution_count": 39,
   "metadata": {},
   "outputs": [
    {
     "name": "stdout",
     "output_type": "stream",
     "text": [
      "Cost at iteration  0  is  tensor(119.9965, grad_fn=<DotBackward0>)\n"
     ]
    },
    {
     "name": "stdout",
     "output_type": "stream",
     "text": [
      "Cost at iteration  500  is  tensor(4.6234, grad_fn=<DotBackward0>)\n",
      "Cost at iteration  1000  is  tensor(1.4269, grad_fn=<DotBackward0>)\n",
      "Cost at iteration  1500  is  tensor(0.6426, grad_fn=<DotBackward0>)\n",
      "Cost at iteration  2000  is  tensor(0.3151, grad_fn=<DotBackward0>)\n",
      "Cost at iteration  2500  is  tensor(0.2384, grad_fn=<DotBackward0>)\n",
      "Cost at iteration  3000  is  tensor(0.2388, grad_fn=<DotBackward0>)\n",
      "Cost at iteration  3500  is  tensor(0.2882, grad_fn=<DotBackward0>)\n",
      "Cost at iteration  4000  is  tensor(0.4604, grad_fn=<DotBackward0>)\n",
      "Cost at iteration  4500  is  tensor(0.6166, grad_fn=<DotBackward0>)\n",
      "Cost at iteration  5000  is  tensor(0.7204, grad_fn=<DotBackward0>)\n",
      "Cost at iteration  5500  is  tensor(0.7941, grad_fn=<DotBackward0>)\n",
      "Cost at iteration  6000  is  tensor(0.7675, grad_fn=<DotBackward0>)\n",
      "Cost at iteration  6500  is  tensor(0.8298, grad_fn=<DotBackward0>)\n",
      "Cost at iteration  7000  is  tensor(1.5465, grad_fn=<DotBackward0>)\n",
      "Cost at iteration  7500  is  tensor(1.5880, grad_fn=<DotBackward0>)\n",
      "Cost at iteration  8000  is  tensor(1.9867, grad_fn=<DotBackward0>)\n",
      "Cost at iteration  8500  is  tensor(2.3285, grad_fn=<DotBackward0>)\n",
      "Cost at iteration  9000  is  tensor(2.4975, grad_fn=<DotBackward0>)\n",
      "Cost at iteration  0  is  tensor(120.0010, grad_fn=<DotBackward0>)\n",
      "Cost at iteration  500  is  tensor(5.1278, grad_fn=<DotBackward0>)\n",
      "Cost at iteration  1000  is  tensor(1.1388, grad_fn=<DotBackward0>)\n",
      "Cost at iteration  1500  is  tensor(0.3314, grad_fn=<DotBackward0>)\n",
      "Cost at iteration  2000  is  tensor(0.3332, grad_fn=<DotBackward0>)\n",
      "Cost at iteration  2500  is  tensor(0.3052, grad_fn=<DotBackward0>)\n",
      "Cost at iteration  3000  is  tensor(0.3010, grad_fn=<DotBackward0>)\n",
      "Cost at iteration  3500  is  tensor(0.4239, grad_fn=<DotBackward0>)\n",
      "Cost at iteration  4000  is  tensor(0.6225, grad_fn=<DotBackward0>)\n",
      "Cost at iteration  4500  is  tensor(0.6251, grad_fn=<DotBackward0>)\n",
      "Cost at iteration  5000  is  tensor(0.6156, grad_fn=<DotBackward0>)\n",
      "Cost at iteration  5500  is  tensor(0.7890, grad_fn=<DotBackward0>)\n",
      "Cost at iteration  6000  is  tensor(0.9378, grad_fn=<DotBackward0>)\n",
      "Cost at iteration  6500  is  tensor(0.8350, grad_fn=<DotBackward0>)\n",
      "Cost at iteration  7000  is  tensor(0.8892, grad_fn=<DotBackward0>)\n",
      "Cost at iteration  7500  is  tensor(1.1504, grad_fn=<DotBackward0>)\n",
      "Cost at iteration  8000  is  tensor(1.2956, grad_fn=<DotBackward0>)\n",
      "Cost at iteration  8500  is  tensor(1.3904, grad_fn=<DotBackward0>)\n",
      "Cost at iteration  9000  is  tensor(1.5106, grad_fn=<DotBackward0>)\n",
      "Cost at iteration  0  is  tensor(119.9964, grad_fn=<DotBackward0>)\n",
      "Cost at iteration  500  is  tensor(4.6682, grad_fn=<DotBackward0>)\n",
      "Cost at iteration  1000  is  tensor(1.9902, grad_fn=<DotBackward0>)\n",
      "Cost at iteration  1500  is  tensor(0.4055, grad_fn=<DotBackward0>)\n",
      "Cost at iteration  2000  is  tensor(0.4585, grad_fn=<DotBackward0>)\n",
      "Cost at iteration  2500  is  tensor(0.4551, grad_fn=<DotBackward0>)\n",
      "Cost at iteration  3000  is  tensor(1.0247, grad_fn=<DotBackward0>)\n",
      "Cost at iteration  3500  is  tensor(1.0275, grad_fn=<DotBackward0>)\n",
      "Cost at iteration  4000  is  tensor(1.6756, grad_fn=<DotBackward0>)\n",
      "Cost at iteration  4500  is  tensor(1.8389, grad_fn=<DotBackward0>)\n",
      "Cost at iteration  5000  is  tensor(2.4440, grad_fn=<DotBackward0>)\n",
      "Cost at iteration  5500  is  tensor(2.4732, grad_fn=<DotBackward0>)\n",
      "Cost at iteration  6000  is  tensor(2.6407, grad_fn=<DotBackward0>)\n",
      "Cost at iteration  6500  is  tensor(2.4571, grad_fn=<DotBackward0>)\n",
      "Cost at iteration  7000  is  tensor(2.5059, grad_fn=<DotBackward0>)\n",
      "Cost at iteration  7500  is  tensor(2.6224, grad_fn=<DotBackward0>)\n",
      "Cost at iteration  8000  is  tensor(2.5586, grad_fn=<DotBackward0>)\n",
      "Cost at iteration  8500  is  tensor(2.4840, grad_fn=<DotBackward0>)\n",
      "Cost at iteration  9000  is  tensor(2.6323, grad_fn=<DotBackward0>)\n",
      "Cost at iteration  0  is  tensor(119.9982, grad_fn=<DotBackward0>)\n",
      "Cost at iteration  500  is  tensor(7.0697, grad_fn=<DotBackward0>)\n",
      "Cost at iteration  1000  is  tensor(2.5246, grad_fn=<DotBackward0>)\n",
      "Cost at iteration  1500  is  tensor(1.1790, grad_fn=<DotBackward0>)\n",
      "Cost at iteration  2000  is  tensor(0.3521, grad_fn=<DotBackward0>)\n",
      "Cost at iteration  2500  is  tensor(0.3453, grad_fn=<DotBackward0>)\n",
      "Cost at iteration  3000  is  tensor(0.3705, grad_fn=<DotBackward0>)\n",
      "Cost at iteration  3500  is  tensor(0.5389, grad_fn=<DotBackward0>)\n",
      "Cost at iteration  4000  is  tensor(0.7921, grad_fn=<DotBackward0>)\n",
      "Cost at iteration  4500  is  tensor(1.0433, grad_fn=<DotBackward0>)\n",
      "Cost at iteration  5000  is  tensor(1.0957, grad_fn=<DotBackward0>)\n",
      "Cost at iteration  5500  is  tensor(1.4074, grad_fn=<DotBackward0>)\n",
      "Cost at iteration  6000  is  tensor(1.7260, grad_fn=<DotBackward0>)\n",
      "Cost at iteration  6500  is  tensor(1.6434, grad_fn=<DotBackward0>)\n",
      "Cost at iteration  7000  is  tensor(1.8180, grad_fn=<DotBackward0>)\n",
      "Cost at iteration  7500  is  tensor(2.0986, grad_fn=<DotBackward0>)\n",
      "Cost at iteration  8000  is  tensor(2.1839, grad_fn=<DotBackward0>)\n",
      "Cost at iteration  8500  is  tensor(2.0843, grad_fn=<DotBackward0>)\n",
      "Cost at iteration  9000  is  tensor(1.7098, grad_fn=<DotBackward0>)\n",
      "Cost at iteration  0  is  tensor(119.9943, grad_fn=<DotBackward0>)\n",
      "Cost at iteration  500  is  tensor(6.2247, grad_fn=<DotBackward0>)\n",
      "Cost at iteration  1000  is  tensor(2.3091, grad_fn=<DotBackward0>)\n",
      "Cost at iteration  1500  is  tensor(0.3816, grad_fn=<DotBackward0>)\n",
      "Cost at iteration  2000  is  tensor(0.4126, grad_fn=<DotBackward0>)\n",
      "Cost at iteration  2500  is  tensor(0.4671, grad_fn=<DotBackward0>)\n",
      "Cost at iteration  3000  is  tensor(0.8142, grad_fn=<DotBackward0>)\n",
      "Cost at iteration  3500  is  tensor(1.2957, grad_fn=<DotBackward0>)\n",
      "Cost at iteration  4000  is  tensor(1.4342, grad_fn=<DotBackward0>)\n",
      "Cost at iteration  4500  is  tensor(1.5768, grad_fn=<DotBackward0>)\n",
      "Cost at iteration  5000  is  tensor(1.9397, grad_fn=<DotBackward0>)\n",
      "Cost at iteration  5500  is  tensor(2.0196, grad_fn=<DotBackward0>)\n",
      "Cost at iteration  6000  is  tensor(2.4340, grad_fn=<DotBackward0>)\n",
      "Cost at iteration  6500  is  tensor(2.6570, grad_fn=<DotBackward0>)\n",
      "Cost at iteration  7000  is  tensor(2.4018, grad_fn=<DotBackward0>)\n",
      "Cost at iteration  7500  is  tensor(2.4998, grad_fn=<DotBackward0>)\n",
      "Cost at iteration  8000  is  tensor(2.4192, grad_fn=<DotBackward0>)\n",
      "Cost at iteration  8500  is  tensor(2.0438, grad_fn=<DotBackward0>)\n",
      "Cost at iteration  9000  is  tensor(2.4735, grad_fn=<DotBackward0>)\n",
      "Cost at iteration  0  is  tensor(119.9993, grad_fn=<DotBackward0>)\n",
      "Cost at iteration  500  is  tensor(2.9448, grad_fn=<DotBackward0>)\n",
      "Cost at iteration  1000  is  tensor(1.2925, grad_fn=<DotBackward0>)\n",
      "Cost at iteration  1500  is  tensor(0.4224, grad_fn=<DotBackward0>)\n",
      "Cost at iteration  2000  is  tensor(0.4921, grad_fn=<DotBackward0>)\n",
      "Cost at iteration  2500  is  tensor(0.5513, grad_fn=<DotBackward0>)\n",
      "Cost at iteration  3000  is  tensor(0.7946, grad_fn=<DotBackward0>)\n",
      "Cost at iteration  3500  is  tensor(1.1496, grad_fn=<DotBackward0>)\n",
      "Cost at iteration  4000  is  tensor(1.5229, grad_fn=<DotBackward0>)\n",
      "Cost at iteration  4500  is  tensor(1.7475, grad_fn=<DotBackward0>)\n",
      "Cost at iteration  5000  is  tensor(2.2074, grad_fn=<DotBackward0>)\n",
      "Cost at iteration  5500  is  tensor(2.2480, grad_fn=<DotBackward0>)\n",
      "Cost at iteration  6000  is  tensor(2.3604, grad_fn=<DotBackward0>)\n",
      "Cost at iteration  6500  is  tensor(2.4823, grad_fn=<DotBackward0>)\n",
      "Cost at iteration  7000  is  tensor(2.4920, grad_fn=<DotBackward0>)\n",
      "Cost at iteration  7500  is  tensor(2.4527, grad_fn=<DotBackward0>)\n",
      "Cost at iteration  8000  is  tensor(2.8715, grad_fn=<DotBackward0>)\n",
      "Cost at iteration  8500  is  tensor(3.0650, grad_fn=<DotBackward0>)\n",
      "Cost at iteration  9000  is  tensor(3.5101, grad_fn=<DotBackward0>)\n",
      "Cost at iteration  0  is  tensor(119.9990, grad_fn=<DotBackward0>)\n",
      "Cost at iteration  500  is  tensor(7.1927, grad_fn=<DotBackward0>)\n",
      "Cost at iteration  1000  is  tensor(1.3038, grad_fn=<DotBackward0>)\n",
      "Cost at iteration  1500  is  tensor(0.4311, grad_fn=<DotBackward0>)\n",
      "Cost at iteration  2000  is  tensor(0.4398, grad_fn=<DotBackward0>)\n",
      "Cost at iteration  2500  is  tensor(0.5176, grad_fn=<DotBackward0>)\n",
      "Cost at iteration  3000  is  tensor(0.4772, grad_fn=<DotBackward0>)\n",
      "Cost at iteration  3500  is  tensor(0.4636, grad_fn=<DotBackward0>)\n",
      "Cost at iteration  4000  is  tensor(0.5012, grad_fn=<DotBackward0>)\n",
      "Cost at iteration  4500  is  tensor(0.5599, grad_fn=<DotBackward0>)\n",
      "Cost at iteration  5000  is  tensor(0.5824, grad_fn=<DotBackward0>)\n",
      "Cost at iteration  5500  is  tensor(0.6416, grad_fn=<DotBackward0>)\n",
      "Cost at iteration  6000  is  tensor(0.7917, grad_fn=<DotBackward0>)\n",
      "Cost at iteration  6500  is  tensor(0.9150, grad_fn=<DotBackward0>)\n",
      "Cost at iteration  7000  is  tensor(1.0818, grad_fn=<DotBackward0>)\n",
      "Cost at iteration  7500  is  tensor(1.0310, grad_fn=<DotBackward0>)\n",
      "Cost at iteration  8000  is  tensor(1.1774, grad_fn=<DotBackward0>)\n",
      "Cost at iteration  8500  is  tensor(1.2888, grad_fn=<DotBackward0>)\n",
      "Cost at iteration  9000  is  tensor(1.1719, grad_fn=<DotBackward0>)\n",
      "Cost at iteration  0  is  tensor(119.9974, grad_fn=<DotBackward0>)\n",
      "Cost at iteration  500  is  tensor(4.6937, grad_fn=<DotBackward0>)\n",
      "Cost at iteration  1000  is  tensor(2.2057, grad_fn=<DotBackward0>)\n",
      "Cost at iteration  1500  is  tensor(0.5803, grad_fn=<DotBackward0>)\n",
      "Cost at iteration  2000  is  tensor(0.4211, grad_fn=<DotBackward0>)\n",
      "Cost at iteration  2500  is  tensor(0.4153, grad_fn=<DotBackward0>)\n",
      "Cost at iteration  3000  is  tensor(0.5008, grad_fn=<DotBackward0>)\n",
      "Cost at iteration  3500  is  tensor(0.8131, grad_fn=<DotBackward0>)\n",
      "Cost at iteration  4000  is  tensor(0.9773, grad_fn=<DotBackward0>)\n",
      "Cost at iteration  4500  is  tensor(1.3378, grad_fn=<DotBackward0>)\n",
      "Cost at iteration  5000  is  tensor(1.4188, grad_fn=<DotBackward0>)\n",
      "Cost at iteration  5500  is  tensor(1.4674, grad_fn=<DotBackward0>)\n",
      "Cost at iteration  6000  is  tensor(1.2930, grad_fn=<DotBackward0>)\n",
      "Cost at iteration  6500  is  tensor(1.3193, grad_fn=<DotBackward0>)\n",
      "Cost at iteration  7000  is  tensor(1.4836, grad_fn=<DotBackward0>)\n",
      "Cost at iteration  7500  is  tensor(1.7354, grad_fn=<DotBackward0>)\n",
      "Cost at iteration  8000  is  tensor(1.7128, grad_fn=<DotBackward0>)\n",
      "Cost at iteration  8500  is  tensor(1.6714, grad_fn=<DotBackward0>)\n",
      "Cost at iteration  9000  is  tensor(1.9072, grad_fn=<DotBackward0>)\n",
      "Cost at iteration  0  is  tensor(119.9966, grad_fn=<DotBackward0>)\n",
      "Cost at iteration  500  is  tensor(7.0390, grad_fn=<DotBackward0>)\n",
      "Cost at iteration  1000  is  tensor(1.8341, grad_fn=<DotBackward0>)\n",
      "Cost at iteration  1500  is  tensor(0.5910, grad_fn=<DotBackward0>)\n",
      "Cost at iteration  2000  is  tensor(0.3101, grad_fn=<DotBackward0>)\n",
      "Cost at iteration  2500  is  tensor(0.3390, grad_fn=<DotBackward0>)\n",
      "Cost at iteration  3000  is  tensor(0.3368, grad_fn=<DotBackward0>)\n",
      "Cost at iteration  3500  is  tensor(0.3368, grad_fn=<DotBackward0>)\n",
      "Cost at iteration  4000  is  tensor(0.3368, grad_fn=<DotBackward0>)\n",
      "Cost at iteration  4500  is  tensor(0.4636, grad_fn=<DotBackward0>)\n",
      "Cost at iteration  5000  is  tensor(0.5890, grad_fn=<DotBackward0>)\n",
      "Cost at iteration  5500  is  tensor(0.5602, grad_fn=<DotBackward0>)\n",
      "Cost at iteration  6000  is  tensor(0.9359, grad_fn=<DotBackward0>)\n",
      "Cost at iteration  6500  is  tensor(1.1934, grad_fn=<DotBackward0>)\n",
      "Cost at iteration  7000  is  tensor(1.3074, grad_fn=<DotBackward0>)\n",
      "Cost at iteration  7500  is  tensor(1.3967, grad_fn=<DotBackward0>)\n",
      "Cost at iteration  8000  is  tensor(1.4935, grad_fn=<DotBackward0>)\n",
      "Cost at iteration  8500  is  tensor(1.7781, grad_fn=<DotBackward0>)\n",
      "Cost at iteration  9000  is  tensor(2.2586, grad_fn=<DotBackward0>)\n",
      "Cost at iteration  0  is  tensor(120.0000, grad_fn=<DotBackward0>)\n",
      "Cost at iteration  500  is  tensor(6.3460, grad_fn=<DotBackward0>)\n",
      "Cost at iteration  1000  is  tensor(2.4075, grad_fn=<DotBackward0>)\n",
      "Cost at iteration  1500  is  tensor(0.5799, grad_fn=<DotBackward0>)\n",
      "Cost at iteration  2000  is  tensor(0.3543, grad_fn=<DotBackward0>)\n",
      "Cost at iteration  2500  is  tensor(0.3365, grad_fn=<DotBackward0>)\n",
      "Cost at iteration  3000  is  tensor(0.3179, grad_fn=<DotBackward0>)\n",
      "Cost at iteration  3500  is  tensor(0.3179, grad_fn=<DotBackward0>)\n",
      "Cost at iteration  4000  is  tensor(0.3179, grad_fn=<DotBackward0>)\n",
      "Cost at iteration  4500  is  tensor(0.3179, grad_fn=<DotBackward0>)\n",
      "Cost at iteration  5000  is  tensor(0.3179, grad_fn=<DotBackward0>)\n",
      "Cost at iteration  5500  is  tensor(0.3179, grad_fn=<DotBackward0>)\n",
      "Cost at iteration  6000  is  tensor(0.3179, grad_fn=<DotBackward0>)\n",
      "Cost at iteration  6500  is  tensor(0.3168, grad_fn=<DotBackward0>)\n",
      "Cost at iteration  7000  is  tensor(0.3132, grad_fn=<DotBackward0>)\n",
      "Cost at iteration  7500  is  tensor(0.3125, grad_fn=<DotBackward0>)\n",
      "Cost at iteration  8000  is  tensor(0.3100, grad_fn=<DotBackward0>)\n",
      "Cost at iteration  8500  is  tensor(0.3100, grad_fn=<DotBackward0>)\n",
      "Cost at iteration  9000  is  tensor(0.3101, grad_fn=<DotBackward0>)\n"
     ]
    }
   ],
   "source": [
    "# this variant adds optimization to the b parameter\n",
    "costs = []\n",
    "for iter in range(10):\n",
    "    global b, D, Q\n",
    "    # set the seed\n",
    "    torch.manual_seed(iter)\n",
    "    np.random.seed(iter)\n",
    "\n",
    "    # reset the parameters\n",
    "    b = torch.tensor([2.0]*n, requires_grad=True)\n",
    "    D = deque(maxlen=buff_size)\n",
    "    Q = Q_theta(n, 1, 64)\n",
    "\n",
    "    # run the algorithm\n",
    "    final_cost, zoomcost = MLP2()\n",
    "    costs.append(final_cost)"
   ]
  },
  {
   "cell_type": "code",
   "execution_count": 40,
   "metadata": {},
   "outputs": [
    {
     "name": "stdout",
     "output_type": "stream",
     "text": [
      "[tensor(2.5141, grad_fn=<DotBackward0>), tensor(1.4968, grad_fn=<DotBackward0>), tensor(2.8111, grad_fn=<DotBackward0>), tensor(1.9630, grad_fn=<DotBackward0>), tensor(3.1542, grad_fn=<DotBackward0>), tensor(3.2986, grad_fn=<DotBackward0>), tensor(1.1812, grad_fn=<DotBackward0>), tensor(2.1964, grad_fn=<DotBackward0>), tensor(2.6014, grad_fn=<DotBackward0>), tensor(0.3102, grad_fn=<DotBackward0>)]\n",
      "tensor(2.1527)\n"
     ]
    }
   ],
   "source": [
    "print(costs)\n",
    "# print the mean cost (they are tensor objects)\n",
    "print(torch.mean(torch.tensor(costs)))"
   ]
  },
  {
   "cell_type": "code",
   "execution_count": 43,
   "metadata": {},
   "outputs": [
    {
     "name": "stdout",
     "output_type": "stream",
     "text": [
      "[2.5141068 1.4968427 2.8111439 1.9629511 3.154198  3.2986069 1.1811693\n",
      " 2.196408  2.6013958 0.3101871]\n",
      "tensor(2.1527)\n"
     ]
    },
    {
     "data": {
      "image/png": "[encoded data removed]",
      "text/plain": [
       "<Figure size 640x480 with 1 Axes>"
      ]
     },
     "metadata": {},
     "output_type": "display_data"
    }
   ],
   "source": [
    "print(costs)\n",
    "# print the mean cost (they are tensor objects)\n",
    "print(torch.mean(torch.tensor(costs)))\n",
    "# convert the costs to a numpy array using detach\n",
    "costs = torch.tensor(costs).detach().numpy()\n",
    "# graph the costs\n",
    "import matplotlib.pyplot as plt\n",
    "plt.plot(costs)\n",
    "plt.xlabel('Iteration')\n",
    "plt.ylabel('Cost')\n",
    "plt.title('MLP2: Cost vs. Iteration')\n",
    "mean = costs.mean()\n",
    "plt.axhline(y=mean, color='r', linestyle='-', label='Mean Cost')\n",
    "# plt.show()\n",
    "# save the figure\n",
    "plt.savefig('MLP2.png')"
   ]
  },
  {
   "cell_type": "code",
   "execution_count": 42,
   "metadata": {},
   "outputs": [
    {
     "name": "stdout",
     "output_type": "stream",
     "text": [
      "{0: tensor(120.0000, grad_fn=<DotBackward0>), 500: tensor(6.3460, grad_fn=<DotBackward0>), 1000: tensor(2.4075, grad_fn=<DotBackward0>), 1500: tensor(0.5799, grad_fn=<DotBackward0>), 2000: tensor(0.3543, grad_fn=<DotBackward0>), 2500: tensor(0.3365, grad_fn=<DotBackward0>), 3000: tensor(0.3179, grad_fn=<DotBackward0>), 3500: tensor(0.3179, grad_fn=<DotBackward0>), 4000: tensor(0.3179, grad_fn=<DotBackward0>), 4500: tensor(0.3179, grad_fn=<DotBackward0>), 5000: tensor(0.3179, grad_fn=<DotBackward0>), 5500: tensor(0.3179, grad_fn=<DotBackward0>), 6000: tensor(0.3179, grad_fn=<DotBackward0>), 6500: tensor(0.3168, grad_fn=<DotBackward0>), 7000: tensor(0.3132, grad_fn=<DotBackward0>), 7500: tensor(0.3125, grad_fn=<DotBackward0>), 8000: tensor(0.3100, grad_fn=<DotBackward0>), 8500: tensor(0.3100, grad_fn=<DotBackward0>), 9000: tensor(0.3101, grad_fn=<DotBackward0>)}\n"
     ]
    }
   ],
   "source": [
    "zoomcost = dict(zoomcost)\n",
    "\n",
    "# convert the zoomcosts to a python dictionary\n",
    "\n",
    "def tensors_to_numpy(tensor_dict):\n",
    "    numpy_dict = {}\n",
    "    for key, tensor in tensor_dict.items():\n",
    "        # Ensure tensor is on CPU before converting\n",
    "        numpy_dict[key] = tensor.cpu().numpy()\n",
    "    return numpy_dict\n",
    "\n",
    "# convert the zoomcosts to a regular dictionary\n",
    "# zoomcost = tensors_to_numpy(zoomcost)\n",
    "print(zoomcost)"
   ]
  }
 ],
 "metadata": {
  "kernelspec": {
   "display_name": "Python 3",
   "language": "python",
   "name": "python3"
  },
  "language_info": {
   "codemirror_mode": {
    "name": "ipython",
    "version": 3
   },
   "file_extension": ".py",
   "mimetype": "text/x-python",
   "name": "python",
   "nbconvert_exporter": "python",
   "pygments_lexer": "ipython3",
   "version": "3.10.8"
  }
 },
 "nbformat": 4,
 "nbformat_minor": 2
}
