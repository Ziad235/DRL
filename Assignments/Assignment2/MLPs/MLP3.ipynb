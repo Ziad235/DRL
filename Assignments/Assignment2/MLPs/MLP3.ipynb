{
 "cells": [
  {
   "cell_type": "code",
   "execution_count": 2,
   "metadata": {},
   "outputs": [],
   "source": [
    "import torch\n",
    "import torch.nn as nn\n",
    "import torch.optim as optim\n",
    "import random\n",
    "import numpy as np\n",
    "from collections import deque"
   ]
  },
  {
   "cell_type": "code",
   "execution_count": 3,
   "metadata": {},
   "outputs": [],
   "source": [
    "# Parameters\n",
    "n = 30 # dimension of actions and/or cost matrix\n",
    "d = 500 # number of initial sample pairs\n",
    "total_samples = 10000 # number of total samples that can be used\n",
    "buff_size = 500 # buffer size of D to make use of newer experiences and limiting the effect of old ones by popping them\n",
    "alpha = 0.01 # learning rate for when performing gradient descent on b"
   ]
  },
  {
   "cell_type": "code",
   "execution_count": 4,
   "metadata": {},
   "outputs": [],
   "source": [
    "# Define what you want R to be\n",
    "# R = np.identity(n) # identity matrix\n",
    "R = generate_diagonally_dominant_positive_definite_matrix(n)\n",
    "R = torch.tensor(R, dtype=torch.float32)"
   ]
  },
  {
   "cell_type": "code",
   "execution_count": 5,
   "metadata": {},
   "outputs": [],
   "source": [
    "# Initialize b to all 2.0s\n",
    "b = torch.tensor([2.0]*n, requires_grad=True)"
   ]
  },
  {
   "cell_type": "code",
   "execution_count": 6,
   "metadata": {},
   "outputs": [],
   "source": [
    "# Initialize D to be empty deque\n",
    "D = deque(maxlen=buff_size)"
   ]
  },
  {
   "cell_type": "code",
   "execution_count": 7,
   "metadata": {},
   "outputs": [],
   "source": [
    "def generate_diagonally_dominant_positive_definite_matrix(size):\n",
    "    # add a seed to make the random matrix reproducible\n",
    "    np.random.seed(42)\n",
    "    A = np.random.rand(size, size)\n",
    "    A = A + np.diag(np.sum(np.abs(A), axis=1) + 1)\n",
    "    A = (A + A.T)/2\n",
    "    return A"
   ]
  },
  {
   "cell_type": "code",
   "execution_count": 8,
   "metadata": {},
   "outputs": [],
   "source": [
    "# Cost (reward) function a transpose R a\n",
    "def reward(a, R):\n",
    "    return torch.matmul(torch.matmul(a.T,R), a)"
   ]
  },
  {
   "cell_type": "code",
   "execution_count": 9,
   "metadata": {},
   "outputs": [],
   "source": [
    "# generate a random action given the target parameter b s.t. a = b + N(0,1) (make sure a has entries only [-2,2])\n",
    "def generate_action(b):\n",
    "    a = b + torch.normal(0,1,(n,))\n",
    "    return torch.clamp(a, -2, 2)"
   ]
  },
  {
   "cell_type": "code",
   "execution_count": 10,
   "metadata": {},
   "outputs": [],
   "source": [
    "# Function for gradient clipping\n",
    "def clip_gradients(theta, max_norm):\n",
    "    torch.nn.utils.clip_grad_norm_(theta, max_norm)"
   ]
  },
  {
   "cell_type": "code",
   "execution_count": 11,
   "metadata": {},
   "outputs": [],
   "source": [
    "# Defining simple MLP for Q where we can change the number of layers and the number of neurons in each layer\n",
    "class Q_theta(nn.Module):\n",
    "    def __init__(self, input_dim, output_dim, hidden_dim):\n",
    "        super(Q_theta, self).__init__()\n",
    "        self.network = nn.Sequential(\n",
    "            nn.Linear(input_dim, hidden_dim),\n",
    "            nn.ReLU(),\n",
    "            nn.Linear(hidden_dim, hidden_dim),\n",
    "            nn.ReLU(),\n",
    "            nn.Linear(hidden_dim, output_dim)\n",
    "        )\n",
    "\n",
    "    def forward(self, x):\n",
    "        return self.network(x)\n",
    "\n",
    "    def loss(self, minibatch):\n",
    "        loss = 0.0\n",
    "        for a,r in minibatch:\n",
    "            loss += (self.forward(a) - r)**2\n",
    "        loss = loss/len(minibatch)\n",
    "        return loss"
   ]
  },
  {
   "cell_type": "code",
   "execution_count": 12,
   "metadata": {},
   "outputs": [],
   "source": [
    "# Function to update the parameters of Q with one step of gradient descent\n",
    "def update_Q(minibatch, learning_rate, q_model, max_norm=None):\n",
    "    q_optimizer= optim.Adam(q_model.parameters(), lr=0.001)\n",
    "    q_optimizer.zero_grad()\n",
    "    loss = Q.loss(minibatch)\n",
    "    loss.backward(retain_graph=True)\n",
    "    if max_norm:\n",
    "        clip_gradients(Q.parameters(), max_norm)\n",
    "    q_optimizer.step()"
   ]
  },
  {
   "cell_type": "code",
   "execution_count": 13,
   "metadata": {},
   "outputs": [],
   "source": [
    "b_optimizer = optim.Adam([b], lr=0.001)"
   ]
  },
  {
   "cell_type": "code",
   "execution_count": 14,
   "metadata": {},
   "outputs": [],
   "source": [
    "# Define the optimizer for b outside the update_b function, just after b is initialized\n",
    "b_optimizer = optim.Adam([b], lr=0.000001)\n",
    "\n",
    "# Modify the update_b function to use the optimizer\n",
    "def update_b(minibatch, Q, b, b_optimizer):\n",
    "    b_output = Q.forward(b)\n",
    "    b_grad = torch.autograd.grad(b_output, b, retain_graph=True)[0]\n",
    "\n",
    "    b_optimizer.zero_grad()\n",
    "    b_output.backward()\n",
    "    b_optimizer.step()\n",
    "\n",
    "    # gradient clipping\n",
    "    clip_gradients(b, 1)\n",
    "\n",
    "    # update b\n",
    "    with torch.no_grad():\n",
    "        b -= alpha * b_grad\n",
    "\n",
    "    return b\n"
   ]
  },
  {
   "cell_type": "code",
   "execution_count": 15,
   "metadata": {},
   "outputs": [],
   "source": [
    "# Variant 1: BaseMLP with dynamic buffer \n",
    "def MLP2():\n",
    "    global D, b, R\n",
    "\n",
    "    # list to store the costs to graph them\n",
    "    zoomcosts = {}\n",
    "    # Generate initial sample pairs\n",
    "    for i in range(d):\n",
    "        a = generate_action(b)\n",
    "        r = reward(a, R)\n",
    "        D.append((a,r))\n",
    "\n",
    "    for i in range(total_samples - d):\n",
    "\n",
    "        # generate a random action\n",
    "        a = generate_action(b)\n",
    "\n",
    "        # get the reward\n",
    "        r = reward(a, R)\n",
    "\n",
    "        # add the new sample pair to D\n",
    "        D.append((a,r))\n",
    "\n",
    "    # This is the variant area\n",
    "    #***************************************************************************************************\n",
    "        # Deque is full, so remove the oldest sample pair\n",
    "        if len(D) == buff_size:\n",
    "            D.popleft()\n",
    "    #***************************************************************************************************\n",
    "\n",
    "        # sample a minibatch from D\n",
    "        minibatch = random.sample(D, 32)\n",
    "\n",
    "        # update Q with one step of gradient descent\n",
    "        update_Q(minibatch, alpha, Q, 1.0)\n",
    "\n",
    "        # update b with one step of gradient descent\n",
    "        b=update_b(minibatch, Q, b, b_optimizer)\n",
    "\n",
    "        # print thr reward every 1000 iterations\n",
    "        if i % 500 == 0:\n",
    "            print(\"Cost at iteration \", i, \" is \", reward(b, R))\n",
    "            zoomcosts[i] = reward(b, R)\n",
    "\n",
    "    # return the costs and the final b\n",
    "    return reward(b, R), zoomcosts"
   ]
  },
  {
   "cell_type": "code",
   "execution_count": 16,
   "metadata": {},
   "outputs": [
    {
     "name": "stderr",
     "output_type": "stream",
     "text": [
      "/var/folders/22/nrb4t9gx0n9bfqq_y59_73p80000gn/T/ipykernel_30226/2388056880.py:3: UserWarning: The use of `x.T` on tensors of dimension other than 2 to reverse their shape is deprecated and it will throw an error in a future release. Consider `x.mT` to transpose batches of matrices or `x.permute(*torch.arange(x.ndim - 1, -1, -1))` to reverse the dimensions of a tensor. (Triggered internally at /Users/runner/work/pytorch/pytorch/pytorch/aten/src/ATen/native/TensorShape.cpp:3618.)\n",
      "  return torch.matmul(torch.matmul(a.T,R), a)\n"
     ]
    },
    {
     "name": "stdout",
     "output_type": "stream",
     "text": [
      "Cost at iteration  0  is  tensor(3664.9939, grad_fn=<DotBackward0>)\n",
      "Cost at iteration  500  is  tensor(51.8710, grad_fn=<DotBackward0>)\n",
      "Cost at iteration  1000  is  tensor(1402.5254, grad_fn=<DotBackward0>)\n",
      "Cost at iteration  1500  is  tensor(463.3469, grad_fn=<DotBackward0>)\n",
      "Cost at iteration  2000  is  tensor(329.8455, grad_fn=<DotBackward0>)\n",
      "Cost at iteration  2500  is  tensor(180.7262, grad_fn=<DotBackward0>)\n",
      "Cost at iteration  3000  is  tensor(125.7289, grad_fn=<DotBackward0>)\n",
      "Cost at iteration  3500  is  tensor(64.1659, grad_fn=<DotBackward0>)\n",
      "Cost at iteration  4000  is  tensor(52.3529, grad_fn=<DotBackward0>)\n",
      "Cost at iteration  4500  is  tensor(22.8164, grad_fn=<DotBackward0>)\n",
      "Cost at iteration  5000  is  tensor(20.0156, grad_fn=<DotBackward0>)\n",
      "Cost at iteration  5500  is  tensor(24.4732, grad_fn=<DotBackward0>)\n",
      "Cost at iteration  6000  is  tensor(20.2260, grad_fn=<DotBackward0>)\n",
      "Cost at iteration  6500  is  tensor(28.3185, grad_fn=<DotBackward0>)\n",
      "Cost at iteration  7000  is  tensor(41.6159, grad_fn=<DotBackward0>)\n",
      "Cost at iteration  7500  is  tensor(3.1614, grad_fn=<DotBackward0>)\n",
      "Cost at iteration  8000  is  tensor(3.1614, grad_fn=<DotBackward0>)\n",
      "Cost at iteration  8500  is  tensor(3.1614, grad_fn=<DotBackward0>)\n",
      "Cost at iteration  9000  is  tensor(3.1614, grad_fn=<DotBackward0>)\n",
      "Cost at iteration  0  is  tensor(3665.1443, grad_fn=<DotBackward0>)\n",
      "Cost at iteration  500  is  tensor(121.1137, grad_fn=<DotBackward0>)\n",
      "Cost at iteration  1000  is  tensor(856.0942, grad_fn=<DotBackward0>)\n",
      "Cost at iteration  1500  is  tensor(361.6130, grad_fn=<DotBackward0>)\n",
      "Cost at iteration  2000  is  tensor(235.4085, grad_fn=<DotBackward0>)\n",
      "Cost at iteration  2500  is  tensor(289.4907, grad_fn=<DotBackward0>)\n",
      "Cost at iteration  3000  is  tensor(152.8796, grad_fn=<DotBackward0>)\n",
      "Cost at iteration  3500  is  tensor(93.0109, grad_fn=<DotBackward0>)\n",
      "Cost at iteration  4000  is  tensor(38.3662, grad_fn=<DotBackward0>)\n",
      "Cost at iteration  4500  is  tensor(13.7952, grad_fn=<DotBackward0>)\n",
      "Cost at iteration  5000  is  tensor(36.5253, grad_fn=<DotBackward0>)\n",
      "Cost at iteration  5500  is  tensor(24.7414, grad_fn=<DotBackward0>)\n",
      "Cost at iteration  6000  is  tensor(25.0436, grad_fn=<DotBackward0>)\n",
      "Cost at iteration  6500  is  tensor(20.1679, grad_fn=<DotBackward0>)\n",
      "Cost at iteration  7000  is  tensor(10.7207, grad_fn=<DotBackward0>)\n",
      "Cost at iteration  7500  is  tensor(2.9693, grad_fn=<DotBackward0>)\n",
      "Cost at iteration  8000  is  tensor(3.6852, grad_fn=<DotBackward0>)\n",
      "Cost at iteration  8500  is  tensor(5.6865, grad_fn=<DotBackward0>)\n",
      "Cost at iteration  9000  is  tensor(7.9867, grad_fn=<DotBackward0>)\n",
      "Cost at iteration  0  is  tensor(3664.9775, grad_fn=<DotBackward0>)\n",
      "Cost at iteration  500  is  tensor(146.2413, grad_fn=<DotBackward0>)\n",
      "Cost at iteration  1000  is  tensor(2566.6780, grad_fn=<DotBackward0>)\n",
      "Cost at iteration  1500  is  tensor(744.6993, grad_fn=<DotBackward0>)\n",
      "Cost at iteration  2000  is  tensor(1070.3236, grad_fn=<DotBackward0>)\n",
      "Cost at iteration  2500  is  tensor(3628.6265, grad_fn=<DotBackward0>)\n",
      "Cost at iteration  3000  is  tensor(10342.2217, grad_fn=<DotBackward0>)\n",
      "Cost at iteration  3500  is  tensor(10523.4473, grad_fn=<DotBackward0>)\n",
      "Cost at iteration  4000  is  tensor(10601.3252, grad_fn=<DotBackward0>)\n",
      "Cost at iteration  4500  is  tensor(10659.1367, grad_fn=<DotBackward0>)\n",
      "Cost at iteration  5000  is  tensor(10679.7188, grad_fn=<DotBackward0>)\n",
      "Cost at iteration  5500  is  tensor(10701.0420, grad_fn=<DotBackward0>)\n",
      "Cost at iteration  6000  is  tensor(10725.1953, grad_fn=<DotBackward0>)\n",
      "Cost at iteration  6500  is  tensor(10740.7285, grad_fn=<DotBackward0>)\n",
      "Cost at iteration  7000  is  tensor(10791.7734, grad_fn=<DotBackward0>)\n",
      "Cost at iteration  7500  is  tensor(10817.8184, grad_fn=<DotBackward0>)\n",
      "Cost at iteration  8000  is  tensor(10825.1484, grad_fn=<DotBackward0>)\n",
      "Cost at iteration  8500  is  tensor(10825.1484, grad_fn=<DotBackward0>)\n",
      "Cost at iteration  9000  is  tensor(10835.3613, grad_fn=<DotBackward0>)\n",
      "Cost at iteration  0  is  tensor(3665.0522, grad_fn=<DotBackward0>)\n",
      "Cost at iteration  500  is  tensor(94.0079, grad_fn=<DotBackward0>)\n",
      "Cost at iteration  1000  is  tensor(1790.5725, grad_fn=<DotBackward0>)\n",
      "Cost at iteration  1500  is  tensor(1078.9211, grad_fn=<DotBackward0>)\n",
      "Cost at iteration  2000  is  tensor(1392.8116, grad_fn=<DotBackward0>)\n",
      "Cost at iteration  2500  is  tensor(4396.2617, grad_fn=<DotBackward0>)\n",
      "Cost at iteration  3000  is  tensor(11506.5684, grad_fn=<DotBackward0>)\n",
      "Cost at iteration  3500  is  tensor(21195.3359, grad_fn=<DotBackward0>)\n",
      "Cost at iteration  4000  is  tensor(28512.2012, grad_fn=<DotBackward0>)\n",
      "Cost at iteration  4500  is  tensor(37518.4531, grad_fn=<DotBackward0>)\n",
      "Cost at iteration  5000  is  tensor(37374.0625, grad_fn=<DotBackward0>)\n",
      "Cost at iteration  5500  is  tensor(19495.5312, grad_fn=<DotBackward0>)\n",
      "Cost at iteration  6000  is  tensor(13534.6729, grad_fn=<DotBackward0>)\n",
      "Cost at iteration  6500  is  tensor(16205.1133, grad_fn=<DotBackward0>)\n",
      "Cost at iteration  7000  is  tensor(17423.7363, grad_fn=<DotBackward0>)\n",
      "Cost at iteration  7500  is  tensor(18576.8574, grad_fn=<DotBackward0>)\n",
      "Cost at iteration  8000  is  tensor(22657.6953, grad_fn=<DotBackward0>)\n",
      "Cost at iteration  8500  is  tensor(25681.4316, grad_fn=<DotBackward0>)\n",
      "Cost at iteration  9000  is  tensor(26946.0352, grad_fn=<DotBackward0>)\n",
      "Cost at iteration  0  is  tensor(3664.9248, grad_fn=<DotBackward0>)\n",
      "Cost at iteration  500  is  tensor(82.4009, grad_fn=<DotBackward0>)\n",
      "Cost at iteration  1000  is  tensor(1761.9336, grad_fn=<DotBackward0>)\n",
      "Cost at iteration  1500  is  tensor(765.0165, grad_fn=<DotBackward0>)\n",
      "Cost at iteration  2000  is  tensor(1279.9985, grad_fn=<DotBackward0>)\n",
      "Cost at iteration  2500  is  tensor(1448.2186, grad_fn=<DotBackward0>)\n",
      "Cost at iteration  3000  is  tensor(4037.9956, grad_fn=<DotBackward0>)\n",
      "Cost at iteration  3500  is  tensor(9298.1123, grad_fn=<DotBackward0>)\n",
      "Cost at iteration  4000  is  tensor(15071.0312, grad_fn=<DotBackward0>)\n",
      "Cost at iteration  4500  is  tensor(20853.2617, grad_fn=<DotBackward0>)\n",
      "Cost at iteration  5000  is  tensor(25004.6387, grad_fn=<DotBackward0>)\n",
      "Cost at iteration  5500  is  tensor(25882.5137, grad_fn=<DotBackward0>)\n",
      "Cost at iteration  6000  is  tensor(26857.6953, grad_fn=<DotBackward0>)\n",
      "Cost at iteration  6500  is  tensor(28113.3086, grad_fn=<DotBackward0>)\n",
      "Cost at iteration  7000  is  tensor(30391.3945, grad_fn=<DotBackward0>)\n",
      "Cost at iteration  7500  is  tensor(26091.5156, grad_fn=<DotBackward0>)\n",
      "Cost at iteration  8000  is  tensor(17538.3164, grad_fn=<DotBackward0>)\n",
      "Cost at iteration  8500  is  tensor(9385.8281, grad_fn=<DotBackward0>)\n",
      "Cost at iteration  9000  is  tensor(6880.9814, grad_fn=<DotBackward0>)\n",
      "Cost at iteration  0  is  tensor(3665.0823, grad_fn=<DotBackward0>)\n",
      "Cost at iteration  500  is  tensor(146.6801, grad_fn=<DotBackward0>)\n",
      "Cost at iteration  1000  is  tensor(1974.3344, grad_fn=<DotBackward0>)\n",
      "Cost at iteration  1500  is  tensor(253.9265, grad_fn=<DotBackward0>)\n",
      "Cost at iteration  2000  is  tensor(234.3866, grad_fn=<DotBackward0>)\n",
      "Cost at iteration  2500  is  tensor(93.5215, grad_fn=<DotBackward0>)\n",
      "Cost at iteration  3000  is  tensor(61.7509, grad_fn=<DotBackward0>)\n",
      "Cost at iteration  3500  is  tensor(40.5173, grad_fn=<DotBackward0>)\n",
      "Cost at iteration  4000  is  tensor(15.2101, grad_fn=<DotBackward0>)\n",
      "Cost at iteration  4500  is  tensor(27.7542, grad_fn=<DotBackward0>)\n",
      "Cost at iteration  5000  is  tensor(48.0117, grad_fn=<DotBackward0>)\n",
      "Cost at iteration  5500  is  tensor(39.9235, grad_fn=<DotBackward0>)\n",
      "Cost at iteration  6000  is  tensor(32.9089, grad_fn=<DotBackward0>)\n",
      "Cost at iteration  6500  is  tensor(23.7263, grad_fn=<DotBackward0>)\n",
      "Cost at iteration  7000  is  tensor(6.7149, grad_fn=<DotBackward0>)\n",
      "Cost at iteration  7500  is  tensor(9.2201, grad_fn=<DotBackward0>)\n",
      "Cost at iteration  8000  is  tensor(12.0958, grad_fn=<DotBackward0>)\n",
      "Cost at iteration  8500  is  tensor(15.8676, grad_fn=<DotBackward0>)\n",
      "Cost at iteration  9000  is  tensor(21.5855, grad_fn=<DotBackward0>)\n",
      "Cost at iteration  0  is  tensor(3665.0686, grad_fn=<DotBackward0>)\n",
      "Cost at iteration  500  is  tensor(92.1906, grad_fn=<DotBackward0>)\n",
      "Cost at iteration  1000  is  tensor(1468.0598, grad_fn=<DotBackward0>)\n",
      "Cost at iteration  1500  is  tensor(806.8073, grad_fn=<DotBackward0>)\n",
      "Cost at iteration  2000  is  tensor(256.3975, grad_fn=<DotBackward0>)\n",
      "Cost at iteration  2500  is  tensor(222.9142, grad_fn=<DotBackward0>)\n",
      "Cost at iteration  3000  is  tensor(187.1315, grad_fn=<DotBackward0>)\n",
      "Cost at iteration  3500  is  tensor(107.0392, grad_fn=<DotBackward0>)\n",
      "Cost at iteration  4000  is  tensor(41.3983, grad_fn=<DotBackward0>)\n",
      "Cost at iteration  4500  is  tensor(38.7453, grad_fn=<DotBackward0>)\n",
      "Cost at iteration  5000  is  tensor(8.1814, grad_fn=<DotBackward0>)\n",
      "Cost at iteration  5500  is  tensor(19.7388, grad_fn=<DotBackward0>)\n",
      "Cost at iteration  6000  is  tensor(23.3053, grad_fn=<DotBackward0>)\n",
      "Cost at iteration  6500  is  tensor(29.9402, grad_fn=<DotBackward0>)\n",
      "Cost at iteration  7000  is  tensor(24.6093, grad_fn=<DotBackward0>)\n",
      "Cost at iteration  7500  is  tensor(11.3474, grad_fn=<DotBackward0>)\n",
      "Cost at iteration  8000  is  tensor(16.2822, grad_fn=<DotBackward0>)\n",
      "Cost at iteration  8500  is  tensor(23.7767, grad_fn=<DotBackward0>)\n",
      "Cost at iteration  9000  is  tensor(29.6444, grad_fn=<DotBackward0>)\n",
      "Cost at iteration  0  is  tensor(3665.0024, grad_fn=<DotBackward0>)\n",
      "Cost at iteration  500  is  tensor(119.7239, grad_fn=<DotBackward0>)\n",
      "Cost at iteration  1000  is  tensor(742.4547, grad_fn=<DotBackward0>)\n",
      "Cost at iteration  1500  is  tensor(324.4213, grad_fn=<DotBackward0>)\n",
      "Cost at iteration  2000  is  tensor(202.9559, grad_fn=<DotBackward0>)\n",
      "Cost at iteration  2500  is  tensor(153.5137, grad_fn=<DotBackward0>)\n",
      "Cost at iteration  3000  is  tensor(212.1329, grad_fn=<DotBackward0>)\n",
      "Cost at iteration  3500  is  tensor(56.4031, grad_fn=<DotBackward0>)\n",
      "Cost at iteration  4000  is  tensor(23.1612, grad_fn=<DotBackward0>)\n",
      "Cost at iteration  4500  is  tensor(11.1514, grad_fn=<DotBackward0>)\n",
      "Cost at iteration  5000  is  tensor(8.2407, grad_fn=<DotBackward0>)\n",
      "Cost at iteration  5500  is  tensor(34.7549, grad_fn=<DotBackward0>)\n",
      "Cost at iteration  6000  is  tensor(25.9562, grad_fn=<DotBackward0>)\n",
      "Cost at iteration  6500  is  tensor(20.0063, grad_fn=<DotBackward0>)\n",
      "Cost at iteration  7000  is  tensor(21.9374, grad_fn=<DotBackward0>)\n",
      "Cost at iteration  7500  is  tensor(19.4841, grad_fn=<DotBackward0>)\n",
      "Cost at iteration  8000  is  tensor(27.6056, grad_fn=<DotBackward0>)\n",
      "Cost at iteration  8500  is  tensor(32.1117, grad_fn=<DotBackward0>)\n",
      "Cost at iteration  9000  is  tensor(40.0812, grad_fn=<DotBackward0>)\n",
      "Cost at iteration  0  is  tensor(3665.0010, grad_fn=<DotBackward0>)\n",
      "Cost at iteration  500  is  tensor(104.2118, grad_fn=<DotBackward0>)\n",
      "Cost at iteration  1000  is  tensor(2013.4790, grad_fn=<DotBackward0>)\n",
      "Cost at iteration  1500  is  tensor(541.2424, grad_fn=<DotBackward0>)\n",
      "Cost at iteration  2000  is  tensor(763.0301, grad_fn=<DotBackward0>)\n",
      "Cost at iteration  2500  is  tensor(2436.1897, grad_fn=<DotBackward0>)\n",
      "Cost at iteration  3000  is  tensor(6988.6543, grad_fn=<DotBackward0>)\n",
      "Cost at iteration  3500  is  tensor(7554.5293, grad_fn=<DotBackward0>)\n",
      "Cost at iteration  4000  is  tensor(7724.6445, grad_fn=<DotBackward0>)\n",
      "Cost at iteration  4500  is  tensor(7781.4185, grad_fn=<DotBackward0>)\n",
      "Cost at iteration  5000  is  tensor(8093.8691, grad_fn=<DotBackward0>)\n",
      "Cost at iteration  5500  is  tensor(8174.4160, grad_fn=<DotBackward0>)\n",
      "Cost at iteration  6000  is  tensor(8484.5078, grad_fn=<DotBackward0>)\n",
      "Cost at iteration  6500  is  tensor(8667.7559, grad_fn=<DotBackward0>)\n",
      "Cost at iteration  7000  is  tensor(8667.7559, grad_fn=<DotBackward0>)\n",
      "Cost at iteration  7500  is  tensor(8758.1211, grad_fn=<DotBackward0>)\n",
      "Cost at iteration  8000  is  tensor(8801.9023, grad_fn=<DotBackward0>)\n",
      "Cost at iteration  8500  is  tensor(8801.9023, grad_fn=<DotBackward0>)\n",
      "Cost at iteration  9000  is  tensor(8844.7861, grad_fn=<DotBackward0>)\n",
      "Cost at iteration  0  is  tensor(3665.0889, grad_fn=<DotBackward0>)\n",
      "Cost at iteration  500  is  tensor(79.8908, grad_fn=<DotBackward0>)\n",
      "Cost at iteration  1000  is  tensor(1258.6924, grad_fn=<DotBackward0>)\n",
      "Cost at iteration  1500  is  tensor(499.5035, grad_fn=<DotBackward0>)\n",
      "Cost at iteration  2000  is  tensor(310.5442, grad_fn=<DotBackward0>)\n",
      "Cost at iteration  2500  is  tensor(239.5236, grad_fn=<DotBackward0>)\n",
      "Cost at iteration  3000  is  tensor(86.5508, grad_fn=<DotBackward0>)\n",
      "Cost at iteration  3500  is  tensor(98.2976, grad_fn=<DotBackward0>)\n",
      "Cost at iteration  4000  is  tensor(96.3572, grad_fn=<DotBackward0>)\n",
      "Cost at iteration  4500  is  tensor(13.0992, grad_fn=<DotBackward0>)\n",
      "Cost at iteration  5000  is  tensor(28.5442, grad_fn=<DotBackward0>)\n",
      "Cost at iteration  5500  is  tensor(14.1163, grad_fn=<DotBackward0>)\n",
      "Cost at iteration  6000  is  tensor(54.2916, grad_fn=<DotBackward0>)\n",
      "Cost at iteration  6500  is  tensor(51.2900, grad_fn=<DotBackward0>)\n",
      "Cost at iteration  7000  is  tensor(49.0155, grad_fn=<DotBackward0>)\n",
      "Cost at iteration  7500  is  tensor(22.3786, grad_fn=<DotBackward0>)\n",
      "Cost at iteration  8000  is  tensor(27.7451, grad_fn=<DotBackward0>)\n",
      "Cost at iteration  8500  is  tensor(33.7825, grad_fn=<DotBackward0>)\n",
      "Cost at iteration  9000  is  tensor(45.0691, grad_fn=<DotBackward0>)\n"
     ]
    }
   ],
   "source": [
    "# this variant adds optimization to the b parameter\n",
    "costs = []\n",
    "for iter in range(10):\n",
    "    global b, D, Q\n",
    "    # set the seed\n",
    "    torch.manual_seed(iter)\n",
    "    np.random.seed(iter)\n",
    "\n",
    "    # reset the parameters\n",
    "    b = torch.tensor([2.0]*n, requires_grad=True)\n",
    "    D = deque(maxlen=buff_size)\n",
    "    Q = Q_theta(n, 1, 64)\n",
    "\n",
    "    # run the algorithm\n",
    "    final_cost, zoomcost = MLP2()\n",
    "    costs.append(final_cost)"
   ]
  },
  {
   "cell_type": "code",
   "execution_count": 18,
   "metadata": {},
   "outputs": [
    {
     "name": "stdout",
     "output_type": "stream",
     "text": [
      "[tensor(3.1614, grad_fn=<DotBackward0>), tensor(12.0984, grad_fn=<DotBackward0>), tensor(10869.4043, grad_fn=<DotBackward0>), tensor(26747.1035, grad_fn=<DotBackward0>), tensor(8983.8750, grad_fn=<DotBackward0>), tensor(24.1115, grad_fn=<DotBackward0>), tensor(40.1498, grad_fn=<DotBackward0>), tensor(40.7885, grad_fn=<DotBackward0>), tensor(8880.8438, grad_fn=<DotBackward0>), tensor(52.3103, grad_fn=<DotBackward0>)]\n",
      "tensor(5565.3848)\n"
     ]
    }
   ],
   "source": [
    "print(costs)\n",
    "# print the mean cost (they are tensor objects)\n",
    "print(torch.mean(torch.tensor(costs)))"
   ]
  },
  {
   "cell_type": "code",
   "execution_count": 19,
   "metadata": {},
   "outputs": [
    {
     "name": "stdout",
     "output_type": "stream",
     "text": [
      "[tensor(3.1614, grad_fn=<DotBackward0>), tensor(12.0984, grad_fn=<DotBackward0>), tensor(10869.4043, grad_fn=<DotBackward0>), tensor(26747.1035, grad_fn=<DotBackward0>), tensor(8983.8750, grad_fn=<DotBackward0>), tensor(24.1115, grad_fn=<DotBackward0>), tensor(40.1498, grad_fn=<DotBackward0>), tensor(40.7885, grad_fn=<DotBackward0>), tensor(8880.8438, grad_fn=<DotBackward0>), tensor(52.3103, grad_fn=<DotBackward0>)]\n",
      "tensor(5565.3848)\n"
     ]
    },
    {
     "data": {
      "image/png": "[encoded data removed]",
      "text/plain": [
       "<Figure size 640x480 with 1 Axes>"
      ]
     },
     "metadata": {},
     "output_type": "display_data"
    }
   ],
   "source": [
    "print(costs)\n",
    "# print the mean cost (they are tensor objects)\n",
    "print(torch.mean(torch.tensor(costs)))\n",
    "# convert the costs to a numpy array using detach\n",
    "costs = torch.tensor(costs).detach().numpy()\n",
    "# graph the costs\n",
    "import matplotlib.pyplot as plt\n",
    "plt.plot(costs)\n",
    "plt.xlabel('Iteration')\n",
    "plt.ylabel('Cost')\n",
    "plt.title('MLP3: Cost vs. Iteration')\n",
    "mean = costs.mean()\n",
    "plt.axhline(y=mean, color='r', linestyle='-', label='Mean Cost')\n",
    "# plt.show()\n",
    "# save the figure\n",
    "plt.savefig('MLP3.png')"
   ]
  },
  {
   "cell_type": "code",
   "execution_count": 20,
   "metadata": {},
   "outputs": [
    {
     "name": "stdout",
     "output_type": "stream",
     "text": [
      "{0: tensor(3665.0889, grad_fn=<DotBackward0>), 500: tensor(79.8908, grad_fn=<DotBackward0>), 1000: tensor(1258.6924, grad_fn=<DotBackward0>), 1500: tensor(499.5035, grad_fn=<DotBackward0>), 2000: tensor(310.5442, grad_fn=<DotBackward0>), 2500: tensor(239.5236, grad_fn=<DotBackward0>), 3000: tensor(86.5508, grad_fn=<DotBackward0>), 3500: tensor(98.2976, grad_fn=<DotBackward0>), 4000: tensor(96.3572, grad_fn=<DotBackward0>), 4500: tensor(13.0992, grad_fn=<DotBackward0>), 5000: tensor(28.5442, grad_fn=<DotBackward0>), 5500: tensor(14.1163, grad_fn=<DotBackward0>), 6000: tensor(54.2916, grad_fn=<DotBackward0>), 6500: tensor(51.2900, grad_fn=<DotBackward0>), 7000: tensor(49.0155, grad_fn=<DotBackward0>), 7500: tensor(22.3786, grad_fn=<DotBackward0>), 8000: tensor(27.7451, grad_fn=<DotBackward0>), 8500: tensor(33.7825, grad_fn=<DotBackward0>), 9000: tensor(45.0691, grad_fn=<DotBackward0>)}\n"
     ]
    }
   ],
   "source": [
    "zoomcost = dict(zoomcost)\n",
    "\n",
    "# convert the zoomcosts to a python dictionary\n",
    "\n",
    "def tensors_to_numpy(tensor_dict):\n",
    "    numpy_dict = {}\n",
    "    for key, tensor in tensor_dict.items():\n",
    "        # Ensure tensor is on CPU before converting\n",
    "        numpy_dict[key] = tensor.cpu().numpy()\n",
    "    return numpy_dict\n",
    "\n",
    "# convert the zoomcosts to a regular dictionary\n",
    "# zoomcost = tensors_to_numpy(zoomcost)\n",
    "print(zoomcost)"
   ]
  }
 ],
 "metadata": {
  "kernelspec": {
   "display_name": "Python 3",
   "language": "python",
   "name": "python3"
  },
  "language_info": {
   "codemirror_mode": {
    "name": "ipython",
    "version": 3
   },
   "file_extension": ".py",
   "mimetype": "text/x-python",
   "name": "python",
   "nbconvert_exporter": "python",
   "pygments_lexer": "ipython3",
   "version": "3.10.8"
  }
 },
 "nbformat": 4,
 "nbformat_minor": 2
}
