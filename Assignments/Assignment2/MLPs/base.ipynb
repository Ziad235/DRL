{
 "cells": [
  {
   "cell_type": "code",
   "execution_count": 3,
   "metadata": {},
   "outputs": [],
   "source": [
    "import torch\n",
    "import torch.nn as nn\n",
    "import torch.optim as optim\n",
    "import random\n",
    "import numpy as np"
   ]
  },
  {
   "cell_type": "code",
   "execution_count": 4,
   "metadata": {},
   "outputs": [],
   "source": [
    "# Parameters\n",
    "n = 30 # dimension of actions and/or cost matrix\n",
    "d = 500 # number of initial sample pairs\n",
    "total_samples = 10000 # number of total samples that can be used\n",
    "alpha = 0.01 # learning rate for when performing gradient descent on b"
   ]
  },
  {
   "cell_type": "code",
   "execution_count": 5,
   "metadata": {},
   "outputs": [],
   "source": [
    "# Define what you want R to be\n",
    "# R = np.identity(n) # identity matrix\n",
    "R = generate_diagonally_dominant_positive_definite_matrix(n)\n",
    "R = torch.tensor(R, dtype=torch.float32)"
   ]
  },
  {
   "cell_type": "code",
   "execution_count": 6,
   "metadata": {},
   "outputs": [],
   "source": [
    "# Initialize b to all 2.0s\n",
    "b = torch.tensor([2.0]*n, requires_grad=True)"
   ]
  },
  {
   "cell_type": "code",
   "execution_count": 7,
   "metadata": {},
   "outputs": [],
   "source": [
    "# Initialize D to be empty\n",
    "D = []"
   ]
  },
  {
   "cell_type": "code",
   "execution_count": 8,
   "metadata": {},
   "outputs": [],
   "source": [
    "def generate_diagonally_dominant_positive_definite_matrix(size):\n",
    "    np.random.seed(42)\n",
    "    A = np.random.rand(size, size)\n",
    "    A = A + np.diag(np.sum(np.abs(A), axis=1) + 1)\n",
    "    A = (A + A.T)/2\n",
    "    return A"
   ]
  },
  {
   "cell_type": "code",
   "execution_count": 9,
   "metadata": {},
   "outputs": [],
   "source": [
    "# Cost (reward) function a transpose R a\n",
    "def reward(a, R):\n",
    "    return torch.matmul(torch.matmul(a.T,R), a)"
   ]
  },
  {
   "cell_type": "code",
   "execution_count": 10,
   "metadata": {},
   "outputs": [],
   "source": [
    "# generate a random action given the target parameter b s.t. a = b + N(0,1) (make sure a has entries only [-2,2])\n",
    "def generate_action(b):\n",
    "    a = b + torch.normal(0,1,(n,))\n",
    "    return torch.clamp(a, -2, 2)"
   ]
  },
  {
   "cell_type": "code",
   "execution_count": 11,
   "metadata": {},
   "outputs": [],
   "source": [
    "# Function for gradient clipping\n",
    "def clip_gradients(theta, max_norm):\n",
    "    torch.nn.utils.clip_grad_norm_(theta, max_norm)"
   ]
  },
  {
   "cell_type": "code",
   "execution_count": 12,
   "metadata": {},
   "outputs": [],
   "source": [
    "# Defining simple MLP for Q where we can change the number of layers and the number of neurons in each layer\n",
    "class Q_theta(nn.Module):\n",
    "    def __init__(self, input_dim, output_dim, hidden_dim):\n",
    "        super(Q_theta, self).__init__()\n",
    "        self.network = nn.Sequential(\n",
    "            nn.Linear(input_dim, hidden_dim),\n",
    "            nn.ReLU(),\n",
    "            nn.Linear(hidden_dim, hidden_dim),\n",
    "            nn.ReLU(),\n",
    "            nn.Linear(hidden_dim, output_dim)\n",
    "        )\n",
    "\n",
    "    def forward(self, x):\n",
    "        return self.network(x)\n",
    "\n",
    "    def loss(self, minibatch):\n",
    "        loss = 0.0\n",
    "        for a,r in minibatch:\n",
    "            loss += (self.forward(a) - r)**2\n",
    "        loss = loss/len(minibatch)\n",
    "        return loss\n",
    "\n",
    "# Initialize Q_theta\n",
    "Q = Q_theta(n, 1, 64)"
   ]
  },
  {
   "cell_type": "code",
   "execution_count": 13,
   "metadata": {},
   "outputs": [],
   "source": [
    "optimizer = optim.Adam(Q.parameters(), lr=0.01)"
   ]
  },
  {
   "cell_type": "code",
   "execution_count": 14,
   "metadata": {},
   "outputs": [],
   "source": [
    "# Function to update the parameters of Q with one step of gradient descent\n",
    "def update_Q(minibatch, learning_rate, max_norm=None):\n",
    "    optimizer.zero_grad()  # Reset gradients to zero before backward pass\n",
    "    loss = Q.loss(minibatch)\n",
    "    loss.backward(retain_graph=True)  # Perform backpropagation\n",
    "    if max_norm is not None:\n",
    "        clip_gradients(Q.parameters(), max_norm=max_norm)  # Gradient clipping\n",
    "\n",
    "    # Manually update the parameters\n",
    "    with torch.no_grad():  # Disable gradient tracking to perform manual updates\n",
    "        for param in Q.parameters():\n",
    "            param -= learning_rate * param.grad  # Update parameters using gradient descent"
   ]
  },
  {
   "cell_type": "code",
   "execution_count": 15,
   "metadata": {},
   "outputs": [],
   "source": [
    "# Function to update the parameters of b with one step of gradient descent\n",
    "def update_b(Q,alpha):\n",
    "    global b\n",
    "    # To update b, we need to calculate the gradient w.r.t. to it from the Q network's output (use gradient clipping)\n",
    "    b_grad = torch.autograd.grad(Q(b.unsqueeze(0)), b, create_graph=True)[0]\n",
    "    with torch.no_grad():  # Update b without tracking gradients\n",
    "        b.sub_(alpha * b_grad)\n",
    "        # # Clip gradients\n",
    "        # b_grad_norm = b_grad.norm()\n",
    "\n",
    "    # return the final b\n",
    "    return b"
   ]
  },
  {
   "cell_type": "code",
   "execution_count": 16,
   "metadata": {},
   "outputs": [],
   "source": [
    "# Algorithm\n",
    "def BaseMLP():\n",
    "    global D, b, R\n",
    "\n",
    "    zoomcost = {}\n",
    "\n",
    "    # Generate initial sample pairs\n",
    "    for i in range(d):\n",
    "        a = generate_action(b)\n",
    "        r = reward(a, R)\n",
    "        D.append((a,r))\n",
    "\n",
    "    for i in range(total_samples - d):\n",
    "\n",
    "        # generate a random action\n",
    "        a = generate_action(b)\n",
    "\n",
    "        # get the reward\n",
    "        r = reward(a, R)\n",
    "\n",
    "        # add the new sample pair to D\n",
    "        D.append((a,r))\n",
    "\n",
    "        # sample a minibatch from D\n",
    "        minibatch = random.sample(D, 32)\n",
    "\n",
    "        # update Q with one step of gradient descent\n",
    "        update_Q(minibatch, 0.001, 1.0)\n",
    "\n",
    "        # update b with one step of gradient descent\n",
    "        b = update_b(Q, alpha)\n",
    "\n",
    "        # print thr reward every 1000 iterations\n",
    "        if i % 500 == 0:\n",
    "            print(\"Cost at iteration \", i, \" is \", reward(b, R))\n",
    "            # append the cost to the zoomcost dictionary\n",
    "            zoomcost[i] = reward(b, R)\n",
    "\n",
    "    # Return the final cost\n",
    "    return reward(b, R), zoomcost"
   ]
  },
  {
   "cell_type": "code",
   "execution_count": 17,
   "metadata": {},
   "outputs": [
    {
     "name": "stderr",
     "output_type": "stream",
     "text": [
      "/var/folders/22/nrb4t9gx0n9bfqq_y59_73p80000gn/T/ipykernel_30249/2388056880.py:3: UserWarning: The use of `x.T` on tensors of dimension other than 2 to reverse their shape is deprecated and it will throw an error in a future release. Consider `x.mT` to transpose batches of matrices or `x.permute(*torch.arange(x.ndim - 1, -1, -1))` to reverse the dimensions of a tensor. (Triggered internally at /Users/runner/work/pytorch/pytorch/pytorch/aten/src/ATen/native/TensorShape.cpp:3618.)\n",
      "  return torch.matmul(torch.matmul(a.T,R), a)\n"
     ]
    },
    {
     "name": "stdout",
     "output_type": "stream",
     "text": [
      "Cost at iteration  0  is  tensor(3665.0601, grad_fn=<DotBackward0>)\n",
      "Cost at iteration  500  is  tensor(3339.0039, grad_fn=<DotBackward0>)\n",
      "Cost at iteration  1000  is  tensor(2116.4009, grad_fn=<DotBackward0>)\n",
      "Cost at iteration  1500  is  tensor(506.9696, grad_fn=<DotBackward0>)\n",
      "Cost at iteration  2000  is  tensor(333.2790, grad_fn=<DotBackward0>)\n",
      "Cost at iteration  2500  is  tensor(311.1802, grad_fn=<DotBackward0>)\n",
      "Cost at iteration  3000  is  tensor(298.4539, grad_fn=<DotBackward0>)\n",
      "Cost at iteration  3500  is  tensor(309.8719, grad_fn=<DotBackward0>)\n",
      "Cost at iteration  4000  is  tensor(320.7991, grad_fn=<DotBackward0>)\n",
      "Cost at iteration  4500  is  tensor(327.7381, grad_fn=<DotBackward0>)\n",
      "Cost at iteration  5000  is  tensor(331.0113, grad_fn=<DotBackward0>)\n",
      "Cost at iteration  5500  is  tensor(343.9523, grad_fn=<DotBackward0>)\n",
      "Cost at iteration  6000  is  tensor(377.9483, grad_fn=<DotBackward0>)\n",
      "Cost at iteration  6500  is  tensor(438.0234, grad_fn=<DotBackward0>)\n",
      "Cost at iteration  7000  is  tensor(529.3903, grad_fn=<DotBackward0>)\n",
      "Cost at iteration  7500  is  tensor(634.0688, grad_fn=<DotBackward0>)\n",
      "Cost at iteration  8000  is  tensor(766.5850, grad_fn=<DotBackward0>)\n",
      "Cost at iteration  8500  is  tensor(946.7476, grad_fn=<DotBackward0>)\n",
      "Cost at iteration  9000  is  tensor(1141.5190, grad_fn=<DotBackward0>)\n",
      "Cost at iteration  0  is  tensor(3665.2285, grad_fn=<DotBackward0>)\n",
      "Cost at iteration  500  is  tensor(3382.0596, grad_fn=<DotBackward0>)\n",
      "Cost at iteration  1000  is  tensor(2188.1677, grad_fn=<DotBackward0>)\n",
      "Cost at iteration  1500  is  tensor(641.2942, grad_fn=<DotBackward0>)\n",
      "Cost at iteration  2000  is  tensor(458.9813, grad_fn=<DotBackward0>)\n",
      "Cost at iteration  2500  is  tensor(415.3348, grad_fn=<DotBackward0>)\n",
      "Cost at iteration  3000  is  tensor(394.4455, grad_fn=<DotBackward0>)\n",
      "Cost at iteration  3500  is  tensor(381.3308, grad_fn=<DotBackward0>)\n",
      "Cost at iteration  4000  is  tensor(367.5939, grad_fn=<DotBackward0>)\n",
      "Cost at iteration  4500  is  tensor(366.3647, grad_fn=<DotBackward0>)\n",
      "Cost at iteration  5000  is  tensor(367.1726, grad_fn=<DotBackward0>)\n",
      "Cost at iteration  5500  is  tensor(370.6470, grad_fn=<DotBackward0>)\n",
      "Cost at iteration  6000  is  tensor(378.6722, grad_fn=<DotBackward0>)\n",
      "Cost at iteration  6500  is  tensor(384.4881, grad_fn=<DotBackward0>)\n",
      "Cost at iteration  7000  is  tensor(392.2834, grad_fn=<DotBackward0>)\n",
      "Cost at iteration  7500  is  tensor(408.4054, grad_fn=<DotBackward0>)\n",
      "Cost at iteration  8000  is  tensor(452.1230, grad_fn=<DotBackward0>)\n",
      "Cost at iteration  8500  is  tensor(486.9965, grad_fn=<DotBackward0>)\n",
      "Cost at iteration  9000  is  tensor(524.4446, grad_fn=<DotBackward0>)\n",
      "Cost at iteration  0  is  tensor(3665.0356, grad_fn=<DotBackward0>)\n",
      "Cost at iteration  500  is  tensor(3351.9800, grad_fn=<DotBackward0>)\n",
      "Cost at iteration  1000  is  tensor(2170.9368, grad_fn=<DotBackward0>)\n",
      "Cost at iteration  1500  is  tensor(562.6556, grad_fn=<DotBackward0>)\n",
      "Cost at iteration  2000  is  tensor(330.2373, grad_fn=<DotBackward0>)\n",
      "Cost at iteration  2500  is  tensor(292.5460, grad_fn=<DotBackward0>)\n",
      "Cost at iteration  3000  is  tensor(282.9603, grad_fn=<DotBackward0>)\n",
      "Cost at iteration  3500  is  tensor(298.1456, grad_fn=<DotBackward0>)\n",
      "Cost at iteration  4000  is  tensor(322.3936, grad_fn=<DotBackward0>)\n",
      "Cost at iteration  4500  is  tensor(354.8309, grad_fn=<DotBackward0>)\n",
      "Cost at iteration  5000  is  tensor(392.6669, grad_fn=<DotBackward0>)\n",
      "Cost at iteration  5500  is  tensor(444.1128, grad_fn=<DotBackward0>)\n",
      "Cost at iteration  6000  is  tensor(493.3877, grad_fn=<DotBackward0>)\n",
      "Cost at iteration  6500  is  tensor(542.5443, grad_fn=<DotBackward0>)\n",
      "Cost at iteration  7000  is  tensor(584.9503, grad_fn=<DotBackward0>)\n",
      "Cost at iteration  7500  is  tensor(620.6497, grad_fn=<DotBackward0>)\n",
      "Cost at iteration  8000  is  tensor(665.0656, grad_fn=<DotBackward0>)\n",
      "Cost at iteration  8500  is  tensor(689.1293, grad_fn=<DotBackward0>)\n",
      "Cost at iteration  9000  is  tensor(687.7178, grad_fn=<DotBackward0>)\n",
      "Cost at iteration  0  is  tensor(3665.1035, grad_fn=<DotBackward0>)\n",
      "Cost at iteration  500  is  tensor(3422.8455, grad_fn=<DotBackward0>)\n",
      "Cost at iteration  1000  is  tensor(2382.2791, grad_fn=<DotBackward0>)\n",
      "Cost at iteration  1500  is  tensor(808.5231, grad_fn=<DotBackward0>)\n",
      "Cost at iteration  2000  is  tensor(507.8284, grad_fn=<DotBackward0>)\n",
      "Cost at iteration  2500  is  tensor(443.8947, grad_fn=<DotBackward0>)\n",
      "Cost at iteration  3000  is  tensor(429.0957, grad_fn=<DotBackward0>)\n",
      "Cost at iteration  3500  is  tensor(423.7844, grad_fn=<DotBackward0>)\n",
      "Cost at iteration  4000  is  tensor(422.2493, grad_fn=<DotBackward0>)\n",
      "Cost at iteration  4500  is  tensor(438.5144, grad_fn=<DotBackward0>)\n",
      "Cost at iteration  5000  is  tensor(471.4584, grad_fn=<DotBackward0>)\n",
      "Cost at iteration  5500  is  tensor(522.5349, grad_fn=<DotBackward0>)\n",
      "Cost at iteration  6000  is  tensor(560.9200, grad_fn=<DotBackward0>)\n",
      "Cost at iteration  6500  is  tensor(583.7080, grad_fn=<DotBackward0>)\n",
      "Cost at iteration  7000  is  tensor(595.1386, grad_fn=<DotBackward0>)\n",
      "Cost at iteration  7500  is  tensor(606.0873, grad_fn=<DotBackward0>)\n",
      "Cost at iteration  8000  is  tensor(604.7930, grad_fn=<DotBackward0>)\n",
      "Cost at iteration  8500  is  tensor(573.9572, grad_fn=<DotBackward0>)\n",
      "Cost at iteration  9000  is  tensor(531.5912, grad_fn=<DotBackward0>)\n",
      "Cost at iteration  0  is  tensor(3665.0085, grad_fn=<DotBackward0>)\n",
      "Cost at iteration  500  is  tensor(3250.4324, grad_fn=<DotBackward0>)\n",
      "Cost at iteration  1000  is  tensor(1842.6447, grad_fn=<DotBackward0>)\n",
      "Cost at iteration  1500  is  tensor(448.7283, grad_fn=<DotBackward0>)\n",
      "Cost at iteration  2000  is  tensor(333.0075, grad_fn=<DotBackward0>)\n",
      "Cost at iteration  2500  is  tensor(331.7773, grad_fn=<DotBackward0>)\n",
      "Cost at iteration  3000  is  tensor(352.8577, grad_fn=<DotBackward0>)\n",
      "Cost at iteration  3500  is  tensor(366.8182, grad_fn=<DotBackward0>)\n",
      "Cost at iteration  4000  is  tensor(379.6125, grad_fn=<DotBackward0>)\n",
      "Cost at iteration  4500  is  tensor(399.6162, grad_fn=<DotBackward0>)\n",
      "Cost at iteration  5000  is  tensor(426.0188, grad_fn=<DotBackward0>)\n",
      "Cost at iteration  5500  is  tensor(454.0774, grad_fn=<DotBackward0>)\n",
      "Cost at iteration  6000  is  tensor(487.7380, grad_fn=<DotBackward0>)\n",
      "Cost at iteration  6500  is  tensor(513.6104, grad_fn=<DotBackward0>)\n",
      "Cost at iteration  7000  is  tensor(550.0342, grad_fn=<DotBackward0>)\n",
      "Cost at iteration  7500  is  tensor(628.2681, grad_fn=<DotBackward0>)\n",
      "Cost at iteration  8000  is  tensor(694.6737, grad_fn=<DotBackward0>)\n",
      "Cost at iteration  8500  is  tensor(726.1312, grad_fn=<DotBackward0>)\n",
      "Cost at iteration  9000  is  tensor(759.2308, grad_fn=<DotBackward0>)\n",
      "Cost at iteration  0  is  tensor(3665.1389, grad_fn=<DotBackward0>)\n",
      "Cost at iteration  500  is  tensor(3416.5803, grad_fn=<DotBackward0>)\n",
      "Cost at iteration  1000  is  tensor(2346.5015, grad_fn=<DotBackward0>)\n",
      "Cost at iteration  1500  is  tensor(768.8337, grad_fn=<DotBackward0>)\n",
      "Cost at iteration  2000  is  tensor(472.3156, grad_fn=<DotBackward0>)\n",
      "Cost at iteration  2500  is  tensor(432.1704, grad_fn=<DotBackward0>)\n",
      "Cost at iteration  3000  is  tensor(434.0715, grad_fn=<DotBackward0>)\n",
      "Cost at iteration  3500  is  tensor(446.0472, grad_fn=<DotBackward0>)\n",
      "Cost at iteration  4000  is  tensor(463.2725, grad_fn=<DotBackward0>)\n",
      "Cost at iteration  4500  is  tensor(489.3117, grad_fn=<DotBackward0>)\n",
      "Cost at iteration  5000  is  tensor(532.1338, grad_fn=<DotBackward0>)\n",
      "Cost at iteration  5500  is  tensor(571.2302, grad_fn=<DotBackward0>)\n",
      "Cost at iteration  6000  is  tensor(608.2086, grad_fn=<DotBackward0>)\n",
      "Cost at iteration  6500  is  tensor(647.4835, grad_fn=<DotBackward0>)\n",
      "Cost at iteration  7000  is  tensor(703.0676, grad_fn=<DotBackward0>)\n",
      "Cost at iteration  7500  is  tensor(748.6135, grad_fn=<DotBackward0>)\n",
      "Cost at iteration  8000  is  tensor(804.5272, grad_fn=<DotBackward0>)\n",
      "Cost at iteration  8500  is  tensor(871.3584, grad_fn=<DotBackward0>)\n",
      "Cost at iteration  9000  is  tensor(932.3926, grad_fn=<DotBackward0>)\n",
      "Cost at iteration  0  is  tensor(3665.1501, grad_fn=<DotBackward0>)\n",
      "Cost at iteration  500  is  tensor(3297.1240, grad_fn=<DotBackward0>)\n",
      "Cost at iteration  1000  is  tensor(1909.6689, grad_fn=<DotBackward0>)\n",
      "Cost at iteration  1500  is  tensor(412.3534, grad_fn=<DotBackward0>)\n",
      "Cost at iteration  2000  is  tensor(248.7415, grad_fn=<DotBackward0>)\n",
      "Cost at iteration  2500  is  tensor(198.3971, grad_fn=<DotBackward0>)\n",
      "Cost at iteration  3000  is  tensor(181.9021, grad_fn=<DotBackward0>)\n",
      "Cost at iteration  3500  is  tensor(185.4172, grad_fn=<DotBackward0>)\n",
      "Cost at iteration  4000  is  tensor(191.3622, grad_fn=<DotBackward0>)\n",
      "Cost at iteration  4500  is  tensor(206.4397, grad_fn=<DotBackward0>)\n",
      "Cost at iteration  5000  is  tensor(228.8173, grad_fn=<DotBackward0>)\n",
      "Cost at iteration  5500  is  tensor(252.1135, grad_fn=<DotBackward0>)\n",
      "Cost at iteration  6000  is  tensor(282.0436, grad_fn=<DotBackward0>)\n",
      "Cost at iteration  6500  is  tensor(311.9543, grad_fn=<DotBackward0>)\n",
      "Cost at iteration  7000  is  tensor(349.6938, grad_fn=<DotBackward0>)\n",
      "Cost at iteration  7500  is  tensor(388.9654, grad_fn=<DotBackward0>)\n",
      "Cost at iteration  8000  is  tensor(419.2233, grad_fn=<DotBackward0>)\n",
      "Cost at iteration  8500  is  tensor(439.4036, grad_fn=<DotBackward0>)\n",
      "Cost at iteration  9000  is  tensor(441.9421, grad_fn=<DotBackward0>)\n",
      "Cost at iteration  0  is  tensor(3665.0957, grad_fn=<DotBackward0>)\n",
      "Cost at iteration  500  is  tensor(3225.6917, grad_fn=<DotBackward0>)\n",
      "Cost at iteration  1000  is  tensor(1750.7875, grad_fn=<DotBackward0>)\n",
      "Cost at iteration  1500  is  tensor(476.5926, grad_fn=<DotBackward0>)\n",
      "Cost at iteration  2000  is  tensor(419.4350, grad_fn=<DotBackward0>)\n",
      "Cost at iteration  2500  is  tensor(393.0240, grad_fn=<DotBackward0>)\n",
      "Cost at iteration  3000  is  tensor(368.5519, grad_fn=<DotBackward0>)\n",
      "Cost at iteration  3500  is  tensor(353.2037, grad_fn=<DotBackward0>)\n",
      "Cost at iteration  4000  is  tensor(344.4167, grad_fn=<DotBackward0>)\n",
      "Cost at iteration  4500  is  tensor(369.3809, grad_fn=<DotBackward0>)\n",
      "Cost at iteration  5000  is  tensor(406.5937, grad_fn=<DotBackward0>)\n",
      "Cost at iteration  5500  is  tensor(431.2136, grad_fn=<DotBackward0>)\n",
      "Cost at iteration  6000  is  tensor(457.6924, grad_fn=<DotBackward0>)\n",
      "Cost at iteration  6500  is  tensor(483.5836, grad_fn=<DotBackward0>)\n",
      "Cost at iteration  7000  is  tensor(498.8076, grad_fn=<DotBackward0>)\n",
      "Cost at iteration  7500  is  tensor(492.7073, grad_fn=<DotBackward0>)\n",
      "Cost at iteration  8000  is  tensor(471.8155, grad_fn=<DotBackward0>)\n",
      "Cost at iteration  8500  is  tensor(460.1871, grad_fn=<DotBackward0>)\n",
      "Cost at iteration  9000  is  tensor(477.5747, grad_fn=<DotBackward0>)\n",
      "Cost at iteration  0  is  tensor(3665.0605, grad_fn=<DotBackward0>)\n",
      "Cost at iteration  500  is  tensor(3302.1855, grad_fn=<DotBackward0>)\n",
      "Cost at iteration  1000  is  tensor(1992.0020, grad_fn=<DotBackward0>)\n",
      "Cost at iteration  1500  is  tensor(419.3156, grad_fn=<DotBackward0>)\n",
      "Cost at iteration  2000  is  tensor(226.0457, grad_fn=<DotBackward0>)\n",
      "Cost at iteration  2500  is  tensor(189.5881, grad_fn=<DotBackward0>)\n",
      "Cost at iteration  3000  is  tensor(180.3660, grad_fn=<DotBackward0>)\n",
      "Cost at iteration  3500  is  tensor(193.3115, grad_fn=<DotBackward0>)\n",
      "Cost at iteration  4000  is  tensor(219.0576, grad_fn=<DotBackward0>)\n",
      "Cost at iteration  4500  is  tensor(257.8712, grad_fn=<DotBackward0>)\n",
      "Cost at iteration  5000  is  tensor(302.1207, grad_fn=<DotBackward0>)\n",
      "Cost at iteration  5500  is  tensor(359.6537, grad_fn=<DotBackward0>)\n",
      "Cost at iteration  6000  is  tensor(434.0461, grad_fn=<DotBackward0>)\n",
      "Cost at iteration  6500  is  tensor(519.2999, grad_fn=<DotBackward0>)\n",
      "Cost at iteration  7000  is  tensor(607.0911, grad_fn=<DotBackward0>)\n",
      "Cost at iteration  7500  is  tensor(698.3036, grad_fn=<DotBackward0>)\n",
      "Cost at iteration  8000  is  tensor(787.7338, grad_fn=<DotBackward0>)\n",
      "Cost at iteration  8500  is  tensor(879.3790, grad_fn=<DotBackward0>)\n",
      "Cost at iteration  9000  is  tensor(946.3124, grad_fn=<DotBackward0>)\n",
      "Cost at iteration  0  is  tensor(3665.1689, grad_fn=<DotBackward0>)\n",
      "Cost at iteration  500  is  tensor(3372.5757, grad_fn=<DotBackward0>)\n",
      "Cost at iteration  1000  is  tensor(2186.6931, grad_fn=<DotBackward0>)\n",
      "Cost at iteration  1500  is  tensor(700.8024, grad_fn=<DotBackward0>)\n",
      "Cost at iteration  2000  is  tensor(501.9283, grad_fn=<DotBackward0>)\n",
      "Cost at iteration  2500  is  tensor(425.2169, grad_fn=<DotBackward0>)\n",
      "Cost at iteration  3000  is  tensor(388.6668, grad_fn=<DotBackward0>)\n",
      "Cost at iteration  3500  is  tensor(377.3995, grad_fn=<DotBackward0>)\n",
      "Cost at iteration  4000  is  tensor(356.2329, grad_fn=<DotBackward0>)\n",
      "Cost at iteration  4500  is  tensor(360.8665, grad_fn=<DotBackward0>)\n",
      "Cost at iteration  5000  is  tensor(367.3660, grad_fn=<DotBackward0>)\n",
      "Cost at iteration  5500  is  tensor(357.6396, grad_fn=<DotBackward0>)\n",
      "Cost at iteration  6000  is  tensor(358.5640, grad_fn=<DotBackward0>)\n",
      "Cost at iteration  6500  is  tensor(367.7446, grad_fn=<DotBackward0>)\n",
      "Cost at iteration  7000  is  tensor(366.1241, grad_fn=<DotBackward0>)\n",
      "Cost at iteration  7500  is  tensor(356.0623, grad_fn=<DotBackward0>)\n",
      "Cost at iteration  8000  is  tensor(338.7507, grad_fn=<DotBackward0>)\n",
      "Cost at iteration  8500  is  tensor(334.0647, grad_fn=<DotBackward0>)\n",
      "Cost at iteration  9000  is  tensor(352.4171, grad_fn=<DotBackward0>)\n"
     ]
    }
   ],
   "source": [
    "costs = []\n",
    "for iter in range(10):\n",
    "    global b, D, Q\n",
    "    # set the seed\n",
    "    torch.manual_seed(iter)\n",
    "    np.random.seed(iter)\n",
    "\n",
    "    # reset the parameters\n",
    "    b = torch.tensor([2.0]*n, requires_grad=True)\n",
    "    D = []\n",
    "    Q = Q_theta(n, 1, 64)\n",
    "\n",
    "    # run the algorithm\n",
    "    final_cost, zoomcost = BaseMLP()\n",
    "    costs.append(final_cost)"
   ]
  },
  {
   "cell_type": "code",
   "execution_count": 18,
   "metadata": {},
   "outputs": [
    {
     "name": "stdout",
     "output_type": "stream",
     "text": [
      "[tensor(1358.6694, grad_fn=<DotBackward0>), tensor(533.9703, grad_fn=<DotBackward0>), tensor(653.7922, grad_fn=<DotBackward0>), tensor(499.6203, grad_fn=<DotBackward0>), tensor(828.4012, grad_fn=<DotBackward0>), tensor(960.8747, grad_fn=<DotBackward0>), tensor(422.8561, grad_fn=<DotBackward0>), tensor(505.8467, grad_fn=<DotBackward0>), tensor(977.1260, grad_fn=<DotBackward0>), tensor(390.4623, grad_fn=<DotBackward0>)]\n",
      "tensor(713.1619)\n"
     ]
    }
   ],
   "source": [
    "print(costs)\n",
    "# print the mean cost (they are tensor objects)\n",
    "print(torch.mean(torch.tensor(costs)))"
   ]
  },
  {
   "cell_type": "code",
   "execution_count": 19,
   "metadata": {},
   "outputs": [
    {
     "name": "stdout",
     "output_type": "stream",
     "text": [
      "[1358.6694   533.97034  653.79224  499.6203   828.40125  960.8747\n",
      "  422.85608  505.84674  977.126    390.46228]\n"
     ]
    }
   ],
   "source": [
    "# convert the costs to a numpy array using detach\n",
    "costs = torch.tensor(costs).detach().numpy()"
   ]
  },
  {
   "cell_type": "code",
   "execution_count": 27,
   "metadata": {},
   "outputs": [
    {
     "data": {
      "image/png": "[encoded data removed]",
      "text/plain": [
       "<Figure size 640x480 with 1 Axes>"
      ]
     },
     "metadata": {},
     "output_type": "display_data"
    }
   ],
   "source": [
    "# graph the costs\n",
    "import matplotlib.pyplot as plt\n",
    "plt.plot(costs)\n",
    "plt.xlabel('Iteration')\n",
    "plt.ylabel('Cost')\n",
    "plt.title('Base: Cost vs. Iteration')\n",
    "# plot the mean cost from the costs in the same graph\n",
    "mean = costs.mean()\n",
    "plt.axhline(y=mean, color='r', linestyle='-', label='Mean Cost')\n",
    "\n",
    "# plt.show()\n",
    "# save the figure\n",
    "plt.savefig('Base.png')"
   ]
  }
 ],
 "metadata": {
  "kernelspec": {
   "display_name": "Python 3",
   "language": "python",
   "name": "python3"
  },
  "language_info": {
   "codemirror_mode": {
    "name": "ipython",
    "version": 3
   },
   "file_extension": ".py",
   "mimetype": "text/x-python",
   "name": "python",
   "nbconvert_exporter": "python",
   "pygments_lexer": "ipython3",
   "version": "3.10.8"
  }
 },
 "nbformat": 4,
 "nbformat_minor": 2
}
