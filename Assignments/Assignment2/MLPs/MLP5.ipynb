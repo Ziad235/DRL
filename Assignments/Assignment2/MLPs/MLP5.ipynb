{
 "cells": [
  {
   "cell_type": "code",
   "execution_count": 36,
   "metadata": {},
   "outputs": [],
   "source": [
    "import torch\n",
    "import torch.nn as nn\n",
    "import torch.optim as optim\n",
    "import random\n",
    "import numpy as np\n",
    "from collections import deque"
   ]
  },
  {
   "cell_type": "code",
   "execution_count": 37,
   "metadata": {},
   "outputs": [],
   "source": [
    "# Parameters\n",
    "n = 30 # dimension of actions and/or cost matrix\n",
    "d = 500 # number of initial sample pairs\n",
    "total_samples = 10000 # number of total samples that can be used\n",
    "buff_size = 500 # buffer size of D to make use of newer experiences and limiting the effect of old ones by popping them\n",
    "alpha = 0.01 # learning rate for when performing gradient descent on b"
   ]
  },
  {
   "cell_type": "code",
   "execution_count": 38,
   "metadata": {},
   "outputs": [],
   "source": [
    "# Define what you want R to be\n",
    "R = np.identity(n) # identity matrix\n",
    "# R = generate_diagonally_dominant_positive_definite_matrix(n)\n",
    "R = torch.tensor(R, dtype=torch.float32)"
   ]
  },
  {
   "cell_type": "code",
   "execution_count": 39,
   "metadata": {},
   "outputs": [],
   "source": [
    "# Initialize b to all 2.0s\n",
    "b = torch.tensor([2.0]*n, requires_grad=True)"
   ]
  },
  {
   "cell_type": "code",
   "execution_count": 40,
   "metadata": {},
   "outputs": [],
   "source": [
    "# Initialize D to be empty deque\n",
    "D = deque(maxlen=buff_size)"
   ]
  },
  {
   "cell_type": "code",
   "execution_count": 41,
   "metadata": {},
   "outputs": [],
   "source": [
    "def generate_diagonally_dominant_positive_definite_matrix(size):\n",
    "    # add a seed to make the random matrix reproducible\n",
    "    np.random.seed(42)\n",
    "    A = np.random.rand(size, size)\n",
    "    A = A + np.diag(np.sum(np.abs(A), axis=1) + 1)\n",
    "    A = (A + A.T)/2\n",
    "    return A"
   ]
  },
  {
   "cell_type": "code",
   "execution_count": 42,
   "metadata": {},
   "outputs": [],
   "source": [
    "# Cost (reward) function a transpose R a\n",
    "def reward(a, R):\n",
    "    return torch.matmul(torch.matmul(a.T,R), a)"
   ]
  },
  {
   "cell_type": "code",
   "execution_count": 43,
   "metadata": {},
   "outputs": [],
   "source": [
    "# generate a random action given the target parameter b s.t. a = b + N(0,1) (make sure a has entries only [-2,2])\n",
    "def generate_action(b):\n",
    "    a = b + torch.normal(0,1,(n,))\n",
    "    return torch.clamp(a, -2, 2)"
   ]
  },
  {
   "cell_type": "code",
   "execution_count": 44,
   "metadata": {},
   "outputs": [],
   "source": [
    "# Function for gradient clipping\n",
    "def clip_gradients(theta, max_norm):\n",
    "    torch.nn.utils.clip_grad_norm_(theta, max_norm)"
   ]
  },
  {
   "cell_type": "code",
   "execution_count": 45,
   "metadata": {},
   "outputs": [],
   "source": [
    "# Defining simple MLP for Q where we can change the number of layers and the number of neurons in each layer\n",
    "class Q_theta(nn.Module):\n",
    "    def __init__(self, input_dim, output_dim, hidden_dim):\n",
    "        super(Q_theta, self).__init__()\n",
    "        self.network = nn.Sequential(\n",
    "            nn.Linear(input_dim, hidden_dim),\n",
    "            nn.ReLU(),\n",
    "            nn.Linear(hidden_dim, hidden_dim),\n",
    "            nn.ReLU(),\n",
    "            nn.Linear(hidden_dim, output_dim)\n",
    "        )\n",
    "\n",
    "    def forward(self, x):\n",
    "        return self.network(x)\n",
    "\n",
    "    def loss(self, minibatch):\n",
    "        loss = 0.0\n",
    "        for a,r in minibatch:\n",
    "            loss += (self.forward(a) - r)**2\n",
    "        loss = loss/len(minibatch)\n",
    "        return loss"
   ]
  },
  {
   "cell_type": "code",
   "execution_count": 46,
   "metadata": {},
   "outputs": [],
   "source": [
    "# Function to update the parameters of Q with one step of gradient descent\n",
    "def update_Q(minibatch, learning_rate, q_model, max_norm=None):\n",
    "    q_optimizer= optim.Adam(q_model.parameters(), lr=0.001)\n",
    "    q_optimizer.zero_grad()\n",
    "    loss = Q.loss(minibatch)\n",
    "    loss.backward(retain_graph=True)\n",
    "    if max_norm:\n",
    "        clip_gradients(Q.parameters(), max_norm)\n",
    "    q_optimizer.step()"
   ]
  },
  {
   "cell_type": "code",
   "execution_count": 47,
   "metadata": {},
   "outputs": [],
   "source": [
    "b_optimizer = optim.Adam([b], lr=0.001)"
   ]
  },
  {
   "cell_type": "code",
   "execution_count": 48,
   "metadata": {},
   "outputs": [],
   "source": [
    "# Define the optimizer for b outside the update_b function, just after b is initialized\n",
    "b_optimizer = optim.Adam([b], lr=0.001)\n",
    "\n",
    "# Modify the update_b function to use the optimizer\n",
    "def update_b(minibatch, Q, b, b_optimizer):\n",
    "    b_output = Q.forward(b)\n",
    "    b_grad = torch.autograd.grad(b_output, b, retain_graph=True)[0]\n",
    "\n",
    "    b_optimizer.zero_grad()\n",
    "    b_output.backward()\n",
    "    b_optimizer.step()\n",
    "\n",
    "    # gradient clipping\n",
    "    clip_gradients(b, 1)\n",
    "\n",
    "    # update b\n",
    "    with torch.no_grad():\n",
    "        b -= alpha * b_grad\n",
    "\n",
    "    return b\n"
   ]
  },
  {
   "cell_type": "code",
   "execution_count": 49,
   "metadata": {},
   "outputs": [],
   "source": [
    "# Variant 1: BaseMLP with dynamic buffer \n",
    "def MLP5():\n",
    "    global D, b, R\n",
    "\n",
    "    # list to store the costs to graph them\n",
    "    zoomcosts = {}\n",
    "    # Generate initial sample pairs\n",
    "    for i in range(d):\n",
    "        a = generate_action(b)\n",
    "        r = reward(a, R)\n",
    "        D.append((a,r))\n",
    "\n",
    "    for i in range(total_samples - d):\n",
    "\n",
    "        # generate a random action\n",
    "        a = generate_action(b)\n",
    "\n",
    "        # get the reward\n",
    "        r = reward(a, R)\n",
    "\n",
    "        # add the new sample pair to D\n",
    "        D.append((a,r))\n",
    "\n",
    "    # This is the variant area\n",
    "    #***************************************************************************************************\n",
    "        # Deque is full, so remove the oldest sample pair\n",
    "        if len(D) == buff_size:\n",
    "            D.popleft()\n",
    "    #***************************************************************************************************\n",
    "\n",
    "        # sample a minibatch from D\n",
    "        minibatch = random.sample(D, 32)\n",
    "\n",
    "        # update Q with one step of gradient descent\n",
    "        update_Q(minibatch, 0.1, Q, 1.0)\n",
    "\n",
    "        # update b with one step of gradient descent\n",
    "        b=update_b(minibatch, Q, b, b_optimizer)\n",
    "\n",
    "        # print thr reward every 1000 iterations\n",
    "        if i % 500 == 0:\n",
    "            print(\"Cost at iteration \", i, \" is \", reward(b, R))\n",
    "            zoomcosts[i] = reward(b, R)\n",
    "\n",
    "    # return the costs and the final b\n",
    "    return reward(b, R), zoomcosts"
   ]
  },
  {
   "cell_type": "code",
   "execution_count": 50,
   "metadata": {},
   "outputs": [
    {
     "name": "stdout",
     "output_type": "stream",
     "text": [
      "Cost at iteration  0  is  tensor(119.9965, grad_fn=<DotBackward0>)\n"
     ]
    },
    {
     "name": "stdout",
     "output_type": "stream",
     "text": [
      "Cost at iteration  500  is  tensor(5.0240, grad_fn=<DotBackward0>)\n",
      "Cost at iteration  1000  is  tensor(1.1983, grad_fn=<DotBackward0>)\n",
      "Cost at iteration  1500  is  tensor(0.5669, grad_fn=<DotBackward0>)\n",
      "Cost at iteration  2000  is  tensor(0.3547, grad_fn=<DotBackward0>)\n",
      "Cost at iteration  2500  is  tensor(0.3818, grad_fn=<DotBackward0>)\n",
      "Cost at iteration  3000  is  tensor(0.7799, grad_fn=<DotBackward0>)\n",
      "Cost at iteration  3500  is  tensor(1.2348, grad_fn=<DotBackward0>)\n",
      "Cost at iteration  4000  is  tensor(1.2517, grad_fn=<DotBackward0>)\n",
      "Cost at iteration  4500  is  tensor(1.4436, grad_fn=<DotBackward0>)\n",
      "Cost at iteration  5000  is  tensor(1.7735, grad_fn=<DotBackward0>)\n",
      "Cost at iteration  5500  is  tensor(2.0728, grad_fn=<DotBackward0>)\n",
      "Cost at iteration  6000  is  tensor(2.2237, grad_fn=<DotBackward0>)\n",
      "Cost at iteration  6500  is  tensor(2.4400, grad_fn=<DotBackward0>)\n",
      "Cost at iteration  7000  is  tensor(2.4695, grad_fn=<DotBackward0>)\n",
      "Cost at iteration  7500  is  tensor(2.6935, grad_fn=<DotBackward0>)\n",
      "Cost at iteration  8000  is  tensor(2.7289, grad_fn=<DotBackward0>)\n",
      "Cost at iteration  8500  is  tensor(3.2963, grad_fn=<DotBackward0>)\n",
      "Cost at iteration  9000  is  tensor(2.9702, grad_fn=<DotBackward0>)\n",
      "Cost at iteration  0  is  tensor(120.0010, grad_fn=<DotBackward0>)\n",
      "Cost at iteration  500  is  tensor(5.7077, grad_fn=<DotBackward0>)\n",
      "Cost at iteration  1000  is  tensor(1.4484, grad_fn=<DotBackward0>)\n",
      "Cost at iteration  1500  is  tensor(0.3060, grad_fn=<DotBackward0>)\n",
      "Cost at iteration  2000  is  tensor(0.3549, grad_fn=<DotBackward0>)\n",
      "Cost at iteration  2500  is  tensor(0.3753, grad_fn=<DotBackward0>)\n",
      "Cost at iteration  3000  is  tensor(0.3587, grad_fn=<DotBackward0>)\n",
      "Cost at iteration  3500  is  tensor(0.3582, grad_fn=<DotBackward0>)\n",
      "Cost at iteration  4000  is  tensor(0.3582, grad_fn=<DotBackward0>)\n",
      "Cost at iteration  4500  is  tensor(0.3582, grad_fn=<DotBackward0>)\n",
      "Cost at iteration  5000  is  tensor(0.3582, grad_fn=<DotBackward0>)\n",
      "Cost at iteration  5500  is  tensor(0.3582, grad_fn=<DotBackward0>)\n",
      "Cost at iteration  6000  is  tensor(0.3582, grad_fn=<DotBackward0>)\n",
      "Cost at iteration  6500  is  tensor(0.3582, grad_fn=<DotBackward0>)\n",
      "Cost at iteration  7000  is  tensor(1.6215, grad_fn=<DotBackward0>)\n",
      "Cost at iteration  7500  is  tensor(1.6412, grad_fn=<DotBackward0>)\n",
      "Cost at iteration  8000  is  tensor(2.0533, grad_fn=<DotBackward0>)\n",
      "Cost at iteration  8500  is  tensor(1.9920, grad_fn=<DotBackward0>)\n",
      "Cost at iteration  9000  is  tensor(1.5874, grad_fn=<DotBackward0>)\n",
      "Cost at iteration  0  is  tensor(119.9964, grad_fn=<DotBackward0>)\n",
      "Cost at iteration  500  is  tensor(4.6778, grad_fn=<DotBackward0>)\n",
      "Cost at iteration  1000  is  tensor(2.1792, grad_fn=<DotBackward0>)\n",
      "Cost at iteration  1500  is  tensor(0.6586, grad_fn=<DotBackward0>)\n",
      "Cost at iteration  2000  is  tensor(0.4242, grad_fn=<DotBackward0>)\n",
      "Cost at iteration  2500  is  tensor(0.4777, grad_fn=<DotBackward0>)\n",
      "Cost at iteration  3000  is  tensor(0.6836, grad_fn=<DotBackward0>)\n",
      "Cost at iteration  3500  is  tensor(1.1206, grad_fn=<DotBackward0>)\n",
      "Cost at iteration  4000  is  tensor(1.4449, grad_fn=<DotBackward0>)\n",
      "Cost at iteration  4500  is  tensor(1.7369, grad_fn=<DotBackward0>)\n",
      "Cost at iteration  5000  is  tensor(1.8655, grad_fn=<DotBackward0>)\n",
      "Cost at iteration  5500  is  tensor(1.8523, grad_fn=<DotBackward0>)\n",
      "Cost at iteration  6000  is  tensor(2.0065, grad_fn=<DotBackward0>)\n",
      "Cost at iteration  6500  is  tensor(2.1761, grad_fn=<DotBackward0>)\n",
      "Cost at iteration  7000  is  tensor(2.2650, grad_fn=<DotBackward0>)\n",
      "Cost at iteration  7500  is  tensor(2.4109, grad_fn=<DotBackward0>)\n",
      "Cost at iteration  8000  is  tensor(2.5212, grad_fn=<DotBackward0>)\n",
      "Cost at iteration  8500  is  tensor(2.4842, grad_fn=<DotBackward0>)\n",
      "Cost at iteration  9000  is  tensor(2.2208, grad_fn=<DotBackward0>)\n",
      "Cost at iteration  0  is  tensor(119.9982, grad_fn=<DotBackward0>)\n",
      "Cost at iteration  500  is  tensor(6.8908, grad_fn=<DotBackward0>)\n",
      "Cost at iteration  1000  is  tensor(2.1168, grad_fn=<DotBackward0>)\n",
      "Cost at iteration  1500  is  tensor(1.3305, grad_fn=<DotBackward0>)\n",
      "Cost at iteration  2000  is  tensor(0.5170, grad_fn=<DotBackward0>)\n",
      "Cost at iteration  2500  is  tensor(0.4332, grad_fn=<DotBackward0>)\n",
      "Cost at iteration  3000  is  tensor(0.4401, grad_fn=<DotBackward0>)\n",
      "Cost at iteration  3500  is  tensor(0.9676, grad_fn=<DotBackward0>)\n",
      "Cost at iteration  4000  is  tensor(1.3266, grad_fn=<DotBackward0>)\n",
      "Cost at iteration  4500  is  tensor(1.3697, grad_fn=<DotBackward0>)\n",
      "Cost at iteration  5000  is  tensor(1.3607, grad_fn=<DotBackward0>)\n",
      "Cost at iteration  5500  is  tensor(1.4284, grad_fn=<DotBackward0>)\n",
      "Cost at iteration  6000  is  tensor(1.7929, grad_fn=<DotBackward0>)\n",
      "Cost at iteration  6500  is  tensor(1.9954, grad_fn=<DotBackward0>)\n",
      "Cost at iteration  7000  is  tensor(2.2112, grad_fn=<DotBackward0>)\n",
      "Cost at iteration  7500  is  tensor(2.2466, grad_fn=<DotBackward0>)\n",
      "Cost at iteration  8000  is  tensor(2.4613, grad_fn=<DotBackward0>)\n",
      "Cost at iteration  8500  is  tensor(2.3010, grad_fn=<DotBackward0>)\n",
      "Cost at iteration  9000  is  tensor(2.0890, grad_fn=<DotBackward0>)\n",
      "Cost at iteration  0  is  tensor(119.9943, grad_fn=<DotBackward0>)\n",
      "Cost at iteration  500  is  tensor(6.6444, grad_fn=<DotBackward0>)\n",
      "Cost at iteration  1000  is  tensor(1.4242, grad_fn=<DotBackward0>)\n",
      "Cost at iteration  1500  is  tensor(0.5653, grad_fn=<DotBackward0>)\n",
      "Cost at iteration  2000  is  tensor(0.4763, grad_fn=<DotBackward0>)\n",
      "Cost at iteration  2500  is  tensor(0.4081, grad_fn=<DotBackward0>)\n",
      "Cost at iteration  3000  is  tensor(0.5144, grad_fn=<DotBackward0>)\n",
      "Cost at iteration  3500  is  tensor(0.7624, grad_fn=<DotBackward0>)\n",
      "Cost at iteration  4000  is  tensor(1.1749, grad_fn=<DotBackward0>)\n",
      "Cost at iteration  4500  is  tensor(1.2847, grad_fn=<DotBackward0>)\n",
      "Cost at iteration  5000  is  tensor(1.4891, grad_fn=<DotBackward0>)\n",
      "Cost at iteration  5500  is  tensor(1.7356, grad_fn=<DotBackward0>)\n",
      "Cost at iteration  6000  is  tensor(1.6487, grad_fn=<DotBackward0>)\n",
      "Cost at iteration  6500  is  tensor(1.7060, grad_fn=<DotBackward0>)\n",
      "Cost at iteration  7000  is  tensor(1.8285, grad_fn=<DotBackward0>)\n",
      "Cost at iteration  7500  is  tensor(1.7626, grad_fn=<DotBackward0>)\n",
      "Cost at iteration  8000  is  tensor(1.8562, grad_fn=<DotBackward0>)\n",
      "Cost at iteration  8500  is  tensor(2.0457, grad_fn=<DotBackward0>)\n",
      "Cost at iteration  9000  is  tensor(2.0942, grad_fn=<DotBackward0>)\n",
      "Cost at iteration  0  is  tensor(119.9993, grad_fn=<DotBackward0>)\n",
      "Cost at iteration  500  is  tensor(2.7448, grad_fn=<DotBackward0>)\n",
      "Cost at iteration  1000  is  tensor(0.8891, grad_fn=<DotBackward0>)\n",
      "Cost at iteration  1500  is  tensor(0.3458, grad_fn=<DotBackward0>)\n",
      "Cost at iteration  2000  is  tensor(0.3531, grad_fn=<DotBackward0>)\n",
      "Cost at iteration  2500  is  tensor(0.3563, grad_fn=<DotBackward0>)\n",
      "Cost at iteration  3000  is  tensor(0.9818, grad_fn=<DotBackward0>)\n",
      "Cost at iteration  3500  is  tensor(1.3188, grad_fn=<DotBackward0>)\n",
      "Cost at iteration  4000  is  tensor(1.7415, grad_fn=<DotBackward0>)\n",
      "Cost at iteration  4500  is  tensor(2.0581, grad_fn=<DotBackward0>)\n",
      "Cost at iteration  5000  is  tensor(2.3630, grad_fn=<DotBackward0>)\n",
      "Cost at iteration  5500  is  tensor(2.4388, grad_fn=<DotBackward0>)\n",
      "Cost at iteration  6000  is  tensor(2.6600, grad_fn=<DotBackward0>)\n",
      "Cost at iteration  6500  is  tensor(2.8536, grad_fn=<DotBackward0>)\n",
      "Cost at iteration  7000  is  tensor(2.6002, grad_fn=<DotBackward0>)\n",
      "Cost at iteration  7500  is  tensor(2.5362, grad_fn=<DotBackward0>)\n",
      "Cost at iteration  8000  is  tensor(2.3532, grad_fn=<DotBackward0>)\n",
      "Cost at iteration  8500  is  tensor(2.4415, grad_fn=<DotBackward0>)\n",
      "Cost at iteration  9000  is  tensor(2.4116, grad_fn=<DotBackward0>)\n",
      "Cost at iteration  0  is  tensor(119.9990, grad_fn=<DotBackward0>)\n",
      "Cost at iteration  500  is  tensor(6.7460, grad_fn=<DotBackward0>)\n",
      "Cost at iteration  1000  is  tensor(1.6185, grad_fn=<DotBackward0>)\n",
      "Cost at iteration  1500  is  tensor(0.6512, grad_fn=<DotBackward0>)\n",
      "Cost at iteration  2000  is  tensor(0.5067, grad_fn=<DotBackward0>)\n",
      "Cost at iteration  2500  is  tensor(0.5826, grad_fn=<DotBackward0>)\n",
      "Cost at iteration  3000  is  tensor(0.5700, grad_fn=<DotBackward0>)\n",
      "Cost at iteration  3500  is  tensor(0.5680, grad_fn=<DotBackward0>)\n",
      "Cost at iteration  4000  is  tensor(0.6854, grad_fn=<DotBackward0>)\n",
      "Cost at iteration  4500  is  tensor(0.8129, grad_fn=<DotBackward0>)\n",
      "Cost at iteration  5000  is  tensor(0.9260, grad_fn=<DotBackward0>)\n",
      "Cost at iteration  5500  is  tensor(0.9514, grad_fn=<DotBackward0>)\n",
      "Cost at iteration  6000  is  tensor(0.9041, grad_fn=<DotBackward0>)\n",
      "Cost at iteration  6500  is  tensor(0.8789, grad_fn=<DotBackward0>)\n",
      "Cost at iteration  7000  is  tensor(0.8891, grad_fn=<DotBackward0>)\n",
      "Cost at iteration  7500  is  tensor(0.9939, grad_fn=<DotBackward0>)\n",
      "Cost at iteration  8000  is  tensor(0.9624, grad_fn=<DotBackward0>)\n",
      "Cost at iteration  8500  is  tensor(1.0514, grad_fn=<DotBackward0>)\n",
      "Cost at iteration  9000  is  tensor(1.2984, grad_fn=<DotBackward0>)\n",
      "Cost at iteration  0  is  tensor(119.9974, grad_fn=<DotBackward0>)\n",
      "Cost at iteration  500  is  tensor(5.3426, grad_fn=<DotBackward0>)\n",
      "Cost at iteration  1000  is  tensor(2.6291, grad_fn=<DotBackward0>)\n",
      "Cost at iteration  1500  is  tensor(0.4512, grad_fn=<DotBackward0>)\n",
      "Cost at iteration  2000  is  tensor(0.4954, grad_fn=<DotBackward0>)\n",
      "Cost at iteration  2500  is  tensor(0.3995, grad_fn=<DotBackward0>)\n",
      "Cost at iteration  3000  is  tensor(0.3955, grad_fn=<DotBackward0>)\n",
      "Cost at iteration  3500  is  tensor(0.4016, grad_fn=<DotBackward0>)\n",
      "Cost at iteration  4000  is  tensor(0.4828, grad_fn=<DotBackward0>)\n",
      "Cost at iteration  4500  is  tensor(0.5087, grad_fn=<DotBackward0>)\n",
      "Cost at iteration  5000  is  tensor(0.6113, grad_fn=<DotBackward0>)\n",
      "Cost at iteration  5500  is  tensor(0.7549, grad_fn=<DotBackward0>)\n",
      "Cost at iteration  6000  is  tensor(0.7674, grad_fn=<DotBackward0>)\n",
      "Cost at iteration  6500  is  tensor(0.9355, grad_fn=<DotBackward0>)\n",
      "Cost at iteration  7000  is  tensor(1.0446, grad_fn=<DotBackward0>)\n",
      "Cost at iteration  7500  is  tensor(1.0663, grad_fn=<DotBackward0>)\n",
      "Cost at iteration  8000  is  tensor(0.9917, grad_fn=<DotBackward0>)\n",
      "Cost at iteration  8500  is  tensor(1.1139, grad_fn=<DotBackward0>)\n",
      "Cost at iteration  9000  is  tensor(0.9697, grad_fn=<DotBackward0>)\n",
      "Cost at iteration  0  is  tensor(119.9966, grad_fn=<DotBackward0>)\n",
      "Cost at iteration  500  is  tensor(5.6166, grad_fn=<DotBackward0>)\n",
      "Cost at iteration  1000  is  tensor(1.6479, grad_fn=<DotBackward0>)\n",
      "Cost at iteration  1500  is  tensor(0.4989, grad_fn=<DotBackward0>)\n",
      "Cost at iteration  2000  is  tensor(0.2686, grad_fn=<DotBackward0>)\n",
      "Cost at iteration  2500  is  tensor(0.2307, grad_fn=<DotBackward0>)\n",
      "Cost at iteration  3000  is  tensor(0.2222, grad_fn=<DotBackward0>)\n",
      "Cost at iteration  3500  is  tensor(0.2222, grad_fn=<DotBackward0>)\n",
      "Cost at iteration  4000  is  tensor(0.2222, grad_fn=<DotBackward0>)\n",
      "Cost at iteration  4500  is  tensor(0.2222, grad_fn=<DotBackward0>)\n",
      "Cost at iteration  5000  is  tensor(0.2641, grad_fn=<DotBackward0>)\n",
      "Cost at iteration  5500  is  tensor(0.2539, grad_fn=<DotBackward0>)\n",
      "Cost at iteration  6000  is  tensor(0.2518, grad_fn=<DotBackward0>)\n",
      "Cost at iteration  6500  is  tensor(0.3505, grad_fn=<DotBackward0>)\n",
      "Cost at iteration  7000  is  tensor(0.6217, grad_fn=<DotBackward0>)\n",
      "Cost at iteration  7500  is  tensor(0.8903, grad_fn=<DotBackward0>)\n",
      "Cost at iteration  8000  is  tensor(0.9190, grad_fn=<DotBackward0>)\n",
      "Cost at iteration  8500  is  tensor(0.9691, grad_fn=<DotBackward0>)\n",
      "Cost at iteration  9000  is  tensor(1.0458, grad_fn=<DotBackward0>)\n",
      "Cost at iteration  0  is  tensor(120.0000, grad_fn=<DotBackward0>)\n",
      "Cost at iteration  500  is  tensor(5.8034, grad_fn=<DotBackward0>)\n",
      "Cost at iteration  1000  is  tensor(2.6080, grad_fn=<DotBackward0>)\n",
      "Cost at iteration  1500  is  tensor(0.4741, grad_fn=<DotBackward0>)\n",
      "Cost at iteration  2000  is  tensor(0.3484, grad_fn=<DotBackward0>)\n",
      "Cost at iteration  2500  is  tensor(0.5051, grad_fn=<DotBackward0>)\n",
      "Cost at iteration  3000  is  tensor(0.8002, grad_fn=<DotBackward0>)\n",
      "Cost at iteration  3500  is  tensor(1.4032, grad_fn=<DotBackward0>)\n",
      "Cost at iteration  4000  is  tensor(1.6356, grad_fn=<DotBackward0>)\n",
      "Cost at iteration  4500  is  tensor(1.7435, grad_fn=<DotBackward0>)\n",
      "Cost at iteration  5000  is  tensor(2.0153, grad_fn=<DotBackward0>)\n",
      "Cost at iteration  5500  is  tensor(2.4137, grad_fn=<DotBackward0>)\n",
      "Cost at iteration  6000  is  tensor(2.5236, grad_fn=<DotBackward0>)\n",
      "Cost at iteration  6500  is  tensor(2.4279, grad_fn=<DotBackward0>)\n",
      "Cost at iteration  7000  is  tensor(2.3224, grad_fn=<DotBackward0>)\n",
      "Cost at iteration  7500  is  tensor(2.3277, grad_fn=<DotBackward0>)\n",
      "Cost at iteration  8000  is  tensor(1.9960, grad_fn=<DotBackward0>)\n",
      "Cost at iteration  8500  is  tensor(2.0673, grad_fn=<DotBackward0>)\n",
      "Cost at iteration  9000  is  tensor(2.3538, grad_fn=<DotBackward0>)\n"
     ]
    }
   ],
   "source": [
    "# this variant adds optimization to the b parameter\n",
    "costs = []\n",
    "for iter in range(10):\n",
    "    global b, D, Q\n",
    "    # set the seed\n",
    "    torch.manual_seed(iter)\n",
    "    np.random.seed(iter)\n",
    "\n",
    "    # reset the parameters\n",
    "    b = torch.tensor([2.0]*n, requires_grad=True)\n",
    "    D = deque(maxlen=buff_size)\n",
    "    Q = Q_theta(n, 1, 64)\n",
    "\n",
    "    # run the algorithm\n",
    "    final_cost, zoomcost = MLP5()\n",
    "    costs.append(final_cost)"
   ]
  },
  {
   "cell_type": "code",
   "execution_count": 54,
   "metadata": {},
   "outputs": [
    {
     "name": "stdout",
     "output_type": "stream",
     "text": [
      "[2.7190206 1.88119   2.263811  2.2020028 1.8237634 2.7476432 1.5139319\n",
      " 0.84973   1.3213087 2.678256 ]\n",
      "tensor(2.0001)\n"
     ]
    }
   ],
   "source": [
    "print(costs)\n",
    "# print the mean cost (they are tensor objects)\n",
    "print(torch.mean(torch.tensor(costs)))"
   ]
  },
  {
   "cell_type": "code",
   "execution_count": 55,
   "metadata": {},
   "outputs": [
    {
     "name": "stdout",
     "output_type": "stream",
     "text": [
      "[2.7190206 1.88119   2.263811  2.2020028 1.8237634 2.7476432 1.5139319\n",
      " 0.84973   1.3213087 2.678256 ]\n",
      "tensor(2.0001)\n"
     ]
    },
    {
     "data": {
      "image/png": "[encoded data removed]",
      "text/plain": [
       "<Figure size 640x480 with 1 Axes>"
      ]
     },
     "metadata": {},
     "output_type": "display_data"
    }
   ],
   "source": [
    "print(costs)\n",
    "# print the mean cost (they are tensor objects)\n",
    "print(torch.mean(torch.tensor(costs)))\n",
    "# convert the costs to a numpy array using detach\n",
    "costs = torch.tensor(costs).detach().numpy()\n",
    "# graph the costs\n",
    "import matplotlib.pyplot as plt\n",
    "plt.plot(costs)\n",
    "plt.xlabel('Iteration')\n",
    "plt.ylabel('Cost')\n",
    "plt.title('MLP5: Cost vs. Iteration')\n",
    "mean = costs.mean()\n",
    "plt.axhline(y=mean, color='r', linestyle='-', label='Mean Cost')\n",
    "# plt.show()\n",
    "# save the figure\n",
    "plt.savefig('MLP5.png')"
   ]
  },
  {
   "cell_type": "code",
   "execution_count": 53,
   "metadata": {},
   "outputs": [
    {
     "name": "stdout",
     "output_type": "stream",
     "text": [
      "{0: tensor(120.0000, grad_fn=<DotBackward0>), 500: tensor(5.8034, grad_fn=<DotBackward0>), 1000: tensor(2.6080, grad_fn=<DotBackward0>), 1500: tensor(0.4741, grad_fn=<DotBackward0>), 2000: tensor(0.3484, grad_fn=<DotBackward0>), 2500: tensor(0.5051, grad_fn=<DotBackward0>), 3000: tensor(0.8002, grad_fn=<DotBackward0>), 3500: tensor(1.4032, grad_fn=<DotBackward0>), 4000: tensor(1.6356, grad_fn=<DotBackward0>), 4500: tensor(1.7435, grad_fn=<DotBackward0>), 5000: tensor(2.0153, grad_fn=<DotBackward0>), 5500: tensor(2.4137, grad_fn=<DotBackward0>), 6000: tensor(2.5236, grad_fn=<DotBackward0>), 6500: tensor(2.4279, grad_fn=<DotBackward0>), 7000: tensor(2.3224, grad_fn=<DotBackward0>), 7500: tensor(2.3277, grad_fn=<DotBackward0>), 8000: tensor(1.9960, grad_fn=<DotBackward0>), 8500: tensor(2.0673, grad_fn=<DotBackward0>), 9000: tensor(2.3538, grad_fn=<DotBackward0>)}\n"
     ]
    }
   ],
   "source": [
    "# convert zoomcost to a regular dictionary\n",
    "zoomcost = dict(zoomcost)\n",
    "\n",
    "# convert the zoomcosts to a python dictionary\n",
    "\n",
    "def tensors_to_numpy(tensor_dict):\n",
    "    numpy_dict = {}\n",
    "    for key, tensor in tensor_dict.items():\n",
    "        # Ensure tensor is on CPU before converting\n",
    "        numpy_dict[key] = tensor.cpu().numpy()\n",
    "    return numpy_dict\n",
    "\n",
    "# convert the zoomcosts to a regular dictionary\n",
    "# zoomcost = tensors_to_numpy(zoomcost)\n",
    "print(zoomcost)"
   ]
  }
 ],
 "metadata": {
  "kernelspec": {
   "display_name": "Python 3",
   "language": "python",
   "name": "python3"
  },
  "language_info": {
   "codemirror_mode": {
    "name": "ipython",
    "version": 3
   },
   "file_extension": ".py",
   "mimetype": "text/x-python",
   "name": "python",
   "nbconvert_exporter": "python",
   "pygments_lexer": "ipython3",
   "version": "3.10.8"
  }
 },
 "nbformat": 4,
 "nbformat_minor": 2
}
